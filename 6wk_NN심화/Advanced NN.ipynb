{
 "cells": [
  {
   "cell_type": "code",
   "execution_count": 1,
   "id": "62251c53",
   "metadata": {
    "scrolled": true
   },
   "outputs": [],
   "source": [
    "import numpy as np\n",
    "import pandas as pd\n",
    "import matplotlib.pyplot as plt\n",
    "\n",
    "import tensorflow as tf\n",
    "from tensorflow import keras\n",
    "\n",
    "import warnings\n",
    "warnings.filterwarnings(action='ignore')"
   ]
  },
  {
   "cell_type": "code",
   "execution_count": 2,
   "id": "4841fd61",
   "metadata": {
    "scrolled": true
   },
   "outputs": [],
   "source": [
    "data_dir = 'C:/Users/User/OneDrive/바탕 화면/Tobigs/교안/6주차/Week6_NN심화_Assignment/'"
   ]
  },
  {
   "cell_type": "markdown",
   "id": "ffc62312",
   "metadata": {},
   "source": [
    "# 데이터 확인"
   ]
  },
  {
   "cell_type": "code",
   "execution_count": 3,
   "id": "59ace600",
   "metadata": {
    "scrolled": true
   },
   "outputs": [],
   "source": [
    "train = pd.read_csv(data_dir + 'Train.csv')\n",
    "test = pd.read_csv(data_dir + 'Test.csv')\n",
    "submission = pd.read_csv(data_dir + 'submission.csv')"
   ]
  },
  {
   "cell_type": "code",
   "execution_count": 4,
   "id": "5fe231c0",
   "metadata": {
    "scrolled": true
   },
   "outputs": [
    {
     "data": {
      "text/html": [
       "<div>\n",
       "<style scoped>\n",
       "    .dataframe tbody tr th:only-of-type {\n",
       "        vertical-align: middle;\n",
       "    }\n",
       "\n",
       "    .dataframe tbody tr th {\n",
       "        vertical-align: top;\n",
       "    }\n",
       "\n",
       "    .dataframe thead th {\n",
       "        text-align: right;\n",
       "    }\n",
       "</style>\n",
       "<table border=\"1\" class=\"dataframe\">\n",
       "  <thead>\n",
       "    <tr style=\"text-align: right;\">\n",
       "      <th></th>\n",
       "      <th>0</th>\n",
       "      <th>1</th>\n",
       "      <th>2</th>\n",
       "      <th>3</th>\n",
       "      <th>4</th>\n",
       "      <th>5</th>\n",
       "      <th>6</th>\n",
       "      <th>7</th>\n",
       "      <th>8</th>\n",
       "      <th>9</th>\n",
       "      <th>...</th>\n",
       "      <th>775</th>\n",
       "      <th>776</th>\n",
       "      <th>777</th>\n",
       "      <th>778</th>\n",
       "      <th>779</th>\n",
       "      <th>780</th>\n",
       "      <th>781</th>\n",
       "      <th>782</th>\n",
       "      <th>783</th>\n",
       "      <th>label</th>\n",
       "    </tr>\n",
       "  </thead>\n",
       "  <tbody>\n",
       "    <tr>\n",
       "      <th>0</th>\n",
       "      <td>0</td>\n",
       "      <td>0</td>\n",
       "      <td>0</td>\n",
       "      <td>0</td>\n",
       "      <td>0</td>\n",
       "      <td>0</td>\n",
       "      <td>0</td>\n",
       "      <td>0</td>\n",
       "      <td>0</td>\n",
       "      <td>0</td>\n",
       "      <td>...</td>\n",
       "      <td>0</td>\n",
       "      <td>0</td>\n",
       "      <td>0</td>\n",
       "      <td>0</td>\n",
       "      <td>0</td>\n",
       "      <td>0</td>\n",
       "      <td>0</td>\n",
       "      <td>0</td>\n",
       "      <td>0</td>\n",
       "      <td>1</td>\n",
       "    </tr>\n",
       "    <tr>\n",
       "      <th>1</th>\n",
       "      <td>0</td>\n",
       "      <td>0</td>\n",
       "      <td>0</td>\n",
       "      <td>0</td>\n",
       "      <td>0</td>\n",
       "      <td>0</td>\n",
       "      <td>0</td>\n",
       "      <td>0</td>\n",
       "      <td>0</td>\n",
       "      <td>0</td>\n",
       "      <td>...</td>\n",
       "      <td>0</td>\n",
       "      <td>0</td>\n",
       "      <td>0</td>\n",
       "      <td>0</td>\n",
       "      <td>0</td>\n",
       "      <td>0</td>\n",
       "      <td>0</td>\n",
       "      <td>0</td>\n",
       "      <td>0</td>\n",
       "      <td>3</td>\n",
       "    </tr>\n",
       "    <tr>\n",
       "      <th>2</th>\n",
       "      <td>0</td>\n",
       "      <td>0</td>\n",
       "      <td>0</td>\n",
       "      <td>0</td>\n",
       "      <td>0</td>\n",
       "      <td>0</td>\n",
       "      <td>0</td>\n",
       "      <td>0</td>\n",
       "      <td>0</td>\n",
       "      <td>0</td>\n",
       "      <td>...</td>\n",
       "      <td>0</td>\n",
       "      <td>0</td>\n",
       "      <td>0</td>\n",
       "      <td>0</td>\n",
       "      <td>0</td>\n",
       "      <td>0</td>\n",
       "      <td>0</td>\n",
       "      <td>0</td>\n",
       "      <td>0</td>\n",
       "      <td>8</td>\n",
       "    </tr>\n",
       "    <tr>\n",
       "      <th>3</th>\n",
       "      <td>0</td>\n",
       "      <td>0</td>\n",
       "      <td>0</td>\n",
       "      <td>0</td>\n",
       "      <td>0</td>\n",
       "      <td>0</td>\n",
       "      <td>0</td>\n",
       "      <td>0</td>\n",
       "      <td>0</td>\n",
       "      <td>0</td>\n",
       "      <td>...</td>\n",
       "      <td>0</td>\n",
       "      <td>0</td>\n",
       "      <td>0</td>\n",
       "      <td>0</td>\n",
       "      <td>0</td>\n",
       "      <td>0</td>\n",
       "      <td>0</td>\n",
       "      <td>0</td>\n",
       "      <td>0</td>\n",
       "      <td>7</td>\n",
       "    </tr>\n",
       "    <tr>\n",
       "      <th>4</th>\n",
       "      <td>0</td>\n",
       "      <td>0</td>\n",
       "      <td>0</td>\n",
       "      <td>0</td>\n",
       "      <td>0</td>\n",
       "      <td>0</td>\n",
       "      <td>0</td>\n",
       "      <td>0</td>\n",
       "      <td>0</td>\n",
       "      <td>0</td>\n",
       "      <td>...</td>\n",
       "      <td>0</td>\n",
       "      <td>0</td>\n",
       "      <td>0</td>\n",
       "      <td>0</td>\n",
       "      <td>0</td>\n",
       "      <td>0</td>\n",
       "      <td>0</td>\n",
       "      <td>0</td>\n",
       "      <td>0</td>\n",
       "      <td>5</td>\n",
       "    </tr>\n",
       "  </tbody>\n",
       "</table>\n",
       "<p>5 rows × 785 columns</p>\n",
       "</div>"
      ],
      "text/plain": [
       "   0  1  2  3  4  5  6  7  8  9  ...  775  776  777  778  779  780  781  782  \\\n",
       "0  0  0  0  0  0  0  0  0  0  0  ...    0    0    0    0    0    0    0    0   \n",
       "1  0  0  0  0  0  0  0  0  0  0  ...    0    0    0    0    0    0    0    0   \n",
       "2  0  0  0  0  0  0  0  0  0  0  ...    0    0    0    0    0    0    0    0   \n",
       "3  0  0  0  0  0  0  0  0  0  0  ...    0    0    0    0    0    0    0    0   \n",
       "4  0  0  0  0  0  0  0  0  0  0  ...    0    0    0    0    0    0    0    0   \n",
       "\n",
       "   783  label  \n",
       "0    0      1  \n",
       "1    0      3  \n",
       "2    0      8  \n",
       "3    0      7  \n",
       "4    0      5  \n",
       "\n",
       "[5 rows x 785 columns]"
      ]
     },
     "execution_count": 4,
     "metadata": {},
     "output_type": "execute_result"
    }
   ],
   "source": [
    "train.head()"
   ]
  },
  {
   "cell_type": "code",
   "execution_count": 7,
   "id": "a4dfdc35",
   "metadata": {
    "scrolled": true
   },
   "outputs": [
    {
     "data": {
      "text/plain": [
       "10"
      ]
     },
     "execution_count": 7,
     "metadata": {},
     "output_type": "execute_result"
    }
   ],
   "source": [
    "train['label'].nunique()"
   ]
  },
  {
   "cell_type": "markdown",
   "id": "d44cd331",
   "metadata": {},
   "source": [
    "Label 0 : T-shirt/top\n",
    "\n",
    "Label 1 : Trouser\n",
    "\n",
    "Label 2 : Pullover\n",
    "\n",
    "Label 3 : Dress\n",
    "\n",
    "Label 4 : Coat\n",
    "\n",
    "Label 5 : Sandal\n",
    "\n",
    "Label 6 : Shirt\n",
    "\n",
    "Label 7 : Sneaker\n",
    "\n",
    "Label 8 : Bag\n",
    "\n",
    "Label 9 : Ankle boot"
   ]
  },
  {
   "cell_type": "code",
   "execution_count": 9,
   "id": "dbdd808f",
   "metadata": {
    "scrolled": true
   },
   "outputs": [
    {
     "data": {
      "text/html": [
       "<div>\n",
       "<style scoped>\n",
       "    .dataframe tbody tr th:only-of-type {\n",
       "        vertical-align: middle;\n",
       "    }\n",
       "\n",
       "    .dataframe tbody tr th {\n",
       "        vertical-align: top;\n",
       "    }\n",
       "\n",
       "    .dataframe thead th {\n",
       "        text-align: right;\n",
       "    }\n",
       "</style>\n",
       "<table border=\"1\" class=\"dataframe\">\n",
       "  <thead>\n",
       "    <tr style=\"text-align: right;\">\n",
       "      <th></th>\n",
       "      <th>0</th>\n",
       "      <th>1</th>\n",
       "      <th>2</th>\n",
       "      <th>3</th>\n",
       "      <th>4</th>\n",
       "      <th>5</th>\n",
       "      <th>6</th>\n",
       "      <th>7</th>\n",
       "      <th>8</th>\n",
       "      <th>9</th>\n",
       "      <th>...</th>\n",
       "      <th>774</th>\n",
       "      <th>775</th>\n",
       "      <th>776</th>\n",
       "      <th>777</th>\n",
       "      <th>778</th>\n",
       "      <th>779</th>\n",
       "      <th>780</th>\n",
       "      <th>781</th>\n",
       "      <th>782</th>\n",
       "      <th>783</th>\n",
       "    </tr>\n",
       "  </thead>\n",
       "  <tbody>\n",
       "    <tr>\n",
       "      <th>0</th>\n",
       "      <td>0</td>\n",
       "      <td>0</td>\n",
       "      <td>0</td>\n",
       "      <td>0</td>\n",
       "      <td>0</td>\n",
       "      <td>0</td>\n",
       "      <td>0</td>\n",
       "      <td>0</td>\n",
       "      <td>0</td>\n",
       "      <td>0</td>\n",
       "      <td>...</td>\n",
       "      <td>67</td>\n",
       "      <td>0</td>\n",
       "      <td>0</td>\n",
       "      <td>0</td>\n",
       "      <td>0</td>\n",
       "      <td>0</td>\n",
       "      <td>0</td>\n",
       "      <td>0</td>\n",
       "      <td>0</td>\n",
       "      <td>0</td>\n",
       "    </tr>\n",
       "    <tr>\n",
       "      <th>1</th>\n",
       "      <td>0</td>\n",
       "      <td>0</td>\n",
       "      <td>0</td>\n",
       "      <td>0</td>\n",
       "      <td>0</td>\n",
       "      <td>0</td>\n",
       "      <td>0</td>\n",
       "      <td>1</td>\n",
       "      <td>2</td>\n",
       "      <td>0</td>\n",
       "      <td>...</td>\n",
       "      <td>0</td>\n",
       "      <td>0</td>\n",
       "      <td>1</td>\n",
       "      <td>0</td>\n",
       "      <td>0</td>\n",
       "      <td>0</td>\n",
       "      <td>0</td>\n",
       "      <td>0</td>\n",
       "      <td>0</td>\n",
       "      <td>0</td>\n",
       "    </tr>\n",
       "    <tr>\n",
       "      <th>2</th>\n",
       "      <td>0</td>\n",
       "      <td>0</td>\n",
       "      <td>0</td>\n",
       "      <td>0</td>\n",
       "      <td>0</td>\n",
       "      <td>0</td>\n",
       "      <td>0</td>\n",
       "      <td>0</td>\n",
       "      <td>0</td>\n",
       "      <td>0</td>\n",
       "      <td>...</td>\n",
       "      <td>93</td>\n",
       "      <td>58</td>\n",
       "      <td>78</td>\n",
       "      <td>45</td>\n",
       "      <td>0</td>\n",
       "      <td>0</td>\n",
       "      <td>0</td>\n",
       "      <td>0</td>\n",
       "      <td>0</td>\n",
       "      <td>0</td>\n",
       "    </tr>\n",
       "    <tr>\n",
       "      <th>3</th>\n",
       "      <td>0</td>\n",
       "      <td>0</td>\n",
       "      <td>0</td>\n",
       "      <td>0</td>\n",
       "      <td>0</td>\n",
       "      <td>0</td>\n",
       "      <td>0</td>\n",
       "      <td>0</td>\n",
       "      <td>0</td>\n",
       "      <td>0</td>\n",
       "      <td>...</td>\n",
       "      <td>71</td>\n",
       "      <td>0</td>\n",
       "      <td>0</td>\n",
       "      <td>0</td>\n",
       "      <td>0</td>\n",
       "      <td>0</td>\n",
       "      <td>0</td>\n",
       "      <td>0</td>\n",
       "      <td>0</td>\n",
       "      <td>0</td>\n",
       "    </tr>\n",
       "    <tr>\n",
       "      <th>4</th>\n",
       "      <td>0</td>\n",
       "      <td>0</td>\n",
       "      <td>0</td>\n",
       "      <td>0</td>\n",
       "      <td>0</td>\n",
       "      <td>0</td>\n",
       "      <td>0</td>\n",
       "      <td>0</td>\n",
       "      <td>0</td>\n",
       "      <td>0</td>\n",
       "      <td>...</td>\n",
       "      <td>0</td>\n",
       "      <td>0</td>\n",
       "      <td>63</td>\n",
       "      <td>0</td>\n",
       "      <td>0</td>\n",
       "      <td>0</td>\n",
       "      <td>0</td>\n",
       "      <td>0</td>\n",
       "      <td>0</td>\n",
       "      <td>0</td>\n",
       "    </tr>\n",
       "  </tbody>\n",
       "</table>\n",
       "<p>5 rows × 784 columns</p>\n",
       "</div>"
      ],
      "text/plain": [
       "   0  1  2  3  4  5  6  7  8  9  ...  774  775  776  777  778  779  780  781  \\\n",
       "0  0  0  0  0  0  0  0  0  0  0  ...   67    0    0    0    0    0    0    0   \n",
       "1  0  0  0  0  0  0  0  1  2  0  ...    0    0    1    0    0    0    0    0   \n",
       "2  0  0  0  0  0  0  0  0  0  0  ...   93   58   78   45    0    0    0    0   \n",
       "3  0  0  0  0  0  0  0  0  0  0  ...   71    0    0    0    0    0    0    0   \n",
       "4  0  0  0  0  0  0  0  0  0  0  ...    0    0   63    0    0    0    0    0   \n",
       "\n",
       "   782  783  \n",
       "0    0    0  \n",
       "1    0    0  \n",
       "2    0    0  \n",
       "3    0    0  \n",
       "4    0    0  \n",
       "\n",
       "[5 rows x 784 columns]"
      ]
     },
     "execution_count": 9,
     "metadata": {},
     "output_type": "execute_result"
    }
   ],
   "source": [
    "test.head()"
   ]
  },
  {
   "cell_type": "code",
   "execution_count": 10,
   "id": "be1f76ae",
   "metadata": {
    "scrolled": true
   },
   "outputs": [
    {
     "data": {
      "text/html": [
       "<div>\n",
       "<style scoped>\n",
       "    .dataframe tbody tr th:only-of-type {\n",
       "        vertical-align: middle;\n",
       "    }\n",
       "\n",
       "    .dataframe tbody tr th {\n",
       "        vertical-align: top;\n",
       "    }\n",
       "\n",
       "    .dataframe thead th {\n",
       "        text-align: right;\n",
       "    }\n",
       "</style>\n",
       "<table border=\"1\" class=\"dataframe\">\n",
       "  <thead>\n",
       "    <tr style=\"text-align: right;\">\n",
       "      <th></th>\n",
       "      <th>id</th>\n",
       "      <th>label</th>\n",
       "    </tr>\n",
       "  </thead>\n",
       "  <tbody>\n",
       "    <tr>\n",
       "      <th>0</th>\n",
       "      <td>0</td>\n",
       "      <td>0</td>\n",
       "    </tr>\n",
       "    <tr>\n",
       "      <th>1</th>\n",
       "      <td>1</td>\n",
       "      <td>0</td>\n",
       "    </tr>\n",
       "    <tr>\n",
       "      <th>2</th>\n",
       "      <td>2</td>\n",
       "      <td>0</td>\n",
       "    </tr>\n",
       "    <tr>\n",
       "      <th>3</th>\n",
       "      <td>3</td>\n",
       "      <td>0</td>\n",
       "    </tr>\n",
       "    <tr>\n",
       "      <th>4</th>\n",
       "      <td>4</td>\n",
       "      <td>0</td>\n",
       "    </tr>\n",
       "  </tbody>\n",
       "</table>\n",
       "</div>"
      ],
      "text/plain": [
       "   id  label\n",
       "0   0      0\n",
       "1   1      0\n",
       "2   2      0\n",
       "3   3      0\n",
       "4   4      0"
      ]
     },
     "execution_count": 10,
     "metadata": {},
     "output_type": "execute_result"
    }
   ],
   "source": [
    "submission.head()"
   ]
  },
  {
   "cell_type": "code",
   "execution_count": 12,
   "id": "73df2d63",
   "metadata": {
    "scrolled": true
   },
   "outputs": [],
   "source": [
    "X = train.iloc[:, :-1].values\n",
    "X = X.reshape(-1, 28, 28, 1)\n",
    "y = train.iloc[:, -1].values"
   ]
  },
  {
   "cell_type": "code",
   "execution_count": 14,
   "id": "df6495ee",
   "metadata": {
    "scrolled": true
   },
   "outputs": [
    {
     "data": {
      "image/png": "[encoded data removed]",
      "text/plain": [
       "<Figure size 1440x72 with 20 Axes>"
      ]
     },
     "metadata": {
      "needs_background": "light"
     },
     "output_type": "display_data"
    }
   ],
   "source": [
    "pltsize = 1\n",
    "plt.figure(figsize=(20 * pltsize, pltsize))\n",
    "for idx in range(0, 20):\n",
    "    plt.subplot(1, 20, idx + 1)\n",
    "    plt.axis('off')\n",
    "    plt.imshow(X[idx].reshape(28, 28), cmap='gray_r')\n",
    "    plt.title(f'Class : {y[idx]}')"
   ]
  },
  {
   "cell_type": "code",
   "execution_count": 15,
   "id": "09925287",
   "metadata": {
    "scrolled": true
   },
   "outputs": [],
   "source": [
    "X_test = test.values\n",
    "X_test = X_test.reshape(-1, 28, 28, 1)"
   ]
  },
  {
   "cell_type": "code",
   "execution_count": 16,
   "id": "0e05e8f0",
   "metadata": {
    "scrolled": true
   },
   "outputs": [
    {
     "data": {
      "image/png": "[encoded data removed]",
      "text/plain": [
       "<Figure size 1440x72 with 20 Axes>"
      ]
     },
     "metadata": {
      "needs_background": "light"
     },
     "output_type": "display_data"
    }
   ],
   "source": [
    "pltsize = 1\n",
    "plt.figure(figsize=(20 * pltsize, pltsize))\n",
    "for idx in range(0, 20):\n",
    "    plt.subplot(1, 20, idx + 1)\n",
    "    plt.axis('off')\n",
    "    plt.imshow(X_test[idx].reshape(28, 28), cmap='gray_r')"
   ]
  },
  {
   "cell_type": "markdown",
   "id": "205d4b3d",
   "metadata": {},
   "source": [
    "# 데이터 분리"
   ]
  },
  {
   "cell_type": "code",
   "execution_count": 17,
   "id": "dda8a287",
   "metadata": {
    "scrolled": true
   },
   "outputs": [],
   "source": [
    "from sklearn.model_selection import train_test_split"
   ]
  },
  {
   "cell_type": "code",
   "execution_count": 18,
   "id": "7da91f52",
   "metadata": {
    "scrolled": true
   },
   "outputs": [],
   "source": [
    "X_train, X_val, y_train, y_val = train_test_split(X, y, test_size=0.2, random_state=0, stratify=y, shuffle=True)"
   ]
  },
  {
   "cell_type": "code",
   "execution_count": 19,
   "id": "8c496e4b",
   "metadata": {
    "scrolled": true
   },
   "outputs": [],
   "source": [
    "# 정규화\n",
    "X_train = X_train / 255.0\n",
    "X_val = X_val / 255.0\n",
    "X_test = X_test / 255.0"
   ]
  },
  {
   "cell_type": "markdown",
   "id": "fdd2162e",
   "metadata": {},
   "source": [
    "# Baseline Model"
   ]
  },
  {
   "cell_type": "markdown",
   "id": "1cd401cb",
   "metadata": {},
   "source": [
    "## Simple DNN"
   ]
  },
  {
   "cell_type": "code",
   "execution_count": 20,
   "id": "1a160d60",
   "metadata": {
    "scrolled": true
   },
   "outputs": [],
   "source": [
    "BATCH_SIZE = 128\n",
    "EPOCHS = 15"
   ]
  },
  {
   "cell_type": "code",
   "execution_count": 22,
   "id": "1d543b7a",
   "metadata": {
    "scrolled": true
   },
   "outputs": [],
   "source": [
    "model = keras.Sequential([\n",
    "    keras.layers.Flatten(input_shape=(28,28)),\n",
    "    keras.layers.Dense(512, activation='linear'),\n",
    "    keras.layers.Dense(256, activation='linear'),\n",
    "    keras.layers.Dense(128, activation='linear'),\n",
    "    keras.layers.Dense(10, activation='softmax')\n",
    "])"
   ]
  },
  {
   "cell_type": "code",
   "execution_count": 23,
   "id": "4818b163",
   "metadata": {
    "scrolled": true
   },
   "outputs": [
    {
     "name": "stdout",
     "output_type": "stream",
     "text": [
      "Model: \"sequential\"\n",
      "_________________________________________________________________\n",
      " Layer (type)                Output Shape              Param #   \n",
      "=================================================================\n",
      " flatten (Flatten)           (None, 784)               0         \n",
      "                                                                 \n",
      " dense (Dense)               (None, 512)               401920    \n",
      "                                                                 \n",
      " dense_1 (Dense)             (None, 256)               131328    \n",
      "                                                                 \n",
      " dense_2 (Dense)             (None, 128)               32896     \n",
      "                                                                 \n",
      " dense_3 (Dense)             (None, 10)                1290      \n",
      "                                                                 \n",
      "=================================================================\n",
      "Total params: 567,434\n",
      "Trainable params: 567,434\n",
      "Non-trainable params: 0\n",
      "_________________________________________________________________\n",
      "None\n"
     ]
    }
   ],
   "source": [
    "print(model.summary())"
   ]
  },
  {
   "cell_type": "code",
   "execution_count": 24,
   "id": "b8470069",
   "metadata": {
    "scrolled": true
   },
   "outputs": [],
   "source": [
    "# SGD\n",
    "optimizer = keras.optimizers.SGD(lr=0.01, momentum=0.5)\n",
    "model.compile(optimizer=optimizer, \n",
    "              loss=tf.keras.losses.SparseCategoricalCrossentropy(from_logits=True),\n",
    "              metrics=['accuracy'])"
   ]
  },
  {
   "cell_type": "code",
   "execution_count": 25,
   "id": "15ed6538",
   "metadata": {
    "scrolled": false
   },
   "outputs": [
    {
     "name": "stdout",
     "output_type": "stream",
     "text": [
      "Epoch 1/10\n",
      "1488/1488 [==============================] - 5s 3ms/step - loss: 0.5750 - accuracy: 0.7979 - val_loss: 0.5034 - val_accuracy: 0.8228\n",
      "Epoch 2/10\n",
      "1488/1488 [==============================] - 4s 3ms/step - loss: 0.4734 - accuracy: 0.8345 - val_loss: 0.4807 - val_accuracy: 0.8339\n",
      "Epoch 3/10\n",
      "1488/1488 [==============================] - 4s 3ms/step - loss: 0.4540 - accuracy: 0.8395 - val_loss: 0.4436 - val_accuracy: 0.8474\n",
      "Epoch 4/10\n",
      "1488/1488 [==============================] - 4s 3ms/step - loss: 0.4421 - accuracy: 0.8444 - val_loss: 0.4495 - val_accuracy: 0.8439\n",
      "Epoch 5/10\n",
      "1488/1488 [==============================] - 4s 3ms/step - loss: 0.4359 - accuracy: 0.8475 - val_loss: 0.4388 - val_accuracy: 0.8476\n",
      "Epoch 6/10\n",
      "1488/1488 [==============================] - 4s 3ms/step - loss: 0.4287 - accuracy: 0.8480 - val_loss: 0.4788 - val_accuracy: 0.8422\n",
      "Epoch 7/10\n",
      "1488/1488 [==============================] - 5s 3ms/step - loss: 0.4244 - accuracy: 0.8522 - val_loss: 0.4507 - val_accuracy: 0.8416\n",
      "Epoch 8/10\n",
      "1488/1488 [==============================] - 5s 3ms/step - loss: 0.4197 - accuracy: 0.8518 - val_loss: 0.4684 - val_accuracy: 0.8379\n",
      "Epoch 9/10\n",
      "1488/1488 [==============================] - 5s 3ms/step - loss: 0.4177 - accuracy: 0.8516 - val_loss: 0.4407 - val_accuracy: 0.8472\n",
      "Epoch 10/10\n",
      "1488/1488 [==============================] - 5s 3ms/step - loss: 0.4139 - accuracy: 0.8546 - val_loss: 0.4467 - val_accuracy: 0.8402\n"
     ]
    }
   ],
   "source": [
    "result = model.fit(X_train, y_train, epochs=10, validation_data=(X_val, y_val))"
   ]
  },
  {
   "cell_type": "code",
   "execution_count": 26,
   "id": "d2fc01a1",
   "metadata": {
    "scrolled": true
   },
   "outputs": [
    {
     "data": {
      "image/png": "[encoded data removed]",
      "text/plain": [
       "<Figure size 1080x360 with 2 Axes>"
      ]
     },
     "metadata": {
      "needs_background": "light"
     },
     "output_type": "display_data"
    }
   ],
   "source": [
    "fig, axes = plt.subplots(nrows=1, ncols=2, figsize=(15,5))\n",
    "\n",
    "axes[0].plot(result.epoch, result.history['loss'], label='Train Loss')\n",
    "axes[0].plot(result.epoch, result.history['val_loss'], label='Val Loss')\n",
    "axes[0].set_ylim(0.0, 1)\n",
    "axes[0].legend()\n",
    "axes[0].set_title('Loss')\n",
    "\n",
    "axes[1].plot(result.epoch, result.history['accuracy'], label='Train Accuracy')\n",
    "axes[1].plot(result.epoch, result.history['val_accuracy'], label='Val Accuracy')\n",
    "axes[1].set_ylim(0.7, 1)\n",
    "axes[1].legend()\n",
    "axes[1].set_title('Accuracy')\n",
    "\n",
    "plt.show()"
   ]
  },
  {
   "cell_type": "markdown",
   "id": "62414215",
   "metadata": {},
   "source": [
    "## Activation Function"
   ]
  },
  {
   "cell_type": "code",
   "execution_count": 27,
   "id": "91b165c3",
   "metadata": {
    "scrolled": true
   },
   "outputs": [],
   "source": [
    "# relu\n",
    "model = keras.Sequential([\n",
    "    keras.layers.Flatten(input_shape=(28, 28)),\n",
    "    keras.layers.Dense(512, activation='relu'),\n",
    "    keras.layers.Dense(256, activation='relu'),\n",
    "    keras.layers.Dense(128, activation='relu'),\n",
    "    keras.layers.Dense(10, activation='softmax')\n",
    "])"
   ]
  },
  {
   "cell_type": "code",
   "execution_count": 28,
   "id": "7453b312",
   "metadata": {
    "scrolled": false
   },
   "outputs": [
    {
     "name": "stdout",
     "output_type": "stream",
     "text": [
      "Model: \"sequential_1\"\n",
      "_________________________________________________________________\n",
      " Layer (type)                Output Shape              Param #   \n",
      "=================================================================\n",
      " flatten_1 (Flatten)         (None, 784)               0         \n",
      "                                                                 \n",
      " dense_4 (Dense)             (None, 512)               401920    \n",
      "                                                                 \n",
      " dense_5 (Dense)             (None, 256)               131328    \n",
      "                                                                 \n",
      " dense_6 (Dense)             (None, 128)               32896     \n",
      "                                                                 \n",
      " dense_7 (Dense)             (None, 10)                1290      \n",
      "                                                                 \n",
      "=================================================================\n",
      "Total params: 567,434\n",
      "Trainable params: 567,434\n",
      "Non-trainable params: 0\n",
      "_________________________________________________________________\n",
      "None\n"
     ]
    }
   ],
   "source": [
    "print(model.summary())"
   ]
  },
  {
   "cell_type": "code",
   "execution_count": 29,
   "id": "b3ce398a",
   "metadata": {
    "scrolled": true
   },
   "outputs": [],
   "source": [
    "optimizer = keras.optimizers.SGD(lr=0.01, momentum=0.5)\n",
    "model.compile(optimizer=optimizer,\n",
    "             loss=tf.keras.losses.SparseCategoricalCrossentropy(from_logits=True),\n",
    "             metrics=['accuracy'])"
   ]
  },
  {
   "cell_type": "code",
   "execution_count": 30,
   "id": "77ca6c2a",
   "metadata": {
    "scrolled": false
   },
   "outputs": [
    {
     "name": "stdout",
     "output_type": "stream",
     "text": [
      "Epoch 1/10\n",
      "1488/1488 [==============================] - 4s 3ms/step - loss: 0.6324 - accuracy: 0.7824 - val_loss: 0.4544 - val_accuracy: 0.8402\n",
      "Epoch 2/10\n",
      "1488/1488 [==============================] - 4s 3ms/step - loss: 0.4360 - accuracy: 0.8446 - val_loss: 0.4021 - val_accuracy: 0.8567\n",
      "Epoch 3/10\n",
      "1488/1488 [==============================] - 4s 3ms/step - loss: 0.3899 - accuracy: 0.8594 - val_loss: 0.3695 - val_accuracy: 0.8695\n",
      "Epoch 4/10\n",
      "1488/1488 [==============================] - 4s 3ms/step - loss: 0.3609 - accuracy: 0.8706 - val_loss: 0.3732 - val_accuracy: 0.8641\n",
      "Epoch 5/10\n",
      "1488/1488 [==============================] - 4s 3ms/step - loss: 0.3387 - accuracy: 0.8775 - val_loss: 0.3413 - val_accuracy: 0.8761\n",
      "Epoch 6/10\n",
      "1488/1488 [==============================] - 4s 3ms/step - loss: 0.3225 - accuracy: 0.8829 - val_loss: 0.3395 - val_accuracy: 0.8764\n",
      "Epoch 7/10\n",
      "1488/1488 [==============================] - 5s 3ms/step - loss: 0.3074 - accuracy: 0.8865 - val_loss: 0.3225 - val_accuracy: 0.8804\n",
      "Epoch 8/10\n",
      "1488/1488 [==============================] - 5s 3ms/step - loss: 0.2937 - accuracy: 0.8931 - val_loss: 0.3386 - val_accuracy: 0.8692\n",
      "Epoch 9/10\n",
      "1488/1488 [==============================] - 5s 3ms/step - loss: 0.2826 - accuracy: 0.8964 - val_loss: 0.3193 - val_accuracy: 0.8849\n",
      "Epoch 10/10\n",
      "1488/1488 [==============================] - 5s 3ms/step - loss: 0.2724 - accuracy: 0.8991 - val_loss: 0.3155 - val_accuracy: 0.8803\n"
     ]
    }
   ],
   "source": [
    "result = model.fit(X_train, y_train, epochs=10, validation_data=(X_val, y_val))"
   ]
  },
  {
   "cell_type": "code",
   "execution_count": 31,
   "id": "12665eac",
   "metadata": {
    "scrolled": true
   },
   "outputs": [
    {
     "data": {
      "image/png": "[encoded data removed]",
      "text/plain": [
       "<Figure size 1080x360 with 2 Axes>"
      ]
     },
     "metadata": {
      "needs_background": "light"
     },
     "output_type": "display_data"
    }
   ],
   "source": [
    "fig, axes = plt.subplots(nrows=1, ncols=2, figsize=(15,5))\n",
    "\n",
    "axes[0].plot(result.epoch, result.history['loss'], label='Train Loss')\n",
    "axes[0].plot(result.epoch, result.history['val_loss'], label='Val Loss')\n",
    "axes[0].set_ylim(0.0, 1)\n",
    "axes[0].legend()\n",
    "axes[0].set_title('Loss')\n",
    "\n",
    "axes[1].plot(result.epoch, result.history['accuracy'], label='Train Accuracy')\n",
    "axes[1].plot(result.epoch, result.history['val_accuracy'], label='Val Accuracy')\n",
    "axes[1].set_ylim(0.7, 1)\n",
    "axes[1].legend()\n",
    "axes[1].set_title('Accuracy')\n",
    "\n",
    "plt.show()"
   ]
  },
  {
   "cell_type": "markdown",
   "id": "41ffabdd",
   "metadata": {},
   "source": [
    "* Activation Function을 추가한 후에는 하기 전보다 Loss가 많이 감소하고 Accuracy가 오르는 성능 향상을 보임."
   ]
  },
  {
   "cell_type": "markdown",
   "id": "abd423e7",
   "metadata": {},
   "source": [
    "## Weight Initialization"
   ]
  },
  {
   "cell_type": "code",
   "execution_count": 32,
   "id": "1d79bba5",
   "metadata": {
    "scrolled": true
   },
   "outputs": [],
   "source": [
    "# He 초깃값\n",
    "initializer = keras.initializers.HeUniform(seed=21)\n",
    "model = keras.Sequential([\n",
    "    keras.layers.Flatten(input_shape=(28, 28)),\n",
    "    keras.layers.Dense(512, activation='relu', kernel_initializer=initializer),\n",
    "    keras.layers.Dense(256, activation='relu', kernel_initializer=initializer),\n",
    "    keras.layers.Dense(128, activation='relu', kernel_initializer=initializer),\n",
    "    keras.layers.Dense(10, activation='softmax', kernel_initializer=initializer)\n",
    "])"
   ]
  },
  {
   "cell_type": "code",
   "execution_count": 34,
   "id": "15e791d4",
   "metadata": {
    "scrolled": true
   },
   "outputs": [],
   "source": [
    "optimizer = keras.optimizers.SGD(lr=0.01, momentum=0.5)\n",
    "model.compile(optimizer=optimizer,\n",
    "             loss=tf.keras.losses.SparseCategoricalCrossentropy(from_logits=True),\n",
    "             metrics=['accuracy'])"
   ]
  },
  {
   "cell_type": "code",
   "execution_count": 35,
   "id": "cfe202d0",
   "metadata": {
    "scrolled": false
   },
   "outputs": [
    {
     "name": "stdout",
     "output_type": "stream",
     "text": [
      "Epoch 1/10\n",
      "1488/1488 [==============================] - 5s 3ms/step - loss: 0.6016 - accuracy: 0.7918 - val_loss: 0.4554 - val_accuracy: 0.8390\n",
      "Epoch 2/10\n",
      "1488/1488 [==============================] - 4s 3ms/step - loss: 0.4266 - accuracy: 0.8468 - val_loss: 0.3948 - val_accuracy: 0.8585\n",
      "Epoch 3/10\n",
      "1488/1488 [==============================] - 4s 3ms/step - loss: 0.3801 - accuracy: 0.8637 - val_loss: 0.3791 - val_accuracy: 0.8655\n",
      "Epoch 4/10\n",
      "1488/1488 [==============================] - 4s 3ms/step - loss: 0.3505 - accuracy: 0.8724 - val_loss: 0.3903 - val_accuracy: 0.8565\n",
      "Epoch 5/10\n",
      "1488/1488 [==============================] - 4s 3ms/step - loss: 0.3286 - accuracy: 0.8809 - val_loss: 0.3394 - val_accuracy: 0.8755\n",
      "Epoch 6/10\n",
      "1488/1488 [==============================] - 5s 3ms/step - loss: 0.3124 - accuracy: 0.8858 - val_loss: 0.3413 - val_accuracy: 0.8769\n",
      "Epoch 7/10\n",
      "1488/1488 [==============================] - 4s 3ms/step - loss: 0.2972 - accuracy: 0.8911 - val_loss: 0.3377 - val_accuracy: 0.8752\n",
      "Epoch 8/10\n",
      "1488/1488 [==============================] - 5s 3ms/step - loss: 0.2843 - accuracy: 0.8952 - val_loss: 0.3326 - val_accuracy: 0.8813\n",
      "Epoch 9/10\n",
      "1488/1488 [==============================] - 5s 3ms/step - loss: 0.2728 - accuracy: 0.9001 - val_loss: 0.3249 - val_accuracy: 0.8809\n",
      "Epoch 10/10\n",
      "1488/1488 [==============================] - 5s 3ms/step - loss: 0.2626 - accuracy: 0.9037 - val_loss: 0.3169 - val_accuracy: 0.8824\n"
     ]
    }
   ],
   "source": [
    "result = model.fit(X_train, y_train, epochs=10, validation_data=(X_val, y_val))"
   ]
  },
  {
   "cell_type": "code",
   "execution_count": 36,
   "id": "928ab0a1",
   "metadata": {
    "scrolled": true
   },
   "outputs": [
    {
     "data": {
      "image/png": "[encoded data removed]",
      "text/plain": [
       "<Figure size 1080x360 with 2 Axes>"
      ]
     },
     "metadata": {
      "needs_background": "light"
     },
     "output_type": "display_data"
    }
   ],
   "source": [
    "fig, axes = plt.subplots(nrows=1, ncols=2, figsize=(15,5))\n",
    "\n",
    "axes[0].plot(result.epoch, result.history['loss'], label='Train Loss')\n",
    "axes[0].plot(result.epoch, result.history['val_loss'], label='Val Loss')\n",
    "axes[0].set_ylim(0.0, 1)\n",
    "axes[0].legend()\n",
    "axes[0].set_title('Loss')\n",
    "\n",
    "axes[1].plot(result.epoch, result.history['accuracy'], label='Train Accuracy')\n",
    "axes[1].plot(result.epoch, result.history['val_accuracy'], label='Val Accuracy')\n",
    "axes[1].set_ylim(0.7, 1)\n",
    "axes[1].legend()\n",
    "axes[1].set_title('Accuracy')\n",
    "\n",
    "plt.show()"
   ]
  },
  {
   "cell_type": "markdown",
   "id": "26a64e91",
   "metadata": {},
   "source": [
    "* weight initialization을 한 후에는 하기 전보다 loss가 감소하고 accuracy가 올라 성능이 향상됨."
   ]
  },
  {
   "cell_type": "markdown",
   "id": "de9af0b1",
   "metadata": {},
   "source": [
    "## Batch Normalization"
   ]
  },
  {
   "cell_type": "code",
   "execution_count": 37,
   "id": "c39fb29f",
   "metadata": {
    "scrolled": true
   },
   "outputs": [],
   "source": [
    "# BatchNormalization()\n",
    "initializer = keras.initializers.HeUniform(seed=21)\n",
    "model = keras.Sequential([\n",
    "    keras.layers.Flatten(input_shape=(28, 28)),\n",
    "    keras.layers.Dense(512, kernel_initializer=initializer),\n",
    "    keras.layers.BatchNormalization(),\n",
    "    keras.layers.Activation('relu'),\n",
    "    keras.layers.Dense(256, kernel_initializer=initializer),\n",
    "    keras.layers.BatchNormalization(),\n",
    "    keras.layers.Activation('relu'),\n",
    "    keras.layers.Dense(128, kernel_initializer=initializer),\n",
    "    keras.layers.BatchNormalization(),\n",
    "    keras.layers.Activation('relu'),\n",
    "    keras.layers.Dense(10, activation='softmax', kernel_initializer=initializer)\n",
    "])"
   ]
  },
  {
   "cell_type": "code",
   "execution_count": 38,
   "id": "1663ed4e",
   "metadata": {
    "scrolled": true
   },
   "outputs": [
    {
     "name": "stdout",
     "output_type": "stream",
     "text": [
      "Model: \"sequential_3\"\n",
      "_________________________________________________________________\n",
      " Layer (type)                Output Shape              Param #   \n",
      "=================================================================\n",
      " flatten_3 (Flatten)         (None, 784)               0         \n",
      "                                                                 \n",
      " dense_12 (Dense)            (None, 512)               401920    \n",
      "                                                                 \n",
      " batch_normalization (BatchN  (None, 512)              2048      \n",
      " ormalization)                                                   \n",
      "                                                                 \n",
      " activation (Activation)     (None, 512)               0         \n",
      "                                                                 \n",
      " dense_13 (Dense)            (None, 256)               131328    \n",
      "                                                                 \n",
      " batch_normalization_1 (Batc  (None, 256)              1024      \n",
      " hNormalization)                                                 \n",
      "                                                                 \n",
      " activation_1 (Activation)   (None, 256)               0         \n",
      "                                                                 \n",
      " dense_14 (Dense)            (None, 128)               32896     \n",
      "                                                                 \n",
      " batch_normalization_2 (Batc  (None, 128)              512       \n",
      " hNormalization)                                                 \n",
      "                                                                 \n",
      " activation_2 (Activation)   (None, 128)               0         \n",
      "                                                                 \n",
      " dense_15 (Dense)            (None, 10)                1290      \n",
      "                                                                 \n",
      "=================================================================\n",
      "Total params: 571,018\n",
      "Trainable params: 569,226\n",
      "Non-trainable params: 1,792\n",
      "_________________________________________________________________\n",
      "None\n"
     ]
    }
   ],
   "source": [
    "print(model.summary())"
   ]
  },
  {
   "cell_type": "code",
   "execution_count": 39,
   "id": "a748d14b",
   "metadata": {
    "scrolled": true
   },
   "outputs": [],
   "source": [
    "optimizer = keras.optimizers.SGD(lr=0.01, momentum=0.5)\n",
    "model.compile(optimizer=optimizer,\n",
    "             loss=tf.keras.losses.SparseCategoricalCrossentropy(from_logits=True),\n",
    "             metrics=['accuracy'])"
   ]
  },
  {
   "cell_type": "code",
   "execution_count": 40,
   "id": "5ee3de39",
   "metadata": {
    "scrolled": false
   },
   "outputs": [
    {
     "name": "stdout",
     "output_type": "stream",
     "text": [
      "Epoch 1/10\n",
      "1488/1488 [==============================] - 5s 3ms/step - loss: 0.5303 - accuracy: 0.8182 - val_loss: 0.3748 - val_accuracy: 0.8645\n",
      "Epoch 2/10\n",
      "1488/1488 [==============================] - 5s 3ms/step - loss: 0.3748 - accuracy: 0.8658 - val_loss: 0.3588 - val_accuracy: 0.8642\n",
      "Epoch 3/10\n",
      "1488/1488 [==============================] - 5s 3ms/step - loss: 0.3322 - accuracy: 0.8797 - val_loss: 0.3256 - val_accuracy: 0.8790\n",
      "Epoch 4/10\n",
      "1488/1488 [==============================] - 5s 3ms/step - loss: 0.2979 - accuracy: 0.8919 - val_loss: 0.3186 - val_accuracy: 0.8825\n",
      "Epoch 5/10\n",
      "1488/1488 [==============================] - 5s 4ms/step - loss: 0.2751 - accuracy: 0.9004 - val_loss: 0.3169 - val_accuracy: 0.8851\n",
      "Epoch 6/10\n",
      "1488/1488 [==============================] - 5s 4ms/step - loss: 0.2532 - accuracy: 0.9082 - val_loss: 0.3286 - val_accuracy: 0.8818\n",
      "Epoch 7/10\n",
      "1488/1488 [==============================] - 5s 4ms/step - loss: 0.2324 - accuracy: 0.9146 - val_loss: 0.3339 - val_accuracy: 0.8781\n",
      "Epoch 8/10\n",
      "1488/1488 [==============================] - 6s 4ms/step - loss: 0.2188 - accuracy: 0.9211 - val_loss: 0.3163 - val_accuracy: 0.8882\n",
      "Epoch 9/10\n",
      "1488/1488 [==============================] - 6s 4ms/step - loss: 0.2023 - accuracy: 0.9259 - val_loss: 0.3236 - val_accuracy: 0.8821\n",
      "Epoch 10/10\n",
      "1488/1488 [==============================] - 6s 4ms/step - loss: 0.1925 - accuracy: 0.9296 - val_loss: 0.3104 - val_accuracy: 0.8908\n"
     ]
    }
   ],
   "source": [
    "result = model.fit(X_train, y_train, epochs=10, validation_data=(X_val, y_val))"
   ]
  },
  {
   "cell_type": "code",
   "execution_count": 41,
   "id": "01c9144e",
   "metadata": {
    "scrolled": true
   },
   "outputs": [
    {
     "data": {
      "image/png": "[encoded data removed]",
      "text/plain": [
       "<Figure size 1080x360 with 2 Axes>"
      ]
     },
     "metadata": {
      "needs_background": "light"
     },
     "output_type": "display_data"
    }
   ],
   "source": [
    "fig, axes = plt.subplots(nrows=1, ncols=2, figsize=(15,5))\n",
    "\n",
    "axes[0].plot(result.epoch, result.history['loss'], label='Train Loss')\n",
    "axes[0].plot(result.epoch, result.history['val_loss'], label='Val Loss')\n",
    "axes[0].set_ylim(0.0, 1)\n",
    "axes[0].legend()\n",
    "axes[0].set_title('Loss')\n",
    "\n",
    "axes[1].plot(result.epoch, result.history['accuracy'], label='Train Accuracy')\n",
    "axes[1].plot(result.epoch, result.history['val_accuracy'], label='Val Accuracy')\n",
    "axes[1].set_ylim(0.7, 1)\n",
    "axes[1].legend()\n",
    "axes[1].set_title('Accuracy')\n",
    "\n",
    "plt.show()"
   ]
  },
  {
   "cell_type": "markdown",
   "id": "eebd8ae4",
   "metadata": {},
   "source": [
    "* Batch normalization을 한 후에는 하기 전보다 loss가 감소하고 accuracy가 올라 성능이 향상됨."
   ]
  },
  {
   "cell_type": "markdown",
   "id": "adad2f8f",
   "metadata": {},
   "source": [
    "## Optimization"
   ]
  },
  {
   "cell_type": "code",
   "execution_count": 42,
   "id": "128a8ce2",
   "metadata": {
    "scrolled": true
   },
   "outputs": [],
   "source": [
    "initializer = keras.initializers.HeUniform(seed=21)\n",
    "model = keras.Sequential([\n",
    "    keras.layers.Flatten(input_shape=(28, 28)),\n",
    "    keras.layers.Dense(512, kernel_initializer=initializer),\n",
    "    keras.layers.BatchNormalization(),\n",
    "    keras.layers.Activation('relu'),\n",
    "    keras.layers.Dense(256, kernel_initializer=initializer),\n",
    "    keras.layers.BatchNormalization(),\n",
    "    keras.layers.Activation('relu'),\n",
    "    keras.layers.Dense(128, kernel_initializer=initializer),\n",
    "    keras.layers.BatchNormalization(),\n",
    "    keras.layers.Activation('relu'),\n",
    "    keras.layers.Dense(10, activation='softmax', kernel_initializer=initializer)\n",
    "])"
   ]
  },
  {
   "cell_type": "code",
   "execution_count": 43,
   "id": "b5796918",
   "metadata": {
    "scrolled": true
   },
   "outputs": [
    {
     "name": "stdout",
     "output_type": "stream",
     "text": [
      "Model: \"sequential_4\"\n",
      "_________________________________________________________________\n",
      " Layer (type)                Output Shape              Param #   \n",
      "=================================================================\n",
      " flatten_4 (Flatten)         (None, 784)               0         \n",
      "                                                                 \n",
      " dense_16 (Dense)            (None, 512)               401920    \n",
      "                                                                 \n",
      " batch_normalization_3 (Batc  (None, 512)              2048      \n",
      " hNormalization)                                                 \n",
      "                                                                 \n",
      " activation_3 (Activation)   (None, 512)               0         \n",
      "                                                                 \n",
      " dense_17 (Dense)            (None, 256)               131328    \n",
      "                                                                 \n",
      " batch_normalization_4 (Batc  (None, 256)              1024      \n",
      " hNormalization)                                                 \n",
      "                                                                 \n",
      " activation_4 (Activation)   (None, 256)               0         \n",
      "                                                                 \n",
      " dense_18 (Dense)            (None, 128)               32896     \n",
      "                                                                 \n",
      " batch_normalization_5 (Batc  (None, 128)              512       \n",
      " hNormalization)                                                 \n",
      "                                                                 \n",
      " activation_5 (Activation)   (None, 128)               0         \n",
      "                                                                 \n",
      " dense_19 (Dense)            (None, 10)                1290      \n",
      "                                                                 \n",
      "=================================================================\n",
      "Total params: 571,018\n",
      "Trainable params: 569,226\n",
      "Non-trainable params: 1,792\n",
      "_________________________________________________________________\n",
      "None\n"
     ]
    }
   ],
   "source": [
    "print(model.summary())"
   ]
  },
  {
   "cell_type": "code",
   "execution_count": 44,
   "id": "f71fffe1",
   "metadata": {
    "scrolled": true
   },
   "outputs": [],
   "source": [
    "# Adam\n",
    "optimizer = keras.optimizers.Adam(lr=0.01)\n",
    "model.compile(optimizer=optimizer,\n",
    "             loss=tf.keras.losses.SparseCategoricalCrossentropy(from_logits=True),\n",
    "             metrics=['accuracy'])"
   ]
  },
  {
   "cell_type": "code",
   "execution_count": 45,
   "id": "888f4da3",
   "metadata": {
    "scrolled": false
   },
   "outputs": [
    {
     "name": "stdout",
     "output_type": "stream",
     "text": [
      "Epoch 1/10\n",
      "1488/1488 [==============================] - 6s 3ms/step - loss: 0.5488 - accuracy: 0.8028 - val_loss: 0.3989 - val_accuracy: 0.8588\n",
      "Epoch 2/10\n",
      "1488/1488 [==============================] - 5s 3ms/step - loss: 0.4198 - accuracy: 0.8467 - val_loss: 0.3947 - val_accuracy: 0.8493\n",
      "Epoch 3/10\n",
      "1488/1488 [==============================] - 5s 3ms/step - loss: 0.3779 - accuracy: 0.8607 - val_loss: 0.4181 - val_accuracy: 0.8473\n",
      "Epoch 4/10\n",
      "1488/1488 [==============================] - 5s 3ms/step - loss: 0.3481 - accuracy: 0.8715 - val_loss: 0.3518 - val_accuracy: 0.8702\n",
      "Epoch 5/10\n",
      "1488/1488 [==============================] - 5s 4ms/step - loss: 0.3253 - accuracy: 0.8786 - val_loss: 0.3610 - val_accuracy: 0.8676\n",
      "Epoch 6/10\n",
      "1488/1488 [==============================] - 6s 4ms/step - loss: 0.3050 - accuracy: 0.8861 - val_loss: 0.3205 - val_accuracy: 0.8810\n",
      "Epoch 7/10\n",
      "1488/1488 [==============================] - 6s 4ms/step - loss: 0.2879 - accuracy: 0.8928 - val_loss: 0.4503 - val_accuracy: 0.8512\n",
      "Epoch 8/10\n",
      "1488/1488 [==============================] - 6s 4ms/step - loss: 0.2756 - accuracy: 0.8965 - val_loss: 0.3479 - val_accuracy: 0.8698\n",
      "Epoch 9/10\n",
      "1488/1488 [==============================] - 6s 4ms/step - loss: 0.2663 - accuracy: 0.9014 - val_loss: 0.3338 - val_accuracy: 0.8796\n",
      "Epoch 10/10\n",
      "1488/1488 [==============================] - 6s 4ms/step - loss: 0.2523 - accuracy: 0.9048 - val_loss: 0.3239 - val_accuracy: 0.8801\n"
     ]
    }
   ],
   "source": [
    "result = model.fit(X_train, y_train, epochs=10, validation_data=(X_val, y_val))"
   ]
  },
  {
   "cell_type": "code",
   "execution_count": 46,
   "id": "cbf783d2",
   "metadata": {
    "scrolled": true
   },
   "outputs": [
    {
     "data": {
      "image/png": "[encoded data removed]",
      "text/plain": [
       "<Figure size 1080x360 with 2 Axes>"
      ]
     },
     "metadata": {
      "needs_background": "light"
     },
     "output_type": "display_data"
    }
   ],
   "source": [
    "fig, axes = plt.subplots(nrows=1, ncols=2, figsize=(15,5))\n",
    "\n",
    "axes[0].plot(result.epoch, result.history['loss'], label='Train Loss')\n",
    "axes[0].plot(result.epoch, result.history['val_loss'], label='Val Loss')\n",
    "axes[0].set_ylim(0.0, 1)\n",
    "axes[0].legend()\n",
    "axes[0].set_title('Loss')\n",
    "\n",
    "axes[1].plot(result.epoch, result.history['accuracy'], label='Train Accuracy')\n",
    "axes[1].plot(result.epoch, result.history['val_accuracy'], label='Val Accuracy')\n",
    "axes[1].set_ylim(0.7, 1)\n",
    "axes[1].legend()\n",
    "axes[1].set_title('Accuracy')\n",
    "\n",
    "plt.show()"
   ]
  },
  {
   "cell_type": "markdown",
   "id": "fe37ee2f",
   "metadata": {},
   "source": [
    "* Adam optimization을 한 후에는 하기 전보다 성능이 향상되지는 않음."
   ]
  },
  {
   "cell_type": "markdown",
   "id": "2efdc3a2",
   "metadata": {},
   "source": [
    "## Dropout"
   ]
  },
  {
   "cell_type": "code",
   "execution_count": 47,
   "id": "bc4982f6",
   "metadata": {
    "scrolled": true
   },
   "outputs": [],
   "source": [
    "initializer = keras.initializers.HeUniform(seed=21)\n",
    "model = keras.Sequential([\n",
    "    keras.layers.Flatten(input_shape=(28, 28)),\n",
    "    keras.layers.Dense(512, kernel_initializer=initializer),\n",
    "    keras.layers.BatchNormalization(),\n",
    "    keras.layers.Activation('relu'),\n",
    "    keras.layers.Dropout(0.2),\n",
    "    keras.layers.Dense(256, kernel_initializer=initializer),\n",
    "    keras.layers.BatchNormalization(),\n",
    "    keras.layers.Activation('relu'),\n",
    "    keras.layers.Dropout(0.2),\n",
    "    keras.layers.Dense(128, kernel_initializer=initializer),\n",
    "    keras.layers.BatchNormalization(),\n",
    "    keras.layers.Activation('relu'),\n",
    "    keras.layers.Dropout(0.2),\n",
    "    keras.layers.Dense(10, activation='softmax', kernel_initializer=initializer)\n",
    "])"
   ]
  },
  {
   "cell_type": "code",
   "execution_count": 48,
   "id": "36ffbc2f",
   "metadata": {
    "scrolled": true
   },
   "outputs": [
    {
     "name": "stdout",
     "output_type": "stream",
     "text": [
      "Model: \"sequential_5\"\n",
      "_________________________________________________________________\n",
      " Layer (type)                Output Shape              Param #   \n",
      "=================================================================\n",
      " flatten_5 (Flatten)         (None, 784)               0         \n",
      "                                                                 \n",
      " dense_20 (Dense)            (None, 512)               401920    \n",
      "                                                                 \n",
      " batch_normalization_6 (Batc  (None, 512)              2048      \n",
      " hNormalization)                                                 \n",
      "                                                                 \n",
      " activation_6 (Activation)   (None, 512)               0         \n",
      "                                                                 \n",
      " dropout (Dropout)           (None, 512)               0         \n",
      "                                                                 \n",
      " dense_21 (Dense)            (None, 256)               131328    \n",
      "                                                                 \n",
      " batch_normalization_7 (Batc  (None, 256)              1024      \n",
      " hNormalization)                                                 \n",
      "                                                                 \n",
      " activation_7 (Activation)   (None, 256)               0         \n",
      "                                                                 \n",
      " dropout_1 (Dropout)         (None, 256)               0         \n",
      "                                                                 \n",
      " dense_22 (Dense)            (None, 128)               32896     \n",
      "                                                                 \n",
      " batch_normalization_8 (Batc  (None, 128)              512       \n",
      " hNormalization)                                                 \n",
      "                                                                 \n",
      " activation_8 (Activation)   (None, 128)               0         \n",
      "                                                                 \n",
      " dropout_2 (Dropout)         (None, 128)               0         \n",
      "                                                                 \n",
      " dense_23 (Dense)            (None, 10)                1290      \n",
      "                                                                 \n",
      "=================================================================\n",
      "Total params: 571,018\n",
      "Trainable params: 569,226\n",
      "Non-trainable params: 1,792\n",
      "_________________________________________________________________\n",
      "None\n"
     ]
    }
   ],
   "source": [
    "print(model.summary())"
   ]
  },
  {
   "cell_type": "code",
   "execution_count": 49,
   "id": "3a8df247",
   "metadata": {
    "scrolled": true
   },
   "outputs": [],
   "source": [
    "optimizer = keras.optimizers.Adam(lr=0.01)\n",
    "model.compile(optimizer=optimizer,\n",
    "             loss=tf.keras.losses.SparseCategoricalCrossentropy(from_logits=True),\n",
    "             metrics=['accuracy'])"
   ]
  },
  {
   "cell_type": "code",
   "execution_count": 50,
   "id": "fedd1105",
   "metadata": {
    "scrolled": false
   },
   "outputs": [
    {
     "name": "stdout",
     "output_type": "stream",
     "text": [
      "Epoch 1/10\n",
      "1488/1488 [==============================] - 7s 4ms/step - loss: 0.5942 - accuracy: 0.7892 - val_loss: 0.4028 - val_accuracy: 0.8520\n",
      "Epoch 2/10\n",
      "1488/1488 [==============================] - 6s 4ms/step - loss: 0.4678 - accuracy: 0.8305 - val_loss: 0.4005 - val_accuracy: 0.8482\n",
      "Epoch 3/10\n",
      "1488/1488 [==============================] - 6s 4ms/step - loss: 0.4302 - accuracy: 0.8449 - val_loss: 0.4269 - val_accuracy: 0.8475\n",
      "Epoch 4/10\n",
      "1488/1488 [==============================] - 6s 4ms/step - loss: 0.4050 - accuracy: 0.8530 - val_loss: 0.3914 - val_accuracy: 0.8630\n",
      "Epoch 5/10\n",
      "1488/1488 [==============================] - 7s 4ms/step - loss: 0.3828 - accuracy: 0.8601 - val_loss: 0.3480 - val_accuracy: 0.8639\n",
      "Epoch 6/10\n",
      "1488/1488 [==============================] - 7s 5ms/step - loss: 0.3667 - accuracy: 0.8683 - val_loss: 0.3224 - val_accuracy: 0.8789\n",
      "Epoch 7/10\n",
      "1488/1488 [==============================] - 7s 5ms/step - loss: 0.3503 - accuracy: 0.8713 - val_loss: 0.3232 - val_accuracy: 0.8799\n",
      "Epoch 8/10\n",
      "1488/1488 [==============================] - 7s 5ms/step - loss: 0.3417 - accuracy: 0.8749 - val_loss: 0.3235 - val_accuracy: 0.8782\n",
      "Epoch 9/10\n",
      "1488/1488 [==============================] - 7s 5ms/step - loss: 0.3308 - accuracy: 0.8784 - val_loss: 0.3275 - val_accuracy: 0.8777\n",
      "Epoch 10/10\n",
      "1488/1488 [==============================] - 7s 5ms/step - loss: 0.3211 - accuracy: 0.8834 - val_loss: 0.3197 - val_accuracy: 0.8866\n"
     ]
    }
   ],
   "source": [
    "result = model.fit(X_train, y_train, epochs=10, validation_data=(X_val, y_val))"
   ]
  },
  {
   "cell_type": "code",
   "execution_count": 51,
   "id": "1f60b59c",
   "metadata": {
    "scrolled": true
   },
   "outputs": [
    {
     "data": {
      "image/png": "[encoded data removed]",
      "text/plain": [
       "<Figure size 1080x360 with 2 Axes>"
      ]
     },
     "metadata": {
      "needs_background": "light"
     },
     "output_type": "display_data"
    }
   ],
   "source": [
    "fig, axes = plt.subplots(nrows=1, ncols=2, figsize=(15,5))\n",
    "\n",
    "axes[0].plot(result.epoch, result.history['loss'], label='Train Loss')\n",
    "axes[0].plot(result.epoch, result.history['val_loss'], label='Val Loss')\n",
    "axes[0].set_ylim(0.0, 1)\n",
    "axes[0].legend()\n",
    "axes[0].set_title('Loss')\n",
    "\n",
    "axes[1].plot(result.epoch, result.history['accuracy'], label='Train Accuracy')\n",
    "axes[1].plot(result.epoch, result.history['val_accuracy'], label='Val Accuracy')\n",
    "axes[1].set_ylim(0.7, 1)\n",
    "axes[1].legend()\n",
    "axes[1].set_title('Accuracy')\n",
    "\n",
    "plt.show()"
   ]
  },
  {
   "cell_type": "markdown",
   "id": "e1c053ce",
   "metadata": {},
   "source": [
    "* Dropout을 진행한 후에는 과적합을 방지해주고 성능이 향상됨을 알 수 있음."
   ]
  },
  {
   "cell_type": "markdown",
   "id": "70297d53",
   "metadata": {},
   "source": [
    "## Regularization"
   ]
  },
  {
   "cell_type": "code",
   "execution_count": 52,
   "id": "48d043ba",
   "metadata": {
    "scrolled": true
   },
   "outputs": [],
   "source": [
    "initializer = keras.initializers.HeUniform(seed=21)\n",
    "model = keras.Sequential([\n",
    "    keras.layers.Flatten(input_shape=(28, 28)),\n",
    "    keras.layers.Dense(512, kernel_initializer=initializer),\n",
    "    keras.layers.BatchNormalization(),\n",
    "    keras.layers.Activation('relu'),\n",
    "    keras.layers.Dropout(0.2),\n",
    "    keras.layers.Dense(256, kernel_initializer=initializer),\n",
    "    keras.layers.BatchNormalization(),\n",
    "    keras.layers.Activation('relu'),\n",
    "    keras.layers.Dropout(0.2),\n",
    "    keras.layers.Dense(128, kernel_initializer=initializer),\n",
    "    keras.layers.BatchNormalization(),\n",
    "    keras.layers.Activation('relu'),\n",
    "    keras.layers.Dropout(0.2),\n",
    "    keras.layers.Dense(10, activation='softmax', kernel_initializer=initializer)\n",
    "])"
   ]
  },
  {
   "cell_type": "code",
   "execution_count": 53,
   "id": "42efc519",
   "metadata": {
    "scrolled": true
   },
   "outputs": [
    {
     "name": "stdout",
     "output_type": "stream",
     "text": [
      "Model: \"sequential_6\"\n",
      "_________________________________________________________________\n",
      " Layer (type)                Output Shape              Param #   \n",
      "=================================================================\n",
      " flatten_6 (Flatten)         (None, 784)               0         \n",
      "                                                                 \n",
      " dense_24 (Dense)            (None, 512)               401920    \n",
      "                                                                 \n",
      " batch_normalization_9 (Batc  (None, 512)              2048      \n",
      " hNormalization)                                                 \n",
      "                                                                 \n",
      " activation_9 (Activation)   (None, 512)               0         \n",
      "                                                                 \n",
      " dropout_3 (Dropout)         (None, 512)               0         \n",
      "                                                                 \n",
      " dense_25 (Dense)            (None, 256)               131328    \n",
      "                                                                 \n",
      " batch_normalization_10 (Bat  (None, 256)              1024      \n",
      " chNormalization)                                                \n",
      "                                                                 \n",
      " activation_10 (Activation)  (None, 256)               0         \n",
      "                                                                 \n",
      " dropout_4 (Dropout)         (None, 256)               0         \n",
      "                                                                 \n",
      " dense_26 (Dense)            (None, 128)               32896     \n",
      "                                                                 \n",
      " batch_normalization_11 (Bat  (None, 128)              512       \n",
      " chNormalization)                                                \n",
      "                                                                 \n",
      " activation_11 (Activation)  (None, 128)               0         \n",
      "                                                                 \n",
      " dropout_5 (Dropout)         (None, 128)               0         \n",
      "                                                                 \n",
      " dense_27 (Dense)            (None, 10)                1290      \n",
      "                                                                 \n",
      "=================================================================\n",
      "Total params: 571,018\n",
      "Trainable params: 569,226\n",
      "Non-trainable params: 1,792\n",
      "_________________________________________________________________\n",
      "None\n"
     ]
    }
   ],
   "source": [
    "print(model.summary())"
   ]
  },
  {
   "cell_type": "code",
   "execution_count": 54,
   "id": "fd12e93a",
   "metadata": {
    "scrolled": true
   },
   "outputs": [],
   "source": [
    "# decay\n",
    "optimizer = keras.optimizers.Adam(lr=0.01, decay=0.001)\n",
    "model.compile(optimizer=optimizer,\n",
    "             loss=tf.keras.losses.SparseCategoricalCrossentropy(from_logits=True),\n",
    "             metrics=['accuracy'])"
   ]
  },
  {
   "cell_type": "code",
   "execution_count": 55,
   "id": "a3170886",
   "metadata": {
    "scrolled": false
   },
   "outputs": [
    {
     "name": "stdout",
     "output_type": "stream",
     "text": [
      "Epoch 1/10\n",
      "1488/1488 [==============================] - 7s 4ms/step - loss: 0.5684 - accuracy: 0.7967 - val_loss: 0.4176 - val_accuracy: 0.8443\n",
      "Epoch 2/10\n",
      "1488/1488 [==============================] - 6s 4ms/step - loss: 0.4161 - accuracy: 0.8493 - val_loss: 0.3539 - val_accuracy: 0.8670\n",
      "Epoch 3/10\n",
      "1488/1488 [==============================] - 6s 4ms/step - loss: 0.3697 - accuracy: 0.8664 - val_loss: 0.3247 - val_accuracy: 0.8791\n",
      "Epoch 4/10\n",
      "1488/1488 [==============================] - 6s 4ms/step - loss: 0.3338 - accuracy: 0.8762 - val_loss: 0.3015 - val_accuracy: 0.8876\n",
      "Epoch 5/10\n",
      "1488/1488 [==============================] - 7s 4ms/step - loss: 0.3109 - accuracy: 0.8844 - val_loss: 0.2962 - val_accuracy: 0.8893\n",
      "Epoch 6/10\n",
      "1488/1488 [==============================] - 7s 4ms/step - loss: 0.2952 - accuracy: 0.8899 - val_loss: 0.2877 - val_accuracy: 0.8929\n",
      "Epoch 7/10\n",
      "1488/1488 [==============================] - 7s 5ms/step - loss: 0.2823 - accuracy: 0.8951 - val_loss: 0.2843 - val_accuracy: 0.8924\n",
      "Epoch 8/10\n",
      "1488/1488 [==============================] - 7s 5ms/step - loss: 0.2683 - accuracy: 0.9004 - val_loss: 0.2806 - val_accuracy: 0.8961\n",
      "Epoch 9/10\n",
      "1488/1488 [==============================] - 7s 5ms/step - loss: 0.2551 - accuracy: 0.9033 - val_loss: 0.3016 - val_accuracy: 0.8871\n",
      "Epoch 10/10\n",
      "1488/1488 [==============================] - 7s 5ms/step - loss: 0.2457 - accuracy: 0.9092 - val_loss: 0.2743 - val_accuracy: 0.8989\n"
     ]
    }
   ],
   "source": [
    "result = model.fit(X_train, y_train, epochs=10, validation_data=(X_val, y_val))"
   ]
  },
  {
   "cell_type": "code",
   "execution_count": 56,
   "id": "53cc0083",
   "metadata": {
    "scrolled": true
   },
   "outputs": [
    {
     "data": {
      "image/png": "[encoded data removed]",
      "text/plain": [
       "<Figure size 1080x360 with 2 Axes>"
      ]
     },
     "metadata": {
      "needs_background": "light"
     },
     "output_type": "display_data"
    }
   ],
   "source": [
    "fig, axes = plt.subplots(nrows=1, ncols=2, figsize=(15,5))\n",
    "\n",
    "axes[0].plot(result.epoch, result.history['loss'], label='Train Loss')\n",
    "axes[0].plot(result.epoch, result.history['val_loss'], label='Val Loss')\n",
    "axes[0].set_ylim(0.0, 1)\n",
    "axes[0].legend()\n",
    "axes[0].set_title('Loss')\n",
    "\n",
    "axes[1].plot(result.epoch, result.history['accuracy'], label='Train Accuracy')\n",
    "axes[1].plot(result.epoch, result.history['val_accuracy'], label='Val Accuracy')\n",
    "axes[1].set_ylim(0.7, 1)\n",
    "axes[1].legend()\n",
    "axes[1].set_title('Accuracy')\n",
    "\n",
    "plt.show()"
   ]
  },
  {
   "cell_type": "markdown",
   "id": "17af91d7",
   "metadata": {},
   "source": [
    "* Regularization을 한 후에는 loss가 줄어들고 accuracy가 늘어 성능이 향상됨을 알 수 있었음."
   ]
  },
  {
   "cell_type": "markdown",
   "id": "5a24b9ef",
   "metadata": {},
   "source": [
    "## 제출"
   ]
  },
  {
   "cell_type": "code",
   "execution_count": 57,
   "id": "8b6d18c9",
   "metadata": {
    "scrolled": true
   },
   "outputs": [],
   "source": [
    "BATCH_SIZE = 128\n",
    "EPOCHS = 100"
   ]
  },
  {
   "cell_type": "code",
   "execution_count": 58,
   "id": "eca8a02f",
   "metadata": {
    "scrolled": true
   },
   "outputs": [],
   "source": [
    "initializer = keras.initializers.HeUniform(seed=21)\n",
    "model = keras.Sequential([\n",
    "    keras.layers.Flatten(input_shape=(28, 28)),\n",
    "    keras.layers.Dense(512, kernel_initializer=initializer),\n",
    "    keras.layers.BatchNormalization(),\n",
    "    keras.layers.Activation('relu'),\n",
    "    keras.layers.Dropout(0.2),\n",
    "    keras.layers.Dense(256, kernel_initializer=initializer),\n",
    "    keras.layers.BatchNormalization(),\n",
    "    keras.layers.Activation('relu'),\n",
    "    keras.layers.Dropout(0.2),\n",
    "    keras.layers.Dense(128, kernel_initializer=initializer),\n",
    "    keras.layers.BatchNormalization(),\n",
    "    keras.layers.Activation('relu'),\n",
    "    keras.layers.Dropout(0.2),\n",
    "    keras.layers.Dense(10, activation='softmax', kernel_initializer=initializer)\n",
    "])"
   ]
  },
  {
   "cell_type": "code",
   "execution_count": 59,
   "id": "b5894f7d",
   "metadata": {
    "scrolled": true
   },
   "outputs": [
    {
     "name": "stdout",
     "output_type": "stream",
     "text": [
      "Model: \"sequential_7\"\n",
      "_________________________________________________________________\n",
      " Layer (type)                Output Shape              Param #   \n",
      "=================================================================\n",
      " flatten_7 (Flatten)         (None, 784)               0         \n",
      "                                                                 \n",
      " dense_28 (Dense)            (None, 512)               401920    \n",
      "                                                                 \n",
      " batch_normalization_12 (Bat  (None, 512)              2048      \n",
      " chNormalization)                                                \n",
      "                                                                 \n",
      " activation_12 (Activation)  (None, 512)               0         \n",
      "                                                                 \n",
      " dropout_6 (Dropout)         (None, 512)               0         \n",
      "                                                                 \n",
      " dense_29 (Dense)            (None, 256)               131328    \n",
      "                                                                 \n",
      " batch_normalization_13 (Bat  (None, 256)              1024      \n",
      " chNormalization)                                                \n",
      "                                                                 \n",
      " activation_13 (Activation)  (None, 256)               0         \n",
      "                                                                 \n",
      " dropout_7 (Dropout)         (None, 256)               0         \n",
      "                                                                 \n",
      " dense_30 (Dense)            (None, 128)               32896     \n",
      "                                                                 \n",
      " batch_normalization_14 (Bat  (None, 128)              512       \n",
      " chNormalization)                                                \n",
      "                                                                 \n",
      " activation_14 (Activation)  (None, 128)               0         \n",
      "                                                                 \n",
      " dropout_8 (Dropout)         (None, 128)               0         \n",
      "                                                                 \n",
      " dense_31 (Dense)            (None, 10)                1290      \n",
      "                                                                 \n",
      "=================================================================\n",
      "Total params: 571,018\n",
      "Trainable params: 569,226\n",
      "Non-trainable params: 1,792\n",
      "_________________________________________________________________\n",
      "None\n"
     ]
    }
   ],
   "source": [
    "print(model.summary())"
   ]
  },
  {
   "cell_type": "code",
   "execution_count": 60,
   "id": "a3be0f8c",
   "metadata": {
    "scrolled": true
   },
   "outputs": [],
   "source": [
    "optimizer = keras.optimizers.Adam(lr=0.01, decay=0.001)\n",
    "model.compile(optimizer=optimizer,\n",
    "             loss=tf.keras.losses.SparseCategoricalCrossentropy(from_logits=True),\n",
    "             metrics=['accuracy'])"
   ]
  },
  {
   "cell_type": "code",
   "execution_count": 61,
   "id": "922ec510",
   "metadata": {},
   "outputs": [
    {
     "name": "stdout",
     "output_type": "stream",
     "text": [
      "Epoch 1/100\n",
      "372/372 [==============================] - 3s 6ms/step - loss: 0.5267 - accuracy: 0.8096 - val_loss: 0.4530 - val_accuracy: 0.8393\n",
      "Epoch 2/100\n",
      "372/372 [==============================] - 2s 6ms/step - loss: 0.3996 - accuracy: 0.8535 - val_loss: 0.3773 - val_accuracy: 0.8568\n",
      "Epoch 3/100\n",
      "372/372 [==============================] - 2s 6ms/step - loss: 0.3524 - accuracy: 0.8713 - val_loss: 0.3741 - val_accuracy: 0.8608\n",
      "Epoch 4/100\n",
      "372/372 [==============================] - 2s 5ms/step - loss: 0.3277 - accuracy: 0.8780 - val_loss: 0.4035 - val_accuracy: 0.8450\n",
      "Epoch 5/100\n",
      "372/372 [==============================] - 2s 5ms/step - loss: 0.2990 - accuracy: 0.8889 - val_loss: 0.3256 - val_accuracy: 0.8750\n",
      "Epoch 6/100\n",
      "372/372 [==============================] - 2s 5ms/step - loss: 0.2795 - accuracy: 0.8953 - val_loss: 0.3294 - val_accuracy: 0.8763\n",
      "Epoch 7/100\n",
      "372/372 [==============================] - 2s 6ms/step - loss: 0.2624 - accuracy: 0.9015 - val_loss: 0.3206 - val_accuracy: 0.8813\n",
      "Epoch 8/100\n",
      "372/372 [==============================] - 2s 6ms/step - loss: 0.2497 - accuracy: 0.9070 - val_loss: 0.2856 - val_accuracy: 0.8933\n",
      "Epoch 9/100\n",
      "372/372 [==============================] - 2s 6ms/step - loss: 0.2342 - accuracy: 0.9119 - val_loss: 0.3018 - val_accuracy: 0.8878\n",
      "Epoch 10/100\n",
      "372/372 [==============================] - 2s 6ms/step - loss: 0.2197 - accuracy: 0.9176 - val_loss: 0.2889 - val_accuracy: 0.8935\n",
      "Epoch 11/100\n",
      "372/372 [==============================] - 2s 6ms/step - loss: 0.2083 - accuracy: 0.9217 - val_loss: 0.3086 - val_accuracy: 0.8876\n",
      "Epoch 12/100\n",
      "372/372 [==============================] - 2s 6ms/step - loss: 0.1975 - accuracy: 0.9261 - val_loss: 0.2998 - val_accuracy: 0.8923\n",
      "Epoch 13/100\n",
      "372/372 [==============================] - 2s 6ms/step - loss: 0.1907 - accuracy: 0.9291 - val_loss: 0.2994 - val_accuracy: 0.8947\n",
      "Epoch 14/100\n",
      "372/372 [==============================] - 2s 6ms/step - loss: 0.1769 - accuracy: 0.9339 - val_loss: 0.3028 - val_accuracy: 0.8967\n",
      "Epoch 15/100\n",
      "372/372 [==============================] - 2s 6ms/step - loss: 0.1698 - accuracy: 0.9358 - val_loss: 0.2925 - val_accuracy: 0.9040\n",
      "Epoch 16/100\n",
      "372/372 [==============================] - 2s 6ms/step - loss: 0.1646 - accuracy: 0.9377 - val_loss: 0.2992 - val_accuracy: 0.8969\n",
      "Epoch 17/100\n",
      "372/372 [==============================] - 3s 7ms/step - loss: 0.1560 - accuracy: 0.9419 - val_loss: 0.3117 - val_accuracy: 0.8974\n",
      "Epoch 18/100\n",
      "372/372 [==============================] - 2s 6ms/step - loss: 0.1467 - accuracy: 0.9445 - val_loss: 0.3078 - val_accuracy: 0.9008\n",
      "Epoch 19/100\n",
      "372/372 [==============================] - 2s 6ms/step - loss: 0.1412 - accuracy: 0.9469 - val_loss: 0.3098 - val_accuracy: 0.9027\n",
      "Epoch 20/100\n",
      "372/372 [==============================] - 2s 6ms/step - loss: 0.1338 - accuracy: 0.9503 - val_loss: 0.3398 - val_accuracy: 0.8957\n",
      "Epoch 21/100\n",
      "372/372 [==============================] - 2s 6ms/step - loss: 0.1295 - accuracy: 0.9509 - val_loss: 0.3137 - val_accuracy: 0.9002\n",
      "Epoch 22/100\n",
      "372/372 [==============================] - 2s 6ms/step - loss: 0.1240 - accuracy: 0.9532 - val_loss: 0.3067 - val_accuracy: 0.9021\n",
      "Epoch 23/100\n",
      "372/372 [==============================] - 2s 6ms/step - loss: 0.1202 - accuracy: 0.9544 - val_loss: 0.3230 - val_accuracy: 0.9030\n",
      "Epoch 24/100\n",
      "372/372 [==============================] - 3s 7ms/step - loss: 0.1100 - accuracy: 0.9585 - val_loss: 0.3332 - val_accuracy: 0.9041\n",
      "Epoch 25/100\n",
      "372/372 [==============================] - 2s 7ms/step - loss: 0.1074 - accuracy: 0.9595 - val_loss: 0.3273 - val_accuracy: 0.9019\n",
      "Epoch 26/100\n",
      "372/372 [==============================] - 3s 7ms/step - loss: 0.1051 - accuracy: 0.9609 - val_loss: 0.3574 - val_accuracy: 0.8969\n",
      "Epoch 27/100\n",
      "372/372 [==============================] - 3s 7ms/step - loss: 0.1021 - accuracy: 0.9618 - val_loss: 0.3397 - val_accuracy: 0.9024\n",
      "Epoch 28/100\n",
      "372/372 [==============================] - 3s 7ms/step - loss: 0.0957 - accuracy: 0.9638 - val_loss: 0.3688 - val_accuracy: 0.9008\n",
      "Epoch 29/100\n",
      "372/372 [==============================] - 2s 7ms/step - loss: 0.0968 - accuracy: 0.9629 - val_loss: 0.3478 - val_accuracy: 0.9027\n",
      "Epoch 30/100\n",
      "372/372 [==============================] - 3s 8ms/step - loss: 0.0933 - accuracy: 0.9649 - val_loss: 0.3511 - val_accuracy: 0.9025\n",
      "Epoch 31/100\n",
      "372/372 [==============================] - 3s 7ms/step - loss: 0.0885 - accuracy: 0.9661 - val_loss: 0.3559 - val_accuracy: 0.9022\n",
      "Epoch 32/100\n",
      "372/372 [==============================] - 2s 7ms/step - loss: 0.0851 - accuracy: 0.9684 - val_loss: 0.3654 - val_accuracy: 0.9022\n",
      "Epoch 33/100\n",
      "372/372 [==============================] - 2s 6ms/step - loss: 0.0817 - accuracy: 0.9694 - val_loss: 0.3742 - val_accuracy: 0.9030\n",
      "Epoch 34/100\n",
      "372/372 [==============================] - 2s 7ms/step - loss: 0.0788 - accuracy: 0.9714 - val_loss: 0.3758 - val_accuracy: 0.9053\n",
      "Epoch 35/100\n",
      "372/372 [==============================] - 3s 7ms/step - loss: 0.0756 - accuracy: 0.9716 - val_loss: 0.3740 - val_accuracy: 0.9043\n",
      "Epoch 36/100\n",
      "372/372 [==============================] - 3s 8ms/step - loss: 0.0768 - accuracy: 0.9711 - val_loss: 0.3847 - val_accuracy: 0.9054\n",
      "Epoch 37/100\n",
      "372/372 [==============================] - 3s 8ms/step - loss: 0.0718 - accuracy: 0.9728 - val_loss: 0.4092 - val_accuracy: 0.9022\n",
      "Epoch 38/100\n",
      "372/372 [==============================] - 3s 8ms/step - loss: 0.0706 - accuracy: 0.9733 - val_loss: 0.3987 - val_accuracy: 0.9028\n",
      "Epoch 39/100\n",
      "372/372 [==============================] - 2s 7ms/step - loss: 0.0673 - accuracy: 0.9747 - val_loss: 0.4145 - val_accuracy: 0.9001\n",
      "Epoch 40/100\n",
      "372/372 [==============================] - 3s 7ms/step - loss: 0.0653 - accuracy: 0.9755 - val_loss: 0.3957 - val_accuracy: 0.9047\n",
      "Epoch 41/100\n",
      "372/372 [==============================] - 3s 7ms/step - loss: 0.0650 - accuracy: 0.9761 - val_loss: 0.4245 - val_accuracy: 0.9044\n",
      "Epoch 42/100\n",
      "372/372 [==============================] - 3s 7ms/step - loss: 0.0640 - accuracy: 0.9756 - val_loss: 0.4091 - val_accuracy: 0.9036\n",
      "Epoch 43/100\n",
      "372/372 [==============================] - 3s 7ms/step - loss: 0.0620 - accuracy: 0.9760 - val_loss: 0.4115 - val_accuracy: 0.9018\n",
      "Epoch 44/100\n",
      "372/372 [==============================] - 2s 6ms/step - loss: 0.0579 - accuracy: 0.9777 - val_loss: 0.4251 - val_accuracy: 0.9042\n",
      "Epoch 45/100\n",
      "372/372 [==============================] - 2s 7ms/step - loss: 0.0580 - accuracy: 0.9788 - val_loss: 0.4318 - val_accuracy: 0.9006\n",
      "Epoch 46/100\n",
      "372/372 [==============================] - 3s 7ms/step - loss: 0.0578 - accuracy: 0.9784 - val_loss: 0.4215 - val_accuracy: 0.9055\n",
      "Epoch 47/100\n",
      "372/372 [==============================] - 3s 7ms/step - loss: 0.0539 - accuracy: 0.9798 - val_loss: 0.4316 - val_accuracy: 0.9055\n",
      "Epoch 48/100\n",
      "372/372 [==============================] - 2s 7ms/step - loss: 0.0525 - accuracy: 0.9804 - val_loss: 0.4291 - val_accuracy: 0.9069\n",
      "Epoch 49/100\n",
      "372/372 [==============================] - 3s 7ms/step - loss: 0.0541 - accuracy: 0.9800 - val_loss: 0.4268 - val_accuracy: 0.9062\n",
      "Epoch 50/100\n",
      "372/372 [==============================] - 3s 8ms/step - loss: 0.0522 - accuracy: 0.9811 - val_loss: 0.4381 - val_accuracy: 0.9035\n",
      "Epoch 51/100\n",
      "372/372 [==============================] - 3s 8ms/step - loss: 0.0504 - accuracy: 0.9813 - val_loss: 0.4371 - val_accuracy: 0.9045\n",
      "Epoch 52/100\n",
      "372/372 [==============================] - 3s 8ms/step - loss: 0.0497 - accuracy: 0.9817 - val_loss: 0.4401 - val_accuracy: 0.9062\n",
      "Epoch 53/100\n",
      "372/372 [==============================] - 3s 8ms/step - loss: 0.0492 - accuracy: 0.9813 - val_loss: 0.4427 - val_accuracy: 0.9034\n",
      "Epoch 54/100\n",
      "372/372 [==============================] - 3s 8ms/step - loss: 0.0464 - accuracy: 0.9824 - val_loss: 0.4483 - val_accuracy: 0.9026\n",
      "Epoch 55/100\n",
      "372/372 [==============================] - 3s 8ms/step - loss: 0.0458 - accuracy: 0.9826 - val_loss: 0.4650 - val_accuracy: 0.9024\n",
      "Epoch 56/100\n",
      "372/372 [==============================] - 3s 8ms/step - loss: 0.0466 - accuracy: 0.9827 - val_loss: 0.4518 - val_accuracy: 0.9043\n",
      "Epoch 57/100\n",
      "372/372 [==============================] - 3s 8ms/step - loss: 0.0425 - accuracy: 0.9840 - val_loss: 0.4729 - val_accuracy: 0.9043\n"
     ]
    },
    {
     "name": "stdout",
     "output_type": "stream",
     "text": [
      "Epoch 58/100\n",
      "372/372 [==============================] - 3s 8ms/step - loss: 0.0446 - accuracy: 0.9834 - val_loss: 0.4710 - val_accuracy: 0.9035\n",
      "Epoch 59/100\n",
      "372/372 [==============================] - 3s 8ms/step - loss: 0.0434 - accuracy: 0.9836 - val_loss: 0.4689 - val_accuracy: 0.9042\n",
      "Epoch 60/100\n",
      "372/372 [==============================] - 3s 8ms/step - loss: 0.0417 - accuracy: 0.9853 - val_loss: 0.4853 - val_accuracy: 0.9020\n",
      "Epoch 61/100\n",
      "372/372 [==============================] - 3s 9ms/step - loss: 0.0406 - accuracy: 0.9849 - val_loss: 0.4815 - val_accuracy: 0.9049\n",
      "Epoch 62/100\n",
      "372/372 [==============================] - 3s 9ms/step - loss: 0.0392 - accuracy: 0.9854 - val_loss: 0.4745 - val_accuracy: 0.9058\n",
      "Epoch 63/100\n",
      "372/372 [==============================] - 4s 10ms/step - loss: 0.0405 - accuracy: 0.9850 - val_loss: 0.4726 - val_accuracy: 0.9050\n",
      "Epoch 64/100\n",
      "372/372 [==============================] - 5s 14ms/step - loss: 0.0396 - accuracy: 0.9852 - val_loss: 0.4887 - val_accuracy: 0.9060\n",
      "Epoch 65/100\n",
      "372/372 [==============================] - 4s 10ms/step - loss: 0.0380 - accuracy: 0.9863 - val_loss: 0.4914 - val_accuracy: 0.9043\n",
      "Epoch 66/100\n",
      "372/372 [==============================] - 3s 9ms/step - loss: 0.0384 - accuracy: 0.9859 - val_loss: 0.4871 - val_accuracy: 0.9024\n",
      "Epoch 67/100\n",
      "372/372 [==============================] - 3s 9ms/step - loss: 0.0369 - accuracy: 0.9860 - val_loss: 0.4808 - val_accuracy: 0.9046\n",
      "Epoch 68/100\n",
      "372/372 [==============================] - 4s 10ms/step - loss: 0.0353 - accuracy: 0.9871 - val_loss: 0.5011 - val_accuracy: 0.9017\n",
      "Epoch 69/100\n",
      "372/372 [==============================] - 4s 10ms/step - loss: 0.0363 - accuracy: 0.9859 - val_loss: 0.4964 - val_accuracy: 0.9055\n",
      "Epoch 70/100\n",
      "372/372 [==============================] - 4s 10ms/step - loss: 0.0340 - accuracy: 0.9876 - val_loss: 0.5009 - val_accuracy: 0.9049\n",
      "Epoch 71/100\n",
      "372/372 [==============================] - 5s 14ms/step - loss: 0.0355 - accuracy: 0.9868 - val_loss: 0.4950 - val_accuracy: 0.9047\n",
      "Epoch 72/100\n",
      "372/372 [==============================] - 5s 15ms/step - loss: 0.0352 - accuracy: 0.9869 - val_loss: 0.5017 - val_accuracy: 0.9055\n",
      "Epoch 73/100\n",
      "372/372 [==============================] - 5s 15ms/step - loss: 0.0344 - accuracy: 0.9872 - val_loss: 0.5029 - val_accuracy: 0.9065\n",
      "Epoch 74/100\n",
      "372/372 [==============================] - 6s 16ms/step - loss: 0.0333 - accuracy: 0.9881 - val_loss: 0.5069 - val_accuracy: 0.9058\n",
      "Epoch 75/100\n",
      "372/372 [==============================] - 6s 15ms/step - loss: 0.0332 - accuracy: 0.9878 - val_loss: 0.4998 - val_accuracy: 0.9058\n",
      "Epoch 76/100\n",
      "372/372 [==============================] - 4s 11ms/step - loss: 0.0328 - accuracy: 0.9883 - val_loss: 0.4937 - val_accuracy: 0.9039\n",
      "Epoch 77/100\n",
      "372/372 [==============================] - 4s 11ms/step - loss: 0.0315 - accuracy: 0.9885 - val_loss: 0.5306 - val_accuracy: 0.9011\n",
      "Epoch 78/100\n",
      "372/372 [==============================] - 4s 10ms/step - loss: 0.0303 - accuracy: 0.9887 - val_loss: 0.5052 - val_accuracy: 0.9031\n",
      "Epoch 79/100\n",
      "372/372 [==============================] - 4s 10ms/step - loss: 0.0310 - accuracy: 0.9892 - val_loss: 0.5163 - val_accuracy: 0.9045\n",
      "Epoch 80/100\n",
      "372/372 [==============================] - 3s 9ms/step - loss: 0.0314 - accuracy: 0.9888 - val_loss: 0.5258 - val_accuracy: 0.9052\n",
      "Epoch 81/100\n",
      "372/372 [==============================] - 3s 9ms/step - loss: 0.0288 - accuracy: 0.9896 - val_loss: 0.5301 - val_accuracy: 0.9044\n",
      "Epoch 82/100\n",
      "372/372 [==============================] - 3s 9ms/step - loss: 0.0300 - accuracy: 0.9891 - val_loss: 0.5291 - val_accuracy: 0.9050\n",
      "Epoch 83/100\n",
      "372/372 [==============================] - 3s 9ms/step - loss: 0.0273 - accuracy: 0.9904 - val_loss: 0.5242 - val_accuracy: 0.9050\n",
      "Epoch 84/100\n",
      "372/372 [==============================] - 3s 8ms/step - loss: 0.0300 - accuracy: 0.9891 - val_loss: 0.5227 - val_accuracy: 0.9039\n",
      "Epoch 85/100\n",
      "372/372 [==============================] - 3s 8ms/step - loss: 0.0266 - accuracy: 0.9906 - val_loss: 0.5361 - val_accuracy: 0.9056\n",
      "Epoch 86/100\n",
      "372/372 [==============================] - 3s 8ms/step - loss: 0.0285 - accuracy: 0.9899 - val_loss: 0.5225 - val_accuracy: 0.9055\n",
      "Epoch 87/100\n",
      "372/372 [==============================] - 3s 8ms/step - loss: 0.0258 - accuracy: 0.9903 - val_loss: 0.5406 - val_accuracy: 0.9036\n",
      "Epoch 88/100\n",
      "372/372 [==============================] - 4s 10ms/step - loss: 0.0277 - accuracy: 0.9895 - val_loss: 0.5288 - val_accuracy: 0.9076\n",
      "Epoch 89/100\n",
      "372/372 [==============================] - 4s 12ms/step - loss: 0.0261 - accuracy: 0.9908 - val_loss: 0.5330 - val_accuracy: 0.9047\n",
      "Epoch 90/100\n",
      "372/372 [==============================] - 4s 9ms/step - loss: 0.0253 - accuracy: 0.9912 - val_loss: 0.5406 - val_accuracy: 0.9049\n",
      "Epoch 91/100\n",
      "372/372 [==============================] - 4s 10ms/step - loss: 0.0261 - accuracy: 0.9907 - val_loss: 0.5482 - val_accuracy: 0.9042\n",
      "Epoch 92/100\n",
      "372/372 [==============================] - 5s 13ms/step - loss: 0.0250 - accuracy: 0.9914 - val_loss: 0.5485 - val_accuracy: 0.9061\n",
      "Epoch 93/100\n",
      "372/372 [==============================] - 5s 14ms/step - loss: 0.0263 - accuracy: 0.9906 - val_loss: 0.5296 - val_accuracy: 0.9066\n",
      "Epoch 94/100\n",
      "372/372 [==============================] - 5s 12ms/step - loss: 0.0258 - accuracy: 0.9904 - val_loss: 0.5400 - val_accuracy: 0.9061\n",
      "Epoch 95/100\n",
      "372/372 [==============================] - 4s 11ms/step - loss: 0.0257 - accuracy: 0.9907 - val_loss: 0.5448 - val_accuracy: 0.9056\n",
      "Epoch 96/100\n",
      "372/372 [==============================] - 4s 12ms/step - loss: 0.0243 - accuracy: 0.9913 - val_loss: 0.5326 - val_accuracy: 0.9057\n",
      "Epoch 97/100\n",
      "372/372 [==============================] - 4s 10ms/step - loss: 0.0251 - accuracy: 0.9914 - val_loss: 0.5542 - val_accuracy: 0.9034\n",
      "Epoch 98/100\n",
      "372/372 [==============================] - 4s 12ms/step - loss: 0.0236 - accuracy: 0.9909 - val_loss: 0.5595 - val_accuracy: 0.9049\n",
      "Epoch 99/100\n",
      "372/372 [==============================] - 5s 13ms/step - loss: 0.0234 - accuracy: 0.9917 - val_loss: 0.5582 - val_accuracy: 0.9058\n",
      "Epoch 100/100\n",
      "372/372 [==============================] - 6s 15ms/step - loss: 0.0232 - accuracy: 0.9916 - val_loss: 0.5496 - val_accuracy: 0.9066\n"
     ]
    }
   ],
   "source": [
    "result = model.fit(X_train, y_train, epochs=EPOCHS, validation_data=(X_val, y_val), batch_size=BATCH_SIZE)"
   ]
  },
  {
   "cell_type": "code",
   "execution_count": 63,
   "id": "28c328dd",
   "metadata": {},
   "outputs": [
    {
     "data": {
      "image/png": "[encoded data removed]",
      "text/plain": [
       "<Figure size 1080x360 with 2 Axes>"
      ]
     },
     "metadata": {
      "needs_background": "light"
     },
     "output_type": "display_data"
    }
   ],
   "source": [
    "fig, axes = plt.subplots(nrows=1, ncols=2, figsize=(15,5))\n",
    "\n",
    "axes[0].plot(result.epoch, result.history['loss'], label='Train Loss')\n",
    "axes[0].plot(result.epoch, result.history['val_loss'], label='Val Loss')\n",
    "axes[0].set_ylim(0.0, 1)\n",
    "axes[0].legend()\n",
    "axes[0].set_title('Loss')\n",
    "\n",
    "axes[1].plot(result.epoch, result.history['accuracy'], label='Train Accuracy')\n",
    "axes[1].plot(result.epoch, result.history['val_accuracy'], label='Val Accuracy')\n",
    "axes[1].set_ylim(0.7, 1)\n",
    "axes[1].legend()\n",
    "axes[1].set_title('Accuracy')\n",
    "\n",
    "plt.show()"
   ]
  },
  {
   "cell_type": "code",
   "execution_count": 64,
   "id": "5d8c6534",
   "metadata": {},
   "outputs": [
    {
     "data": {
      "text/html": [
       "<div>\n",
       "<style scoped>\n",
       "    .dataframe tbody tr th:only-of-type {\n",
       "        vertical-align: middle;\n",
       "    }\n",
       "\n",
       "    .dataframe tbody tr th {\n",
       "        vertical-align: top;\n",
       "    }\n",
       "\n",
       "    .dataframe thead th {\n",
       "        text-align: right;\n",
       "    }\n",
       "</style>\n",
       "<table border=\"1\" class=\"dataframe\">\n",
       "  <thead>\n",
       "    <tr style=\"text-align: right;\">\n",
       "      <th></th>\n",
       "      <th>id</th>\n",
       "      <th>label</th>\n",
       "    </tr>\n",
       "  </thead>\n",
       "  <tbody>\n",
       "    <tr>\n",
       "      <th>0</th>\n",
       "      <td>0</td>\n",
       "      <td>6</td>\n",
       "    </tr>\n",
       "    <tr>\n",
       "      <th>1</th>\n",
       "      <td>1</td>\n",
       "      <td>4</td>\n",
       "    </tr>\n",
       "    <tr>\n",
       "      <th>2</th>\n",
       "      <td>2</td>\n",
       "      <td>0</td>\n",
       "    </tr>\n",
       "    <tr>\n",
       "      <th>3</th>\n",
       "      <td>3</td>\n",
       "      <td>6</td>\n",
       "    </tr>\n",
       "    <tr>\n",
       "      <th>4</th>\n",
       "      <td>4</td>\n",
       "      <td>6</td>\n",
       "    </tr>\n",
       "  </tbody>\n",
       "</table>\n",
       "</div>"
      ],
      "text/plain": [
       "   id  label\n",
       "0   0      6\n",
       "1   1      4\n",
       "2   2      0\n",
       "3   3      6\n",
       "4   4      6"
      ]
     },
     "execution_count": 64,
     "metadata": {},
     "output_type": "execute_result"
    }
   ],
   "source": [
    "pred_label = np.argmax(model.predict(X_test), axis=1)\n",
    "submission['label'] = pred_label\n",
    "submission.to_csv(data_dir + 'BaseLine_Model.csv', index=False)\n",
    "submission.head()"
   ]
  },
  {
   "cell_type": "markdown",
   "id": "7d44da25",
   "metadata": {},
   "source": [
    "# Assignment\n"
   ]
  },
  {
   "cell_type": "code",
   "execution_count": 66,
   "id": "736594b3",
   "metadata": {},
   "outputs": [
    {
     "name": "stdout",
     "output_type": "stream",
     "text": [
      "Collecting tensorflow_datasets\n",
      "  Downloading tensorflow_datasets-4.5.2-py3-none-any.whl (4.2 MB)\n",
      "     ---------------------------------------- 4.2/4.2 MB 20.5 MB/s eta 0:00:00\n",
      "Requirement already satisfied: tqdm in c:\\users\\user\\anaconda3\\lib\\site-packages (from tensorflow_datasets) (4.62.3)\n",
      "Requirement already satisfied: numpy in c:\\users\\user\\anaconda3\\lib\\site-packages (from tensorflow_datasets) (1.20.3)\n",
      "Collecting tensorflow-metadata\n",
      "  Downloading tensorflow_metadata-1.7.0-py3-none-any.whl (48 kB)\n",
      "     ---------------------------------------- 48.8/48.8 KB 2.6 MB/s eta 0:00:00\n",
      "Requirement already satisfied: requests>=2.19.0 in c:\\users\\user\\anaconda3\\lib\\site-packages (from tensorflow_datasets) (2.26.0)\n",
      "Requirement already satisfied: six in c:\\users\\user\\anaconda3\\lib\\site-packages (from tensorflow_datasets) (1.16.0)\n",
      "Requirement already satisfied: termcolor in c:\\users\\user\\anaconda3\\lib\\site-packages (from tensorflow_datasets) (1.1.0)\n",
      "Collecting dill\n",
      "  Downloading dill-0.3.4-py2.py3-none-any.whl (86 kB)\n",
      "     ---------------------------------------- 86.9/86.9 KB 4.8 MB/s eta 0:00:00\n",
      "Collecting promise\n",
      "  Downloading promise-2.3.tar.gz (19 kB)\n",
      "  Preparing metadata (setup.py): started\n",
      "Note: you may need to restart the kernel to use updated packages.\n",
      "  Preparing metadata (setup.py): finished with status 'done'\n",
      "Requirement already satisfied: absl-py in c:\\users\\user\\anaconda3\\lib\\site-packages (from tensorflow_datasets) (1.0.0)\n",
      "Requirement already satisfied: protobuf>=3.12.2 in c:\\users\\user\\anaconda3\\lib\\site-packages (from tensorflow_datasets) (3.19.4)\n",
      "Requirement already satisfied: idna<4,>=2.5 in c:\\users\\user\\anaconda3\\lib\\site-packages (from requests>=2.19.0->tensorflow_datasets) (3.2)\n",
      "Requirement already satisfied: charset-normalizer~=2.0.0 in c:\\users\\user\\anaconda3\\lib\\site-packages (from requests>=2.19.0->tensorflow_datasets) (2.0.4)\n",
      "Requirement already satisfied: certifi>=2017.4.17 in c:\\users\\user\\anaconda3\\lib\\site-packages (from requests>=2.19.0->tensorflow_datasets) (2021.10.8)\n",
      "Requirement already satisfied: urllib3<1.27,>=1.21.1 in c:\\users\\user\\anaconda3\\lib\\site-packages (from requests>=2.19.0->tensorflow_datasets) (1.26.7)\n",
      "Collecting googleapis-common-protos<2,>=1.52.0\n",
      "  Downloading googleapis_common_protos-1.55.0-py2.py3-none-any.whl (212 kB)\n",
      "     ------------------------------------- 212.3/212.3 KB 12.6 MB/s eta 0:00:00\n",
      "Requirement already satisfied: colorama in c:\\users\\user\\anaconda3\\lib\\site-packages (from tqdm->tensorflow_datasets) (0.4.4)\n",
      "Building wheels for collected packages: promise\n",
      "  Building wheel for promise (setup.py): started\n",
      "  Building wheel for promise (setup.py): finished with status 'done'\n",
      "  Created wheel for promise: filename=promise-2.3-py3-none-any.whl size=21502 sha256=4f6b80c5e44552c16ee19044e34ae0960ae58613f4a385b129e62f48a93ab804\n",
      "  Stored in directory: c:\\users\\user\\appdata\\local\\pip\\cache\\wheels\\e1\\e8\\83\\ddea66100678d139b14bc87692ece57c6a2a937956d2532608\n",
      "Successfully built promise\n",
      "Installing collected packages: promise, googleapis-common-protos, dill, tensorflow-metadata, tensorflow_datasets\n",
      "Successfully installed dill-0.3.4 googleapis-common-protos-1.55.0 promise-2.3 tensorflow-metadata-1.7.0 tensorflow_datasets-4.5.2\n"
     ]
    }
   ],
   "source": [
    "#pip install tensorflow_datasets"
   ]
  },
  {
   "cell_type": "code",
   "execution_count": 67,
   "id": "f4d6bbc7",
   "metadata": {},
   "outputs": [],
   "source": [
    "import tensorflow as tf\n",
    "import tensorflow_datasets as tfds\n",
    "from tensorflow import keras\n",
    "from keras.utils import np_utils"
   ]
  },
  {
   "cell_type": "code",
   "execution_count": 68,
   "id": "85c45560",
   "metadata": {},
   "outputs": [],
   "source": [
    "X_train_after = X_train.astype('float32')\n",
    "X_test1_after = X_val.astype('float32')\n",
    "X_test2_after = X_test.astype('float32')"
   ]
  },
  {
   "cell_type": "code",
   "execution_count": 69,
   "id": "dbf111a6",
   "metadata": {},
   "outputs": [],
   "source": [
    "batch_size = 64"
   ]
  },
  {
   "cell_type": "code",
   "execution_count": 70,
   "id": "24696dd3",
   "metadata": {},
   "outputs": [],
   "source": [
    "from tensorflow.keras.preprocessing.image import ImageDataGenerator"
   ]
  },
  {
   "cell_type": "code",
   "execution_count": 71,
   "id": "71647328",
   "metadata": {},
   "outputs": [],
   "source": [
    "datagen = ImageDataGenerator(rotation_range=0,\n",
    "                            width_shift_range=0.1,\n",
    "                            height_shift_range=0.1,\n",
    "                            horizontal_flip=True)"
   ]
  },
  {
   "cell_type": "code",
   "execution_count": 73,
   "id": "dbf25d0f",
   "metadata": {},
   "outputs": [],
   "source": [
    "train_dataset = datagen.flow(X_train_after, y_train, batch_size=batch_size)\n",
    "test1_dataset = tf.data.Dataset.from_tensor_slices((X_test1_after, y_val))\n",
    "test1_dataset = test1_dataset.batch(batch_size)"
   ]
  },
  {
   "cell_type": "markdown",
   "id": "ae325366",
   "metadata": {},
   "source": [
    "## 라이브러리 임포트"
   ]
  },
  {
   "cell_type": "code",
   "execution_count": 74,
   "id": "988a93dd",
   "metadata": {},
   "outputs": [],
   "source": [
    "from tensorflow.keras.layers import Dense, Conv2D, MaxPooling2D, Flatten, Dropout, GlobalAveragePooling2D, Activation, BatchNormalization\n",
    "from tensorflow.keras.models import Sequential\n",
    "from tensorflow.keras.callbacks import ModelCheckpoint"
   ]
  },
  {
   "cell_type": "code",
   "execution_count": 75,
   "id": "dfb0e0c2",
   "metadata": {},
   "outputs": [],
   "source": [
    "model = Sequential([\n",
    "    Conv2D(64, (3,3), kernel_initializer='he_uniform', padding='same', input_shape=(28,28,1)),\n",
    "    BatchNormalization(),\n",
    "    Activation('relu'),\n",
    "    Conv2D(64, (3,3), kernel_initializer='he_uniform', padding='same'),\n",
    "    BatchNormalization(),\n",
    "    Activation('relu'),\n",
    "    MaxPooling2D((2,2)),\n",
    "    \n",
    "    Conv2D(128, (3,3), kernel_initializer='he_uniform', padding='same'),\n",
    "    BatchNormalization(),\n",
    "    Activation('relu'),\n",
    "    Conv2D(128, (3,3), kernel_initializer='he_uniform', padding='same'),\n",
    "    BatchNormalization(),\n",
    "    Activation('relu'),\n",
    "    MaxPooling2D((2,2)),\n",
    "    \n",
    "    Conv2D(256, (3,3), activation='relu', kernel_initializer='he_uniform', padding='same'),\n",
    "    BatchNormalization(),\n",
    "    Activation('relu'),\n",
    "    Conv2D(64, (3,3), activation='relu', kernel_initializer='he_uniform', padding='same'),\n",
    "    BatchNormalization(),\n",
    "    Activation('relu'),\n",
    "    Conv2D(256, (3,3), activation='relu', kernel_initializer='he_uniform', padding='same'),\n",
    "    BatchNormalization(),\n",
    "    Activation('relu'),\n",
    "    MaxPooling2D((2,2)),\n",
    "    \n",
    "    Conv2D(512, (3,3), kernel_initializer='he_uniform', padding='same'),\n",
    "    BatchNormalization(),\n",
    "    Activation('relu'),\n",
    "    Conv2D(64, (3,3), kernel_initializer='he_uniform', padding='same'),\n",
    "    BatchNormalization(),\n",
    "    Activation('relu'),\n",
    "    Conv2D(256, (3,3), kernel_initializer='he_uniform', padding='same'),\n",
    "    BatchNormalization(),\n",
    "    Activation('relu'),\n",
    "    MaxPooling2D((2,2)),\n",
    "    \n",
    "    Flatten(),\n",
    "    Dropout(0.6),\n",
    "    \n",
    "    Dense(512),\n",
    "    BatchNormalization(),\n",
    "    Activation('relu'),\n",
    "    Dropout(0.5),\n",
    "    \n",
    "    Dense(256),\n",
    "    BatchNormalization(),\n",
    "    Activation('relu'),\n",
    "    Dropout(0.5),\n",
    "    \n",
    "    Dense(10, activation='softmax')\n",
    "    \n",
    "])"
   ]
  },
  {
   "cell_type": "code",
   "execution_count": 76,
   "id": "02367624",
   "metadata": {},
   "outputs": [],
   "source": [
    "from keras import optimizers"
   ]
  },
  {
   "cell_type": "code",
   "execution_count": 83,
   "id": "a46dbeb9",
   "metadata": {},
   "outputs": [],
   "source": [
    "model.compile(optimizer='adam', loss='sparse_categorical_crossentropy', metrics=[tf.keras.metrics.SparseCategoricalAccuracy()])"
   ]
  },
  {
   "cell_type": "code",
   "execution_count": 84,
   "id": "25f0fa30",
   "metadata": {},
   "outputs": [],
   "source": [
    "cp_callback = tf.keras.callbacks.ModelCheckpoint(filepath='/content/checkpoint_entire_best.h5', monitor='val_sparse_categorical_accuracy', verbose=1, save_weight_only=False, save_best_only=True, mode='auto')"
   ]
  },
  {
   "cell_type": "code",
   "execution_count": 85,
   "id": "41b97e45",
   "metadata": {},
   "outputs": [],
   "source": [
    "from keras.callbacks import EarlyStopping"
   ]
  },
  {
   "cell_type": "code",
   "execution_count": 86,
   "id": "3dd7e631",
   "metadata": {},
   "outputs": [],
   "source": [
    "earlystopping = EarlyStopping\n",
    "earlystopping = EarlyStopping(monitor='val_loss',\n",
    "                             patience=10,)"
   ]
  },
  {
   "cell_type": "code",
   "execution_count": 87,
   "id": "8be37ede",
   "metadata": {},
   "outputs": [
    {
     "name": "stdout",
     "output_type": "stream",
     "text": [
      "Model: \"sequential_8\"\n",
      "_________________________________________________________________\n",
      " Layer (type)                Output Shape              Param #   \n",
      "=================================================================\n",
      " conv2d (Conv2D)             (None, 28, 28, 64)        640       \n",
      "                                                                 \n",
      " batch_normalization_15 (Bat  (None, 28, 28, 64)       256       \n",
      " chNormalization)                                                \n",
      "                                                                 \n",
      " activation_15 (Activation)  (None, 28, 28, 64)        0         \n",
      "                                                                 \n",
      " conv2d_1 (Conv2D)           (None, 28, 28, 64)        36928     \n",
      "                                                                 \n",
      " batch_normalization_16 (Bat  (None, 28, 28, 64)       256       \n",
      " chNormalization)                                                \n",
      "                                                                 \n",
      " activation_16 (Activation)  (None, 28, 28, 64)        0         \n",
      "                                                                 \n",
      " max_pooling2d (MaxPooling2D  (None, 14, 14, 64)       0         \n",
      " )                                                               \n",
      "                                                                 \n",
      " conv2d_2 (Conv2D)           (None, 14, 14, 128)       73856     \n",
      "                                                                 \n",
      " batch_normalization_17 (Bat  (None, 14, 14, 128)      512       \n",
      " chNormalization)                                                \n",
      "                                                                 \n",
      " activation_17 (Activation)  (None, 14, 14, 128)       0         \n",
      "                                                                 \n",
      " conv2d_3 (Conv2D)           (None, 14, 14, 128)       147584    \n",
      "                                                                 \n",
      " batch_normalization_18 (Bat  (None, 14, 14, 128)      512       \n",
      " chNormalization)                                                \n",
      "                                                                 \n",
      " activation_18 (Activation)  (None, 14, 14, 128)       0         \n",
      "                                                                 \n",
      " max_pooling2d_1 (MaxPooling  (None, 7, 7, 128)        0         \n",
      " 2D)                                                             \n",
      "                                                                 \n",
      " conv2d_4 (Conv2D)           (None, 7, 7, 256)         295168    \n",
      "                                                                 \n",
      " batch_normalization_19 (Bat  (None, 7, 7, 256)        1024      \n",
      " chNormalization)                                                \n",
      "                                                                 \n",
      " activation_19 (Activation)  (None, 7, 7, 256)         0         \n",
      "                                                                 \n",
      " conv2d_5 (Conv2D)           (None, 7, 7, 64)          147520    \n",
      "                                                                 \n",
      " batch_normalization_20 (Bat  (None, 7, 7, 64)         256       \n",
      " chNormalization)                                                \n",
      "                                                                 \n",
      " activation_20 (Activation)  (None, 7, 7, 64)          0         \n",
      "                                                                 \n",
      " conv2d_6 (Conv2D)           (None, 7, 7, 256)         147712    \n",
      "                                                                 \n",
      " batch_normalization_21 (Bat  (None, 7, 7, 256)        1024      \n",
      " chNormalization)                                                \n",
      "                                                                 \n",
      " activation_21 (Activation)  (None, 7, 7, 256)         0         \n",
      "                                                                 \n",
      " max_pooling2d_2 (MaxPooling  (None, 3, 3, 256)        0         \n",
      " 2D)                                                             \n",
      "                                                                 \n",
      " conv2d_7 (Conv2D)           (None, 3, 3, 512)         1180160   \n",
      "                                                                 \n",
      " batch_normalization_22 (Bat  (None, 3, 3, 512)        2048      \n",
      " chNormalization)                                                \n",
      "                                                                 \n",
      " activation_22 (Activation)  (None, 3, 3, 512)         0         \n",
      "                                                                 \n",
      " conv2d_8 (Conv2D)           (None, 3, 3, 64)          294976    \n",
      "                                                                 \n",
      " batch_normalization_23 (Bat  (None, 3, 3, 64)         256       \n",
      " chNormalization)                                                \n",
      "                                                                 \n",
      " activation_23 (Activation)  (None, 3, 3, 64)          0         \n",
      "                                                                 \n",
      " conv2d_9 (Conv2D)           (None, 3, 3, 256)         147712    \n",
      "                                                                 \n",
      " batch_normalization_24 (Bat  (None, 3, 3, 256)        1024      \n",
      " chNormalization)                                                \n",
      "                                                                 \n",
      " activation_24 (Activation)  (None, 3, 3, 256)         0         \n",
      "                                                                 \n",
      " max_pooling2d_3 (MaxPooling  (None, 1, 1, 256)        0         \n",
      " 2D)                                                             \n",
      "                                                                 \n",
      " flatten_8 (Flatten)         (None, 256)               0         \n",
      "                                                                 \n",
      " dropout_9 (Dropout)         (None, 256)               0         \n",
      "                                                                 \n",
      " dense_32 (Dense)            (None, 512)               131584    \n",
      "                                                                 \n",
      " batch_normalization_25 (Bat  (None, 512)              2048      \n",
      " chNormalization)                                                \n",
      "                                                                 \n",
      " activation_25 (Activation)  (None, 512)               0         \n",
      "                                                                 \n",
      " dropout_10 (Dropout)        (None, 512)               0         \n",
      "                                                                 \n",
      " dense_33 (Dense)            (None, 256)               131328    \n",
      "                                                                 \n",
      " batch_normalization_26 (Bat  (None, 256)              1024      \n",
      " chNormalization)                                                \n",
      "                                                                 \n",
      " activation_26 (Activation)  (None, 256)               0         \n",
      "                                                                 \n",
      " dropout_11 (Dropout)        (None, 256)               0         \n",
      "                                                                 \n",
      " dense_34 (Dense)            (None, 10)                2570      \n",
      "                                                                 \n",
      "=================================================================\n",
      "Total params: 2,747,978\n",
      "Trainable params: 2,742,858\n",
      "Non-trainable params: 5,120\n",
      "_________________________________________________________________\n",
      "None\n"
     ]
    }
   ],
   "source": [
    "print(model.summary())"
   ]
  },
  {
   "cell_type": "code",
   "execution_count": 88,
   "id": "ffbe786a",
   "metadata": {},
   "outputs": [
    {
     "name": "stdout",
     "output_type": "stream",
     "text": [
      "Epoch 1/100\n",
      "744/744 [==============================] - ETA: 0s - loss: 0.8745 - sparse_categorical_accuracy: 0.6749\n",
      "Epoch 1: val_sparse_categorical_accuracy improved from -inf to 0.80613, saving model to /content\\checkpoint_entire_best.h5\n",
      "744/744 [==============================] - 478s 642ms/step - loss: 0.8745 - sparse_categorical_accuracy: 0.6749 - val_loss: 0.5293 - val_sparse_categorical_accuracy: 0.8061\n",
      "Epoch 2/100\n",
      "744/744 [==============================] - ETA: 0s - loss: 0.5008 - sparse_categorical_accuracy: 0.8249\n",
      "Epoch 2: val_sparse_categorical_accuracy improved from 0.80613 to 0.87748, saving model to /content\\checkpoint_entire_best.h5\n",
      "744/744 [==============================] - 522s 702ms/step - loss: 0.5008 - sparse_categorical_accuracy: 0.8249 - val_loss: 0.3543 - val_sparse_categorical_accuracy: 0.8775\n",
      "Epoch 3/100\n",
      "744/744 [==============================] - ETA: 0s - loss: 0.4131 - sparse_categorical_accuracy: 0.8575\n",
      "Epoch 3: val_sparse_categorical_accuracy did not improve from 0.87748\n",
      "744/744 [==============================] - 477s 640ms/step - loss: 0.4131 - sparse_categorical_accuracy: 0.8575 - val_loss: 0.4564 - val_sparse_categorical_accuracy: 0.8438\n",
      "Epoch 4/100\n",
      "744/744 [==============================] - ETA: 0s - loss: 0.3657 - sparse_categorical_accuracy: 0.8751\n",
      "Epoch 4: val_sparse_categorical_accuracy improved from 0.87748 to 0.89630, saving model to /content\\checkpoint_entire_best.h5\n",
      "744/744 [==============================] - 466s 627ms/step - loss: 0.3657 - sparse_categorical_accuracy: 0.8751 - val_loss: 0.2758 - val_sparse_categorical_accuracy: 0.8963\n",
      "Epoch 5/100\n",
      "744/744 [==============================] - ETA: 0s - loss: 0.3399 - sparse_categorical_accuracy: 0.8836\n",
      "Epoch 5: val_sparse_categorical_accuracy improved from 0.89630 to 0.90395, saving model to /content\\checkpoint_entire_best.h5\n",
      "744/744 [==============================] - 481s 647ms/step - loss: 0.3399 - sparse_categorical_accuracy: 0.8836 - val_loss: 0.2747 - val_sparse_categorical_accuracy: 0.9039\n",
      "Epoch 6/100\n",
      "744/744 [==============================] - ETA: 0s - loss: 0.3200 - sparse_categorical_accuracy: 0.8888\n",
      "Epoch 6: val_sparse_categorical_accuracy did not improve from 0.90395\n",
      "744/744 [==============================] - 491s 660ms/step - loss: 0.3200 - sparse_categorical_accuracy: 0.8888 - val_loss: 0.2825 - val_sparse_categorical_accuracy: 0.8987\n",
      "Epoch 7/100\n",
      "744/744 [==============================] - ETA: 0s - loss: 0.3078 - sparse_categorical_accuracy: 0.8955\n",
      "Epoch 7: val_sparse_categorical_accuracy improved from 0.90395 to 0.90487, saving model to /content\\checkpoint_entire_best.h5\n",
      "744/744 [==============================] - 500s 671ms/step - loss: 0.3078 - sparse_categorical_accuracy: 0.8955 - val_loss: 0.2634 - val_sparse_categorical_accuracy: 0.9049\n",
      "Epoch 8/100\n",
      "744/744 [==============================] - ETA: 0s - loss: 0.2889 - sparse_categorical_accuracy: 0.9011\n",
      "Epoch 8: val_sparse_categorical_accuracy improved from 0.90487 to 0.91017, saving model to /content\\checkpoint_entire_best.h5\n",
      "744/744 [==============================] - 505s 679ms/step - loss: 0.2889 - sparse_categorical_accuracy: 0.9011 - val_loss: 0.2417 - val_sparse_categorical_accuracy: 0.9102\n",
      "Epoch 9/100\n",
      "744/744 [==============================] - ETA: 0s - loss: 0.2785 - sparse_categorical_accuracy: 0.9064\n",
      "Epoch 9: val_sparse_categorical_accuracy did not improve from 0.91017\n",
      "744/744 [==============================] - 501s 674ms/step - loss: 0.2785 - sparse_categorical_accuracy: 0.9064 - val_loss: 0.2675 - val_sparse_categorical_accuracy: 0.9034\n",
      "Epoch 10/100\n",
      "744/744 [==============================] - ETA: 0s - loss: 0.2629 - sparse_categorical_accuracy: 0.9097\n",
      "Epoch 10: val_sparse_categorical_accuracy improved from 0.91017 to 0.92336, saving model to /content\\checkpoint_entire_best.h5\n",
      "744/744 [==============================] - 539s 725ms/step - loss: 0.2629 - sparse_categorical_accuracy: 0.9097 - val_loss: 0.2191 - val_sparse_categorical_accuracy: 0.9234\n",
      "Epoch 11/100\n",
      "744/744 [==============================] - ETA: 0s - loss: 0.2542 - sparse_categorical_accuracy: 0.9127\n",
      "Epoch 11: val_sparse_categorical_accuracy did not improve from 0.92336\n",
      "744/744 [==============================] - 527s 709ms/step - loss: 0.2542 - sparse_categorical_accuracy: 0.9127 - val_loss: 0.2619 - val_sparse_categorical_accuracy: 0.9003\n",
      "Epoch 12/100\n",
      "744/744 [==============================] - ETA: 0s - loss: 0.2492 - sparse_categorical_accuracy: 0.9142\n",
      "Epoch 12: val_sparse_categorical_accuracy did not improve from 0.92336\n",
      "744/744 [==============================] - 575s 773ms/step - loss: 0.2492 - sparse_categorical_accuracy: 0.9142 - val_loss: 0.2266 - val_sparse_categorical_accuracy: 0.9169\n",
      "Epoch 13/100\n",
      "744/744 [==============================] - ETA: 0s - loss: 0.2395 - sparse_categorical_accuracy: 0.9174\n",
      "Epoch 13: val_sparse_categorical_accuracy did not improve from 0.92336\n",
      "744/744 [==============================] - 747s 1s/step - loss: 0.2395 - sparse_categorical_accuracy: 0.9174 - val_loss: 0.2300 - val_sparse_categorical_accuracy: 0.9171\n",
      "Epoch 14/100\n",
      "744/744 [==============================] - ETA: 0s - loss: 0.2262 - sparse_categorical_accuracy: 0.9216\n",
      "Epoch 14: val_sparse_categorical_accuracy did not improve from 0.92336\n",
      "744/744 [==============================] - 767s 1s/step - loss: 0.2262 - sparse_categorical_accuracy: 0.9216 - val_loss: 0.2239 - val_sparse_categorical_accuracy: 0.9159\n",
      "Epoch 15/100\n",
      "744/744 [==============================] - ETA: 0s - loss: 0.2229 - sparse_categorical_accuracy: 0.9230\n",
      "Epoch 15: val_sparse_categorical_accuracy did not improve from 0.92336\n",
      "744/744 [==============================] - 745s 1s/step - loss: 0.2229 - sparse_categorical_accuracy: 0.9230 - val_loss: 0.2223 - val_sparse_categorical_accuracy: 0.9206\n",
      "Epoch 16/100\n",
      "744/744 [==============================] - ETA: 0s - loss: 0.2193 - sparse_categorical_accuracy: 0.9262\n",
      "Epoch 16: val_sparse_categorical_accuracy improved from 0.92336 to 0.92723, saving model to /content\\checkpoint_entire_best.h5\n",
      "744/744 [==============================] - 652s 877ms/step - loss: 0.2193 - sparse_categorical_accuracy: 0.9262 - val_loss: 0.2043 - val_sparse_categorical_accuracy: 0.9272\n",
      "Epoch 17/100\n",
      "744/744 [==============================] - ETA: 0s - loss: 0.2094 - sparse_categorical_accuracy: 0.9290\n",
      "Epoch 17: val_sparse_categorical_accuracy improved from 0.92723 to 0.93109, saving model to /content\\checkpoint_entire_best.h5\n",
      "744/744 [==============================] - 727s 977ms/step - loss: 0.2094 - sparse_categorical_accuracy: 0.9290 - val_loss: 0.1930 - val_sparse_categorical_accuracy: 0.9311\n",
      "Epoch 18/100\n",
      "744/744 [==============================] - ETA: 0s - loss: 0.2048 - sparse_categorical_accuracy: 0.9314\n",
      "Epoch 18: val_sparse_categorical_accuracy did not improve from 0.93109\n",
      "744/744 [==============================] - 533s 716ms/step - loss: 0.2048 - sparse_categorical_accuracy: 0.9314 - val_loss: 0.2177 - val_sparse_categorical_accuracy: 0.9205\n",
      "Epoch 19/100\n",
      "744/744 [==============================] - ETA: 0s - loss: 0.1981 - sparse_categorical_accuracy: 0.9330\n",
      "Epoch 19: val_sparse_categorical_accuracy improved from 0.93109 to 0.93303, saving model to /content\\checkpoint_entire_best.h5\n",
      "744/744 [==============================] - 461s 619ms/step - loss: 0.1981 - sparse_categorical_accuracy: 0.9330 - val_loss: 0.1881 - val_sparse_categorical_accuracy: 0.9330\n",
      "Epoch 20/100\n",
      "744/744 [==============================] - ETA: 0s - loss: 0.1941 - sparse_categorical_accuracy: 0.9339\n",
      "Epoch 20: val_sparse_categorical_accuracy did not improve from 0.93303\n",
      "744/744 [==============================] - 551s 742ms/step - loss: 0.1941 - sparse_categorical_accuracy: 0.9339 - val_loss: 0.2078 - val_sparse_categorical_accuracy: 0.9261\n",
      "Epoch 21/100\n",
      "744/744 [==============================] - ETA: 0s - loss: 0.1924 - sparse_categorical_accuracy: 0.9324\n",
      "Epoch 21: val_sparse_categorical_accuracy did not improve from 0.93303\n",
      "744/744 [==============================] - 567s 762ms/step - loss: 0.1924 - sparse_categorical_accuracy: 0.9324 - val_loss: 0.1951 - val_sparse_categorical_accuracy: 0.9283\n",
      "Epoch 22/100\n"
     ]
    },
    {
     "name": "stdout",
     "output_type": "stream",
     "text": [
      "744/744 [==============================] - ETA: 0s - loss: 0.1839 - sparse_categorical_accuracy: 0.9378\n",
      "Epoch 22: val_sparse_categorical_accuracy did not improve from 0.93303\n",
      "744/744 [==============================] - 567s 762ms/step - loss: 0.1839 - sparse_categorical_accuracy: 0.9378 - val_loss: 0.2046 - val_sparse_categorical_accuracy: 0.9254\n",
      "Epoch 23/100\n",
      "744/744 [==============================] - ETA: 0s - loss: 0.1799 - sparse_categorical_accuracy: 0.9384\n",
      "Epoch 23: val_sparse_categorical_accuracy improved from 0.93303 to 0.93437, saving model to /content\\checkpoint_entire_best.h5\n",
      "744/744 [==============================] - 534s 718ms/step - loss: 0.1799 - sparse_categorical_accuracy: 0.9384 - val_loss: 0.1826 - val_sparse_categorical_accuracy: 0.9344\n",
      "Epoch 24/100\n",
      "744/744 [==============================] - ETA: 0s - loss: 0.1728 - sparse_categorical_accuracy: 0.9411\n",
      "Epoch 24: val_sparse_categorical_accuracy did not improve from 0.93437\n",
      "744/744 [==============================] - 514s 692ms/step - loss: 0.1728 - sparse_categorical_accuracy: 0.9411 - val_loss: 0.1912 - val_sparse_categorical_accuracy: 0.9325\n",
      "Epoch 25/100\n",
      "744/744 [==============================] - ETA: 0s - loss: 0.1723 - sparse_categorical_accuracy: 0.9415\n",
      "Epoch 25: val_sparse_categorical_accuracy did not improve from 0.93437\n",
      "744/744 [==============================] - 499s 671ms/step - loss: 0.1723 - sparse_categorical_accuracy: 0.9415 - val_loss: 0.1931 - val_sparse_categorical_accuracy: 0.9324\n",
      "Epoch 26/100\n",
      "744/744 [==============================] - ETA: 0s - loss: 0.1679 - sparse_categorical_accuracy: 0.9420\n",
      "Epoch 26: val_sparse_categorical_accuracy improved from 0.93437 to 0.93706, saving model to /content\\checkpoint_entire_best.h5\n",
      "744/744 [==============================] - 494s 664ms/step - loss: 0.1679 - sparse_categorical_accuracy: 0.9420 - val_loss: 0.1716 - val_sparse_categorical_accuracy: 0.9371\n",
      "Epoch 27/100\n",
      "744/744 [==============================] - ETA: 0s - loss: 0.1632 - sparse_categorical_accuracy: 0.9447\n",
      "Epoch 27: val_sparse_categorical_accuracy improved from 0.93706 to 0.93790, saving model to /content\\checkpoint_entire_best.h5\n",
      "744/744 [==============================] - 485s 653ms/step - loss: 0.1632 - sparse_categorical_accuracy: 0.9447 - val_loss: 0.1767 - val_sparse_categorical_accuracy: 0.9379\n",
      "Epoch 28/100\n",
      "744/744 [==============================] - ETA: 0s - loss: 0.1597 - sparse_categorical_accuracy: 0.9446\n",
      "Epoch 28: val_sparse_categorical_accuracy did not improve from 0.93790\n",
      "744/744 [==============================] - 481s 647ms/step - loss: 0.1597 - sparse_categorical_accuracy: 0.9446 - val_loss: 0.1783 - val_sparse_categorical_accuracy: 0.9363\n",
      "Epoch 29/100\n",
      "744/744 [==============================] - ETA: 0s - loss: 0.1564 - sparse_categorical_accuracy: 0.9464\n",
      "Epoch 29: val_sparse_categorical_accuracy did not improve from 0.93790\n",
      "744/744 [==============================] - 487s 655ms/step - loss: 0.1564 - sparse_categorical_accuracy: 0.9464 - val_loss: 0.1878 - val_sparse_categorical_accuracy: 0.9371\n",
      "Epoch 30/100\n",
      "744/744 [==============================] - ETA: 0s - loss: 0.1547 - sparse_categorical_accuracy: 0.9476\n",
      "Epoch 30: val_sparse_categorical_accuracy did not improve from 0.93790\n",
      "744/744 [==============================] - 479s 643ms/step - loss: 0.1547 - sparse_categorical_accuracy: 0.9476 - val_loss: 0.1737 - val_sparse_categorical_accuracy: 0.9371\n",
      "Epoch 31/100\n",
      "744/744 [==============================] - ETA: 0s - loss: 0.1531 - sparse_categorical_accuracy: 0.9470\n",
      "Epoch 31: val_sparse_categorical_accuracy did not improve from 0.93790\n",
      "744/744 [==============================] - 483s 649ms/step - loss: 0.1531 - sparse_categorical_accuracy: 0.9470 - val_loss: 0.1858 - val_sparse_categorical_accuracy: 0.9355\n",
      "Epoch 32/100\n",
      "744/744 [==============================] - ETA: 0s - loss: 0.1471 - sparse_categorical_accuracy: 0.9508\n",
      "Epoch 32: val_sparse_categorical_accuracy did not improve from 0.93790\n",
      "744/744 [==============================] - 476s 640ms/step - loss: 0.1471 - sparse_categorical_accuracy: 0.9508 - val_loss: 0.1832 - val_sparse_categorical_accuracy: 0.9335\n",
      "Epoch 33/100\n",
      "744/744 [==============================] - ETA: 0s - loss: 0.1442 - sparse_categorical_accuracy: 0.9499\n",
      "Epoch 33: val_sparse_categorical_accuracy did not improve from 0.93790\n",
      "744/744 [==============================] - 476s 640ms/step - loss: 0.1442 - sparse_categorical_accuracy: 0.9499 - val_loss: 0.2233 - val_sparse_categorical_accuracy: 0.9269\n",
      "Epoch 34/100\n",
      "744/744 [==============================] - ETA: 0s - loss: 0.1410 - sparse_categorical_accuracy: 0.9517\n",
      "Epoch 34: val_sparse_categorical_accuracy improved from 0.93790 to 0.93857, saving model to /content\\checkpoint_entire_best.h5\n",
      "744/744 [==============================] - 477s 642ms/step - loss: 0.1410 - sparse_categorical_accuracy: 0.9517 - val_loss: 0.1854 - val_sparse_categorical_accuracy: 0.9386\n",
      "Epoch 35/100\n",
      "744/744 [==============================] - ETA: 0s - loss: 0.1352 - sparse_categorical_accuracy: 0.9524\n",
      "Epoch 35: val_sparse_categorical_accuracy did not improve from 0.93857\n",
      "744/744 [==============================] - 486s 653ms/step - loss: 0.1352 - sparse_categorical_accuracy: 0.9524 - val_loss: 0.1910 - val_sparse_categorical_accuracy: 0.9357\n",
      "Epoch 36/100\n",
      "744/744 [==============================] - ETA: 0s - loss: 0.1360 - sparse_categorical_accuracy: 0.9540\n",
      "Epoch 36: val_sparse_categorical_accuracy did not improve from 0.93857\n",
      "744/744 [==============================] - 494s 664ms/step - loss: 0.1360 - sparse_categorical_accuracy: 0.9540 - val_loss: 0.1964 - val_sparse_categorical_accuracy: 0.9339\n"
     ]
    }
   ],
   "source": [
    "result = model.fit(train_dataset, epochs=100, callbacks=[cp_callback, earlystopping], validation_data=(test1_dataset))"
   ]
  },
  {
   "cell_type": "code",
   "execution_count": 89,
   "id": "6b561606",
   "metadata": {},
   "outputs": [],
   "source": [
    "model = keras.models.load_model('/content/checkpoint_entire_best.h5')"
   ]
  },
  {
   "cell_type": "code",
   "execution_count": 90,
   "id": "6c3ab17a",
   "metadata": {},
   "outputs": [
    {
     "data": {
      "text/html": [
       "<div>\n",
       "<style scoped>\n",
       "    .dataframe tbody tr th:only-of-type {\n",
       "        vertical-align: middle;\n",
       "    }\n",
       "\n",
       "    .dataframe tbody tr th {\n",
       "        vertical-align: top;\n",
       "    }\n",
       "\n",
       "    .dataframe thead th {\n",
       "        text-align: right;\n",
       "    }\n",
       "</style>\n",
       "<table border=\"1\" class=\"dataframe\">\n",
       "  <thead>\n",
       "    <tr style=\"text-align: right;\">\n",
       "      <th></th>\n",
       "      <th>id</th>\n",
       "      <th>label</th>\n",
       "    </tr>\n",
       "  </thead>\n",
       "  <tbody>\n",
       "    <tr>\n",
       "      <th>0</th>\n",
       "      <td>0</td>\n",
       "      <td>6</td>\n",
       "    </tr>\n",
       "    <tr>\n",
       "      <th>1</th>\n",
       "      <td>1</td>\n",
       "      <td>6</td>\n",
       "    </tr>\n",
       "    <tr>\n",
       "      <th>2</th>\n",
       "      <td>2</td>\n",
       "      <td>0</td>\n",
       "    </tr>\n",
       "    <tr>\n",
       "      <th>3</th>\n",
       "      <td>3</td>\n",
       "      <td>6</td>\n",
       "    </tr>\n",
       "    <tr>\n",
       "      <th>4</th>\n",
       "      <td>4</td>\n",
       "      <td>6</td>\n",
       "    </tr>\n",
       "  </tbody>\n",
       "</table>\n",
       "</div>"
      ],
      "text/plain": [
       "   id  label\n",
       "0   0      6\n",
       "1   1      6\n",
       "2   2      0\n",
       "3   3      6\n",
       "4   4      6"
      ]
     },
     "execution_count": 90,
     "metadata": {},
     "output_type": "execute_result"
    }
   ],
   "source": [
    "pred_label = np.argmax(model.predict(X_test), axis=1)\n",
    "submission['label'] = pred_label\n",
    "submission.to_csv(data_dir + 'final.csv', index=False)\n",
    "submission.head()"
   ]
  },
  {
   "cell_type": "code",
   "execution_count": 91,
   "id": "0c2feffb",
   "metadata": {},
   "outputs": [
    {
     "data": {
      "image/png": "[encoded data removed]",
      "text/plain": [
       "<Figure size 1080x360 with 2 Axes>"
      ]
     },
     "metadata": {
      "needs_background": "light"
     },
     "output_type": "display_data"
    }
   ],
   "source": [
    "fig, axes = plt.subplots(nrows=1, ncols=2, figsize=(15,5))\n",
    "\n",
    "axes[0].plot(result.epoch, result.history['loss'], label='Train Loss')\n",
    "axes[0].plot(result.epoch, result.history['val_loss'], label='Val Loss')\n",
    "axes[0].set_ylim(0.0, 1)\n",
    "axes[0].legend()\n",
    "axes[0].set_title('Loss')\n",
    "\n",
    "axes[1].plot(result.epoch, result.history['sparse_categorical_accuracy'], label='Train Accuracy')\n",
    "axes[1].plot(result.epoch, result.history['val_sparse_categorical_accuracy'], label='Val Accuracy')\n",
    "axes[1].set_ylim(0.7, 1)\n",
    "axes[1].legend()\n",
    "axes[1].set_title('Accuracy')\n",
    "\n",
    "plt.show()"
   ]
  },
  {
   "cell_type": "code",
   "execution_count": null,
   "id": "fa29b413",
   "metadata": {},
   "outputs": [],
   "source": []
  }
 ],
 "metadata": {
  "kernelspec": {
   "display_name": "Python 3 (ipykernel)",
   "language": "python",
   "name": "python3"
  },
  "language_info": {
   "codemirror_mode": {
    "name": "ipython",
    "version": 3
   },
   "file_extension": ".py",
   "mimetype": "text/x-python",
   "name": "python",
   "nbconvert_exporter": "python",
   "pygments_lexer": "ipython3",
   "version": "3.9.7"
  }
 },
 "nbformat": 4,
 "nbformat_minor": 5
}
