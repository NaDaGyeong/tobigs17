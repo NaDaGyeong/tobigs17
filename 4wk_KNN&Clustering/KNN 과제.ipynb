{
 "cells": [
  {
   "cell_type": "markdown",
   "metadata": {
    "id": "_PTZ7GaPe4PF"
   },
   "source": [
    "# 17기 KNN 정규세션 과제"
   ]
  },
  {
   "cell_type": "markdown",
   "metadata": {
    "id": "3OFNeO0Ie4PH"
   },
   "source": [
    "## KNN 구현해보기\n",
    "### 1. Preprocssing / EDA\n",
    "지금까지 배운 내용을 토대로 해당 데이터에 대해 자유롭게 전처리와 EDA를 진행해주세요.\n",
    "### 2. KNN 구현 & 파라미터 튜닝\n",
    "수업 내용 및 실습 자료를 참고하여 KNN을 구현하고 파라미터 튜닝을 하며 결과를 비교해주세요.\n",
    "### 3. Evaluation\n",
    "결과에 대한 평가를 진행하고, 나름의 해석을 달아주세요."
   ]
  },
  {
   "cell_type": "markdown",
   "metadata": {
    "id": "k_IkS8Ybe4PI"
   },
   "source": [
    "**데이터:** [blackfriday | Kaggle](https://www.kaggle.com/llopesolivei/blackfriday)"
   ]
  },
  {
   "cell_type": "markdown",
   "metadata": {
    "id": "ZvUdeo2he4PI"
   },
   "source": [
    "---"
   ]
  },
  {
   "cell_type": "markdown",
   "metadata": {},
   "source": [
    "## 0. 모듈 불러오기"
   ]
  },
  {
   "cell_type": "code",
   "execution_count": 24,
   "metadata": {},
   "outputs": [],
   "source": [
    "# 데이터 전처리\n",
    "import pandas as pd\n",
    "import numpy as np\n",
    "from sklearn.preprocessing import StandardScaler, OneHotEncoder\n",
    "\n",
    "# 기계학습 모델 및 평가\n",
    "from sklearn.model_selection import cross_val_score\n",
    "from sklearn.model_selection import train_test_split\n",
    "from sklearn.neighbors import KNeighborsRegressor, DistanceMetric, NearestNeighbors\n",
    "from sklearn.metrics import accuracy_score, recall_score, precision_score\n",
    "from sklearn.model_selection import KFold\n",
    "\n",
    "from tqdm import tqdm_notebook\n",
    "from tqdm import tqdm\n",
    "from scipy.stats import spearmanr\n",
    "from collections import Counter\n",
    "\n",
    "\n",
    "# 시각화\n",
    "import seaborn as sns\n",
    "import matplotlib.pyplot as plt\n",
    "import matplotlib.patches as mpatches\n",
    "import matplotlib\n",
    "from matplotlib.colors import ListedColormap\n",
    "matplotlib.rcParams['axes.unicode_minus'] = False\n",
    "\n",
    "import warnings\n",
    "warnings.filterwarnings('ignore')"
   ]
  },
  {
   "cell_type": "markdown",
   "metadata": {
    "id": "lTlQgiSie4PI"
   },
   "source": [
    "## 1. 데이터 불러오기"
   ]
  },
  {
   "cell_type": "code",
   "execution_count": 2,
   "metadata": {
    "id": "eNTRK8Ete4PJ",
    "outputId": "de247747-4645-49a6-c5d2-38cc1a381d42"
   },
   "outputs": [
    {
     "data": {
      "text/html": [
       "<div>\n",
       "<style scoped>\n",
       "    .dataframe tbody tr th:only-of-type {\n",
       "        vertical-align: middle;\n",
       "    }\n",
       "\n",
       "    .dataframe tbody tr th {\n",
       "        vertical-align: top;\n",
       "    }\n",
       "\n",
       "    .dataframe thead th {\n",
       "        text-align: right;\n",
       "    }\n",
       "</style>\n",
       "<table border=\"1\" class=\"dataframe\">\n",
       "  <thead>\n",
       "    <tr style=\"text-align: right;\">\n",
       "      <th></th>\n",
       "      <th>User_ID</th>\n",
       "      <th>Product_ID</th>\n",
       "      <th>Gender</th>\n",
       "      <th>Age</th>\n",
       "      <th>Occupation</th>\n",
       "      <th>City_Category</th>\n",
       "      <th>Stay_In_Current_City_Years</th>\n",
       "      <th>Marital_Status</th>\n",
       "      <th>Product_Category_1</th>\n",
       "      <th>Product_Category_2</th>\n",
       "      <th>Product_Category_3</th>\n",
       "      <th>Purchase</th>\n",
       "    </tr>\n",
       "  </thead>\n",
       "  <tbody>\n",
       "    <tr>\n",
       "      <th>0</th>\n",
       "      <td>1001088</td>\n",
       "      <td>P00046042</td>\n",
       "      <td>F</td>\n",
       "      <td>0-17</td>\n",
       "      <td>10</td>\n",
       "      <td>A</td>\n",
       "      <td>3</td>\n",
       "      <td>0</td>\n",
       "      <td>5</td>\n",
       "      <td>17.0</td>\n",
       "      <td>NaN</td>\n",
       "      <td>2010</td>\n",
       "    </tr>\n",
       "    <tr>\n",
       "      <th>1</th>\n",
       "      <td>1004493</td>\n",
       "      <td>P00347742</td>\n",
       "      <td>F</td>\n",
       "      <td>0-17</td>\n",
       "      <td>10</td>\n",
       "      <td>A</td>\n",
       "      <td>1</td>\n",
       "      <td>0</td>\n",
       "      <td>7</td>\n",
       "      <td>NaN</td>\n",
       "      <td>NaN</td>\n",
       "      <td>4483</td>\n",
       "    </tr>\n",
       "    <tr>\n",
       "      <th>2</th>\n",
       "      <td>1005302</td>\n",
       "      <td>P00048942</td>\n",
       "      <td>F</td>\n",
       "      <td>0-17</td>\n",
       "      <td>10</td>\n",
       "      <td>A</td>\n",
       "      <td>1</td>\n",
       "      <td>0</td>\n",
       "      <td>1</td>\n",
       "      <td>4.0</td>\n",
       "      <td>NaN</td>\n",
       "      <td>7696</td>\n",
       "    </tr>\n",
       "    <tr>\n",
       "      <th>3</th>\n",
       "      <td>1001348</td>\n",
       "      <td>P00145242</td>\n",
       "      <td>F</td>\n",
       "      <td>0-17</td>\n",
       "      <td>10</td>\n",
       "      <td>A</td>\n",
       "      <td>3</td>\n",
       "      <td>0</td>\n",
       "      <td>2</td>\n",
       "      <td>4.0</td>\n",
       "      <td>NaN</td>\n",
       "      <td>16429</td>\n",
       "    </tr>\n",
       "    <tr>\n",
       "      <th>4</th>\n",
       "      <td>1001348</td>\n",
       "      <td>P00106742</td>\n",
       "      <td>F</td>\n",
       "      <td>0-17</td>\n",
       "      <td>10</td>\n",
       "      <td>A</td>\n",
       "      <td>3</td>\n",
       "      <td>0</td>\n",
       "      <td>3</td>\n",
       "      <td>5.0</td>\n",
       "      <td>NaN</td>\n",
       "      <td>5780</td>\n",
       "    </tr>\n",
       "  </tbody>\n",
       "</table>\n",
       "</div>"
      ],
      "text/plain": [
       "   User_ID Product_ID Gender   Age  Occupation City_Category  \\\n",
       "0  1001088  P00046042      F  0-17          10             A   \n",
       "1  1004493  P00347742      F  0-17          10             A   \n",
       "2  1005302  P00048942      F  0-17          10             A   \n",
       "3  1001348  P00145242      F  0-17          10             A   \n",
       "4  1001348  P00106742      F  0-17          10             A   \n",
       "\n",
       "  Stay_In_Current_City_Years  Marital_Status  Product_Category_1  \\\n",
       "0                          3               0                   5   \n",
       "1                          1               0                   7   \n",
       "2                          1               0                   1   \n",
       "3                          3               0                   2   \n",
       "4                          3               0                   3   \n",
       "\n",
       "   Product_Category_2  Product_Category_3  Purchase  \n",
       "0                17.0                 NaN      2010  \n",
       "1                 NaN                 NaN      4483  \n",
       "2                 4.0                 NaN      7696  \n",
       "3                 4.0                 NaN     16429  \n",
       "4                 5.0                 NaN      5780  "
      ]
     },
     "execution_count": 2,
     "metadata": {},
     "output_type": "execute_result"
    }
   ],
   "source": [
    "import pandas as pd\n",
    "df = pd.read_csv(\"blackfriday.csv\", index_col = 0)\n",
    "df.head()"
   ]
  },
  {
   "cell_type": "markdown",
   "metadata": {},
   "source": [
    "## 2. 데이터 탐색"
   ]
  },
  {
   "cell_type": "markdown",
   "metadata": {},
   "source": [
    "### Preprocessing & EDA"
   ]
  },
  {
   "cell_type": "code",
   "execution_count": 3,
   "metadata": {},
   "outputs": [
    {
     "data": {
      "text/plain": [
       "(4998, 12)"
      ]
     },
     "execution_count": 3,
     "metadata": {},
     "output_type": "execute_result"
    }
   ],
   "source": [
    "df.shape"
   ]
  },
  {
   "cell_type": "code",
   "execution_count": 4,
   "metadata": {},
   "outputs": [
    {
     "name": "stdout",
     "output_type": "stream",
     "text": [
      "<class 'pandas.core.frame.DataFrame'>\n",
      "Int64Index: 4998 entries, 0 to 4997\n",
      "Data columns (total 12 columns):\n",
      " #   Column                      Non-Null Count  Dtype  \n",
      "---  ------                      --------------  -----  \n",
      " 0   User_ID                     4998 non-null   int64  \n",
      " 1   Product_ID                  4998 non-null   object \n",
      " 2   Gender                      4998 non-null   object \n",
      " 3   Age                         4998 non-null   object \n",
      " 4   Occupation                  4998 non-null   int64  \n",
      " 5   City_Category               4998 non-null   object \n",
      " 6   Stay_In_Current_City_Years  4998 non-null   object \n",
      " 7   Marital_Status              4998 non-null   int64  \n",
      " 8   Product_Category_1          4998 non-null   int64  \n",
      " 9   Product_Category_2          3465 non-null   float64\n",
      " 10  Product_Category_3          1544 non-null   float64\n",
      " 11  Purchase                    4998 non-null   int64  \n",
      "dtypes: float64(2), int64(5), object(5)\n",
      "memory usage: 507.6+ KB\n"
     ]
    }
   ],
   "source": [
    "df.info()"
   ]
  },
  {
   "cell_type": "code",
   "execution_count": 5,
   "metadata": {},
   "outputs": [
    {
     "name": "stdout",
     "output_type": "stream",
     "text": [
      "1002063    12\n",
      "1005795    12\n",
      "1001980    11\n",
      "1004344    11\n",
      "1006036    10\n",
      "           ..\n",
      "1004980     1\n",
      "1004385     1\n",
      "1004138     1\n",
      "1002648     1\n",
      "1000837     1\n",
      "Name: User_ID, Length: 2656, dtype: int64\n",
      "**************************************************\n",
      "P00265242    21\n",
      "P00220442    16\n",
      "P00114942    15\n",
      "P00010742    15\n",
      "P00148642    15\n",
      "             ..\n",
      "P00072342     1\n",
      "P00037842     1\n",
      "P00207042     1\n",
      "P00129742     1\n",
      "P00358242     1\n",
      "Name: Product_ID, Length: 1797, dtype: int64\n",
      "**************************************************\n",
      "M    3765\n",
      "F    1233\n",
      "Name: Gender, dtype: int64\n",
      "**************************************************\n",
      "26-35    1996\n",
      "36-45    1000\n",
      "18-25     906\n",
      "46-50     414\n",
      "51-55     350\n",
      "55+       195\n",
      "0-17      137\n",
      "Name: Age, dtype: int64\n",
      "**************************************************\n",
      "4     706\n",
      "0     572\n",
      "7     535\n",
      "1     460\n",
      "17    339\n",
      "12    305\n",
      "20    285\n",
      "2     251\n",
      "14    245\n",
      "16    244\n",
      "6     186\n",
      "3     160\n",
      "15    133\n",
      "10    122\n",
      "5      98\n",
      "11     95\n",
      "19     73\n",
      "13     65\n",
      "18     56\n",
      "9      50\n",
      "8      18\n",
      "Name: Occupation, dtype: int64\n",
      "**************************************************\n",
      "B    2102\n",
      "C    1555\n",
      "A    1341\n",
      "Name: City_Category, dtype: int64\n",
      "**************************************************\n",
      "1     1758\n",
      "2      915\n",
      "3      908\n",
      "4+     742\n",
      "0      675\n",
      "Name: Stay_In_Current_City_Years, dtype: int64\n",
      "**************************************************\n",
      "0    2892\n",
      "1    2106\n",
      "Name: Marital_Status, dtype: int64\n",
      "**************************************************\n",
      "5     1407\n",
      "1     1285\n",
      "8      995\n",
      "2      227\n",
      "11     206\n",
      "3      193\n",
      "6      193\n",
      "4      107\n",
      "16      78\n",
      "15      57\n",
      "13      43\n",
      "10      41\n",
      "7       40\n",
      "12      31\n",
      "20      31\n",
      "19      20\n",
      "14      19\n",
      "18      18\n",
      "17       6\n",
      "9        1\n",
      "Name: Product_Category_1, dtype: int64\n",
      "**************************************************\n",
      "8.0     588\n",
      "14.0    496\n",
      "2.0     448\n",
      "16.0    392\n",
      "15.0    345\n",
      "5.0     258\n",
      "4.0     246\n",
      "6.0     148\n",
      "17.0    132\n",
      "11.0    110\n",
      "13.0    102\n",
      "9.0      65\n",
      "12.0     40\n",
      "3.0      35\n",
      "10.0     30\n",
      "18.0     23\n",
      "7.0       7\n",
      "Name: Product_Category_2, dtype: int64\n",
      "**************************************************\n",
      "16.0    318\n",
      "15.0    260\n",
      "14.0    162\n",
      "17.0    146\n",
      "5.0     140\n",
      "8.0     116\n",
      "9.0     105\n",
      "12.0     96\n",
      "13.0     50\n",
      "18.0     44\n",
      "6.0      44\n",
      "10.0     23\n",
      "11.0     22\n",
      "4.0      17\n",
      "3.0       1\n",
      "Name: Product_Category_3, dtype: int64\n",
      "**************************************************\n",
      "7001     6\n",
      "7063     6\n",
      "5328     6\n",
      "8115     6\n",
      "7176     5\n",
      "        ..\n",
      "12069    1\n",
      "16668    1\n",
      "3187     1\n",
      "4043     1\n",
      "1413     1\n",
      "Name: Purchase, Length: 3736, dtype: int64\n",
      "**************************************************\n"
     ]
    }
   ],
   "source": [
    "for i in df.columns : \n",
    "    print(df[i].value_counts())\n",
    "    print('*' * 50)"
   ]
  },
  {
   "cell_type": "markdown",
   "metadata": {},
   "source": [
    "* 12개의 column으로 구성된 4,998개의 고객 신상 데이터이며, `Purchase`를 Target으로 설정함. (= KNN Regression)"
   ]
  },
  {
   "cell_type": "markdown",
   "metadata": {},
   "source": [
    "**Target**\n",
    "    \n",
    "   * `purchase` : 구매량, Numerical\n",
    "    \n",
    "\n",
    "**설명변수**\n",
    "    \n",
    "   * `User_ID` : 고객 ID, Categorical\n",
    "    \n",
    "   * `Product_ID` : 제품 ID, Categorical\n",
    "    \n",
    "   * `Gender` : 성별, Categorical\n",
    "    \n",
    "   * `Age` : 나이대, Categorical\n",
    "    \n",
    "   * `Occupation` : 직업, Categorical\n",
    "    \n",
    "   * `City_Category` : 도시 분류, Categorical\n",
    "    \n",
    "   * `Stay_In_Current_City_Years` : 현재 도시에 거주한 년수, Categorical\n",
    "    \n",
    "   * `Marital_Status` : 결혼 여부, Categorical(0 : Single / 1 : Married)\n",
    "    \n",
    "   * `Product_Category_1`, `Product_Category_2`, `Product_Category_3` : 제품 분류 1,2,3 , Categorical"
   ]
  },
  {
   "cell_type": "code",
   "execution_count": 6,
   "metadata": {},
   "outputs": [
    {
     "data": {
      "text/plain": [
       "User_ID                          0\n",
       "Product_ID                       0\n",
       "Gender                           0\n",
       "Age                              0\n",
       "Occupation                       0\n",
       "City_Category                    0\n",
       "Stay_In_Current_City_Years       0\n",
       "Marital_Status                   0\n",
       "Product_Category_1               0\n",
       "Product_Category_2            1533\n",
       "Product_Category_3            3454\n",
       "Purchase                         0\n",
       "dtype: int64"
      ]
     },
     "execution_count": 6,
     "metadata": {},
     "output_type": "execute_result"
    }
   ],
   "source": [
    "df.isnull().sum()"
   ]
  },
  {
   "cell_type": "markdown",
   "metadata": {},
   "source": [
    "* `Product_Category_3`의 결측치는 3,454개로, 결측치가 전체 데이터의 약 70%를 차지함. 따라서 결측치를 채우는 과정에 왜곡이 발생할 수 있으므로 해당 Column은 drop함.\n",
    "\n",
    "* `Product_Category_2`는 Simple Imputer로 결측치를 채워줌."
   ]
  },
  {
   "cell_type": "code",
   "execution_count": 7,
   "metadata": {},
   "outputs": [],
   "source": [
    "from sklearn.impute import SimpleImputer"
   ]
  },
  {
   "cell_type": "code",
   "execution_count": 8,
   "metadata": {},
   "outputs": [],
   "source": [
    "imputer = SimpleImputer(strategy='most_frequent')"
   ]
  },
  {
   "cell_type": "code",
   "execution_count": 9,
   "metadata": {},
   "outputs": [],
   "source": [
    "df[['Product_Category_2']] = imputer.fit_transform(df[['Product_Category_2']])"
   ]
  },
  {
   "cell_type": "code",
   "execution_count": 10,
   "metadata": {},
   "outputs": [],
   "source": [
    "df.drop(['Product_Category_3'], axis=1, inplace=True)"
   ]
  },
  {
   "cell_type": "code",
   "execution_count": 11,
   "metadata": {},
   "outputs": [
    {
     "data": {
      "text/plain": [
       "User_ID                       0\n",
       "Product_ID                    0\n",
       "Gender                        0\n",
       "Age                           0\n",
       "Occupation                    0\n",
       "City_Category                 0\n",
       "Stay_In_Current_City_Years    0\n",
       "Marital_Status                0\n",
       "Product_Category_1            0\n",
       "Product_Category_2            0\n",
       "Purchase                      0\n",
       "dtype: int64"
      ]
     },
     "execution_count": 11,
     "metadata": {},
     "output_type": "execute_result"
    }
   ],
   "source": [
    "# 결측치 처리 확인\n",
    "df.isnull().sum()"
   ]
  },
  {
   "cell_type": "markdown",
   "metadata": {},
   "source": [
    "결측치가 없음을 알 수 있음."
   ]
  },
  {
   "cell_type": "code",
   "execution_count": 12,
   "metadata": {},
   "outputs": [
    {
     "data": {
      "text/plain": [
       "User_ID                       2656\n",
       "Product_ID                    1797\n",
       "Gender                           2\n",
       "Age                              7\n",
       "Occupation                      21\n",
       "City_Category                    3\n",
       "Stay_In_Current_City_Years       5\n",
       "Marital_Status                   2\n",
       "Product_Category_1              20\n",
       "Product_Category_2              17\n",
       "Purchase                      3736\n",
       "dtype: int64"
      ]
     },
     "execution_count": 12,
     "metadata": {},
     "output_type": "execute_result"
    }
   ],
   "source": [
    "df.nunique()"
   ]
  },
  {
   "cell_type": "markdown",
   "metadata": {},
   "source": [
    "* `User_ID`의 고유값이 전체 데이터 개수와 비교해 봤을 때 상당히 많기 때문에(2,656) 해당 Column을 포함하여 모델링을 진행하면 Overfitting이 될 가능성이 있기에 drop함."
   ]
  },
  {
   "cell_type": "code",
   "execution_count": 13,
   "metadata": {},
   "outputs": [],
   "source": [
    "df.drop(['User_ID'], axis=1, inplace=True)"
   ]
  },
  {
   "cell_type": "code",
   "execution_count": 14,
   "metadata": {},
   "outputs": [
    {
     "data": {
      "text/html": [
       "<div>\n",
       "<style scoped>\n",
       "    .dataframe tbody tr th:only-of-type {\n",
       "        vertical-align: middle;\n",
       "    }\n",
       "\n",
       "    .dataframe tbody tr th {\n",
       "        vertical-align: top;\n",
       "    }\n",
       "\n",
       "    .dataframe thead th {\n",
       "        text-align: right;\n",
       "    }\n",
       "</style>\n",
       "<table border=\"1\" class=\"dataframe\">\n",
       "  <thead>\n",
       "    <tr style=\"text-align: right;\">\n",
       "      <th></th>\n",
       "      <th>Product_ID</th>\n",
       "      <th>Gender</th>\n",
       "      <th>Age</th>\n",
       "      <th>Occupation</th>\n",
       "      <th>City_Category</th>\n",
       "      <th>Stay_In_Current_City_Years</th>\n",
       "      <th>Marital_Status</th>\n",
       "      <th>Product_Category_1</th>\n",
       "      <th>Product_Category_2</th>\n",
       "      <th>Purchase</th>\n",
       "    </tr>\n",
       "  </thead>\n",
       "  <tbody>\n",
       "    <tr>\n",
       "      <th>0</th>\n",
       "      <td>P00046042</td>\n",
       "      <td>F</td>\n",
       "      <td>0-17</td>\n",
       "      <td>10</td>\n",
       "      <td>A</td>\n",
       "      <td>3</td>\n",
       "      <td>0</td>\n",
       "      <td>5</td>\n",
       "      <td>17.0</td>\n",
       "      <td>2010</td>\n",
       "    </tr>\n",
       "    <tr>\n",
       "      <th>1</th>\n",
       "      <td>P00347742</td>\n",
       "      <td>F</td>\n",
       "      <td>0-17</td>\n",
       "      <td>10</td>\n",
       "      <td>A</td>\n",
       "      <td>1</td>\n",
       "      <td>0</td>\n",
       "      <td>7</td>\n",
       "      <td>8.0</td>\n",
       "      <td>4483</td>\n",
       "    </tr>\n",
       "    <tr>\n",
       "      <th>2</th>\n",
       "      <td>P00048942</td>\n",
       "      <td>F</td>\n",
       "      <td>0-17</td>\n",
       "      <td>10</td>\n",
       "      <td>A</td>\n",
       "      <td>1</td>\n",
       "      <td>0</td>\n",
       "      <td>1</td>\n",
       "      <td>4.0</td>\n",
       "      <td>7696</td>\n",
       "    </tr>\n",
       "    <tr>\n",
       "      <th>3</th>\n",
       "      <td>P00145242</td>\n",
       "      <td>F</td>\n",
       "      <td>0-17</td>\n",
       "      <td>10</td>\n",
       "      <td>A</td>\n",
       "      <td>3</td>\n",
       "      <td>0</td>\n",
       "      <td>2</td>\n",
       "      <td>4.0</td>\n",
       "      <td>16429</td>\n",
       "    </tr>\n",
       "    <tr>\n",
       "      <th>4</th>\n",
       "      <td>P00106742</td>\n",
       "      <td>F</td>\n",
       "      <td>0-17</td>\n",
       "      <td>10</td>\n",
       "      <td>A</td>\n",
       "      <td>3</td>\n",
       "      <td>0</td>\n",
       "      <td>3</td>\n",
       "      <td>5.0</td>\n",
       "      <td>5780</td>\n",
       "    </tr>\n",
       "  </tbody>\n",
       "</table>\n",
       "</div>"
      ],
      "text/plain": [
       "  Product_ID Gender   Age  Occupation City_Category  \\\n",
       "0  P00046042      F  0-17          10             A   \n",
       "1  P00347742      F  0-17          10             A   \n",
       "2  P00048942      F  0-17          10             A   \n",
       "3  P00145242      F  0-17          10             A   \n",
       "4  P00106742      F  0-17          10             A   \n",
       "\n",
       "  Stay_In_Current_City_Years  Marital_Status  Product_Category_1  \\\n",
       "0                          3               0                   5   \n",
       "1                          1               0                   7   \n",
       "2                          1               0                   1   \n",
       "3                          3               0                   2   \n",
       "4                          3               0                   3   \n",
       "\n",
       "   Product_Category_2  Purchase  \n",
       "0                17.0      2010  \n",
       "1                 8.0      4483  \n",
       "2                 4.0      7696  \n",
       "3                 4.0     16429  \n",
       "4                 5.0      5780  "
      ]
     },
     "execution_count": 14,
     "metadata": {},
     "output_type": "execute_result"
    }
   ],
   "source": [
    "df.head()"
   ]
  },
  {
   "cell_type": "markdown",
   "metadata": {},
   "source": [
    "### One-hot-encoding"
   ]
  },
  {
   "cell_type": "markdown",
   "metadata": {},
   "source": [
    "KNN은 거리 기반 알고리즘이므로 input에 numerical이 와야 함. 따라서 categorical 변수들은 `One-hot-encoding`으로 1 또는 0으로 지정해줘야 함. \n",
    "\n",
    "(1) One-hot-encoding을 해야 하는 Categorical Features : `Product_ID`, `Gender`, `Age`, `Occupation`, `City_Category`, `Stay_In_Current_City_Years`, `Product_Category_1`, `Product_Category_2`\n",
    "\n",
    "(2) `Product_ID`는 그룹 단위로 One-hot-encoding을 진행함."
   ]
  },
  {
   "cell_type": "code",
   "execution_count": 15,
   "metadata": {},
   "outputs": [],
   "source": [
    "# One-Hot-Encoding (1)\n",
    "\n",
    "categorical = ['Gender', 'Age', 'Occupation', 'City_Category', 'Stay_In_Current_City_Years', 'Product_Category_1', 'Product_Category_2']\n",
    "\n",
    "encoder1 = OneHotEncoder().fit(df[categorical])"
   ]
  },
  {
   "cell_type": "code",
   "execution_count": 16,
   "metadata": {},
   "outputs": [
    {
     "data": {
      "text/plain": [
       "['P002', 'P001', 'P000', 'P009', 'P003']"
      ]
     },
     "execution_count": 16,
     "metadata": {},
     "output_type": "execute_result"
    }
   ],
   "source": [
    "# 제품 ID 앞 4자리를 기준으로 리스트 생성, 고유값 확인\n",
    "product_id = []\n",
    "\n",
    "for i in df.Product_ID.values:\n",
    "    product_id.append(i[:4])\n",
    "    \n",
    "unique_product_id = list(set(product_id))\n",
    "unique_product_id"
   ]
  },
  {
   "cell_type": "code",
   "execution_count": 17,
   "metadata": {},
   "outputs": [],
   "source": [
    "# 제품 ID 앞 4자리 기준으로 그룹화\n",
    "P000_index = [i for i, value in enumerate(product_id) if value == 'P000']\n",
    "P001_index = [i for i, value in enumerate(product_id) if value == 'P001']\n",
    "P002_index = [i for i, value in enumerate(product_id) if value == 'P002']\n",
    "P003_index = [i for i, value in enumerate(product_id) if value == 'P003']\n",
    "P009_index = [i for i, value in enumerate(product_id) if value == 'P009']"
   ]
  },
  {
   "cell_type": "code",
   "execution_count": 18,
   "metadata": {},
   "outputs": [],
   "source": [
    "# One-Hot-Encoding (2) - Product_ID Column\n",
    "# 제품 ID 값을 각 제품 ID의 4번째 숫자로 대체 -> 그룹화\n",
    "\n",
    "for i in P000_index:\n",
    "    df.iloc[i, 0] = 0\n",
    "\n",
    "for i in P001_index:\n",
    "    df.iloc[i, 0] = 1\n",
    "    \n",
    "for i in P002_index:\n",
    "    df.iloc[i, 0] = 2\n",
    "    \n",
    "for i in P003_index:\n",
    "    df.iloc[i, 0] = 3\n",
    "    \n",
    "for i in P009_index:\n",
    "    df.iloc[i, 0] = 9\n",
    "    \n",
    "encoder2 = OneHotEncoder().fit(df[['Product_ID']])"
   ]
  },
  {
   "cell_type": "code",
   "execution_count": 19,
   "metadata": {},
   "outputs": [
    {
     "data": {
      "text/html": [
       "<div>\n",
       "<style scoped>\n",
       "    .dataframe tbody tr th:only-of-type {\n",
       "        vertical-align: middle;\n",
       "    }\n",
       "\n",
       "    .dataframe tbody tr th {\n",
       "        vertical-align: top;\n",
       "    }\n",
       "\n",
       "    .dataframe thead th {\n",
       "        text-align: right;\n",
       "    }\n",
       "</style>\n",
       "<table border=\"1\" class=\"dataframe\">\n",
       "  <thead>\n",
       "    <tr style=\"text-align: right;\">\n",
       "      <th></th>\n",
       "      <th>Marital_Status</th>\n",
       "      <th>Purchase</th>\n",
       "      <th>Gender_F</th>\n",
       "      <th>Gender_M</th>\n",
       "      <th>Age_0-17</th>\n",
       "      <th>Age_18-25</th>\n",
       "      <th>Age_26-35</th>\n",
       "      <th>Age_36-45</th>\n",
       "      <th>Age_46-50</th>\n",
       "      <th>Age_51-55</th>\n",
       "      <th>...</th>\n",
       "      <th>Product_Category_2_14.0</th>\n",
       "      <th>Product_Category_2_15.0</th>\n",
       "      <th>Product_Category_2_16.0</th>\n",
       "      <th>Product_Category_2_17.0</th>\n",
       "      <th>Product_Category_2_18.0</th>\n",
       "      <th>Product_ID_0</th>\n",
       "      <th>Product_ID_1</th>\n",
       "      <th>Product_ID_2</th>\n",
       "      <th>Product_ID_3</th>\n",
       "      <th>Product_ID_9</th>\n",
       "    </tr>\n",
       "  </thead>\n",
       "  <tbody>\n",
       "    <tr>\n",
       "      <th>0</th>\n",
       "      <td>0</td>\n",
       "      <td>2010</td>\n",
       "      <td>1.0</td>\n",
       "      <td>0.0</td>\n",
       "      <td>1.0</td>\n",
       "      <td>0.0</td>\n",
       "      <td>0.0</td>\n",
       "      <td>0.0</td>\n",
       "      <td>0.0</td>\n",
       "      <td>0.0</td>\n",
       "      <td>...</td>\n",
       "      <td>0.0</td>\n",
       "      <td>0.0</td>\n",
       "      <td>0.0</td>\n",
       "      <td>1.0</td>\n",
       "      <td>0.0</td>\n",
       "      <td>1.0</td>\n",
       "      <td>0.0</td>\n",
       "      <td>0.0</td>\n",
       "      <td>0.0</td>\n",
       "      <td>0.0</td>\n",
       "    </tr>\n",
       "    <tr>\n",
       "      <th>1</th>\n",
       "      <td>0</td>\n",
       "      <td>4483</td>\n",
       "      <td>1.0</td>\n",
       "      <td>0.0</td>\n",
       "      <td>1.0</td>\n",
       "      <td>0.0</td>\n",
       "      <td>0.0</td>\n",
       "      <td>0.0</td>\n",
       "      <td>0.0</td>\n",
       "      <td>0.0</td>\n",
       "      <td>...</td>\n",
       "      <td>0.0</td>\n",
       "      <td>0.0</td>\n",
       "      <td>0.0</td>\n",
       "      <td>0.0</td>\n",
       "      <td>0.0</td>\n",
       "      <td>0.0</td>\n",
       "      <td>0.0</td>\n",
       "      <td>0.0</td>\n",
       "      <td>1.0</td>\n",
       "      <td>0.0</td>\n",
       "    </tr>\n",
       "    <tr>\n",
       "      <th>2</th>\n",
       "      <td>0</td>\n",
       "      <td>7696</td>\n",
       "      <td>1.0</td>\n",
       "      <td>0.0</td>\n",
       "      <td>1.0</td>\n",
       "      <td>0.0</td>\n",
       "      <td>0.0</td>\n",
       "      <td>0.0</td>\n",
       "      <td>0.0</td>\n",
       "      <td>0.0</td>\n",
       "      <td>...</td>\n",
       "      <td>0.0</td>\n",
       "      <td>0.0</td>\n",
       "      <td>0.0</td>\n",
       "      <td>0.0</td>\n",
       "      <td>0.0</td>\n",
       "      <td>1.0</td>\n",
       "      <td>0.0</td>\n",
       "      <td>0.0</td>\n",
       "      <td>0.0</td>\n",
       "      <td>0.0</td>\n",
       "    </tr>\n",
       "    <tr>\n",
       "      <th>3</th>\n",
       "      <td>0</td>\n",
       "      <td>16429</td>\n",
       "      <td>1.0</td>\n",
       "      <td>0.0</td>\n",
       "      <td>1.0</td>\n",
       "      <td>0.0</td>\n",
       "      <td>0.0</td>\n",
       "      <td>0.0</td>\n",
       "      <td>0.0</td>\n",
       "      <td>0.0</td>\n",
       "      <td>...</td>\n",
       "      <td>0.0</td>\n",
       "      <td>0.0</td>\n",
       "      <td>0.0</td>\n",
       "      <td>0.0</td>\n",
       "      <td>0.0</td>\n",
       "      <td>0.0</td>\n",
       "      <td>1.0</td>\n",
       "      <td>0.0</td>\n",
       "      <td>0.0</td>\n",
       "      <td>0.0</td>\n",
       "    </tr>\n",
       "    <tr>\n",
       "      <th>4</th>\n",
       "      <td>0</td>\n",
       "      <td>5780</td>\n",
       "      <td>1.0</td>\n",
       "      <td>0.0</td>\n",
       "      <td>1.0</td>\n",
       "      <td>0.0</td>\n",
       "      <td>0.0</td>\n",
       "      <td>0.0</td>\n",
       "      <td>0.0</td>\n",
       "      <td>0.0</td>\n",
       "      <td>...</td>\n",
       "      <td>0.0</td>\n",
       "      <td>0.0</td>\n",
       "      <td>0.0</td>\n",
       "      <td>0.0</td>\n",
       "      <td>0.0</td>\n",
       "      <td>0.0</td>\n",
       "      <td>1.0</td>\n",
       "      <td>0.0</td>\n",
       "      <td>0.0</td>\n",
       "      <td>0.0</td>\n",
       "    </tr>\n",
       "  </tbody>\n",
       "</table>\n",
       "<p>5 rows × 82 columns</p>\n",
       "</div>"
      ],
      "text/plain": [
       "   Marital_Status  Purchase  Gender_F  Gender_M  Age_0-17  Age_18-25  \\\n",
       "0               0      2010       1.0       0.0       1.0        0.0   \n",
       "1               0      4483       1.0       0.0       1.0        0.0   \n",
       "2               0      7696       1.0       0.0       1.0        0.0   \n",
       "3               0     16429       1.0       0.0       1.0        0.0   \n",
       "4               0      5780       1.0       0.0       1.0        0.0   \n",
       "\n",
       "   Age_26-35  Age_36-45  Age_46-50  Age_51-55  ...  Product_Category_2_14.0  \\\n",
       "0        0.0        0.0        0.0        0.0  ...                      0.0   \n",
       "1        0.0        0.0        0.0        0.0  ...                      0.0   \n",
       "2        0.0        0.0        0.0        0.0  ...                      0.0   \n",
       "3        0.0        0.0        0.0        0.0  ...                      0.0   \n",
       "4        0.0        0.0        0.0        0.0  ...                      0.0   \n",
       "\n",
       "   Product_Category_2_15.0  Product_Category_2_16.0  Product_Category_2_17.0  \\\n",
       "0                      0.0                      0.0                      1.0   \n",
       "1                      0.0                      0.0                      0.0   \n",
       "2                      0.0                      0.0                      0.0   \n",
       "3                      0.0                      0.0                      0.0   \n",
       "4                      0.0                      0.0                      0.0   \n",
       "\n",
       "   Product_Category_2_18.0  Product_ID_0  Product_ID_1  Product_ID_2  \\\n",
       "0                      0.0           1.0           0.0           0.0   \n",
       "1                      0.0           0.0           0.0           0.0   \n",
       "2                      0.0           1.0           0.0           0.0   \n",
       "3                      0.0           0.0           1.0           0.0   \n",
       "4                      0.0           0.0           1.0           0.0   \n",
       "\n",
       "   Product_ID_3  Product_ID_9  \n",
       "0           0.0           0.0  \n",
       "1           1.0           0.0  \n",
       "2           0.0           0.0  \n",
       "3           0.0           0.0  \n",
       "4           0.0           0.0  \n",
       "\n",
       "[5 rows x 82 columns]"
      ]
     },
     "execution_count": 19,
     "metadata": {},
     "output_type": "execute_result"
    }
   ],
   "source": [
    "# 최종 DataFrame\n",
    "encoded1 = pd.DataFrame(encoder1.transform(df[categorical]).toarray(), index=df.index, columns = encoder1.get_feature_names(categorical))\n",
    "\n",
    "encoded2 = pd.DataFrame(encoder2.transform(df[['Product_ID']]).toarray(), index = df.index, columns = encoder2.get_feature_names(['Product_ID']))\n",
    "\n",
    "df1 = pd.concat([df, encoded1], sort=False, axis=1)\n",
    "df2 = pd.concat([df1, encoded2], sort=False, axis=1)\n",
    "\n",
    "df = df2.drop(['Product_ID', 'Gender', 'Age', 'Occupation', 'City_Category', 'Stay_In_Current_City_Years', 'Product_Category_1', 'Product_Category_2'], axis=1)\n",
    "\n",
    "df.head()"
   ]
  },
  {
   "cell_type": "markdown",
   "metadata": {},
   "source": [
    "### 데이터 분리"
   ]
  },
  {
   "cell_type": "code",
   "execution_count": 20,
   "metadata": {},
   "outputs": [],
   "source": [
    "X = df.drop(['Purchase'], axis=1)\n",
    "y = df.Purchase"
   ]
  },
  {
   "cell_type": "code",
   "execution_count": 21,
   "metadata": {},
   "outputs": [],
   "source": [
    "# Train set(70%) / Test set(30%) 나누기\n",
    "X_train, X_test, y_train, y_test = train_test_split(X, y, test_size=0.3, random_state=0)"
   ]
  },
  {
   "cell_type": "code",
   "execution_count": 22,
   "metadata": {},
   "outputs": [
    {
     "name": "stdout",
     "output_type": "stream",
     "text": [
      "(3498, 81)\n",
      "(1500, 81)\n"
     ]
    }
   ],
   "source": [
    "print(X_train.shape)\n",
    "print(X_test.shape)"
   ]
  },
  {
   "cell_type": "markdown",
   "metadata": {},
   "source": [
    "* 전체 데이터 중 70%를 Train Data로, 나머지 30%를 Test Data로 분리함.\n",
    "* 설명변수는 모두 Categorical이므로, Feature Scaling을 진행하지 않음."
   ]
  },
  {
   "cell_type": "markdown",
   "metadata": {},
   "source": [
    "## 3. 모델링"
   ]
  },
  {
   "cell_type": "markdown",
   "metadata": {},
   "source": [
    "* K 개수 결정\n",
    "\n",
    "* Distance measure 결정"
   ]
  },
  {
   "cell_type": "markdown",
   "metadata": {},
   "source": [
    "### K에 따른 결과\n",
    "\n",
    "* K가 매우 작을 경우 : 데이터의 지역적 특성을 지나치게 반영함(overfitting)\n",
    "\n",
    "* K가 매우 클 경우 : 다른 범주의 개체를 너무 많이 포함하여 오분류할 위험이 있음 (underfitting)"
   ]
  },
  {
   "cell_type": "markdown",
   "metadata": {},
   "source": [
    "### 4.1 Hyperparameter K 결정"
   ]
  },
  {
   "cell_type": "markdown",
   "metadata": {},
   "source": [
    "* k는 1~100 사이의 홀수 값들로 임의로 지정함.\n",
    "\n",
    "* Distance Measure은 가장 널리 쓰이는 Euclidean Distance를 기준으로 함."
   ]
  },
  {
   "cell_type": "code",
   "execution_count": 25,
   "metadata": {},
   "outputs": [
    {
     "name": "stderr",
     "output_type": "stream",
     "text": [
      "100%|██████████████████████████████████████████████████████████████████████████████████| 50/50 [00:16<00:00,  3.02it/s]\n"
     ]
    }
   ],
   "source": [
    "k_list = [i for i in range(1, 100) if i%2 != 0]\n",
    "train_accuracy = []\n",
    "test_accuracy = []\n",
    "\n",
    "for k in tqdm(k_list):\n",
    "    reg = KNeighborsRegressor(n_neighbors=k, p=2)\n",
    "    # p=1: manhattan_distance, p=2: euclidean_distance, # p=l_p: minkoski_distance\n",
    "    reg.fit(X_train, y_train)\n",
    "    # Train Data에 대한 결정계수\n",
    "    train_accuracy.append(reg.score(X_train, y_train))\n",
    "    # Test Data에 대한 결정계수\n",
    "    test_accuracy.append(reg.score(X_test, y_test))"
   ]
  },
  {
   "cell_type": "code",
   "execution_count": 26,
   "metadata": {},
   "outputs": [
    {
     "data": {
      "image/png": "[encoded data removed]",
      "text/plain": [
       "<Figure size 432x288 with 1 Axes>"
      ]
     },
     "metadata": {
      "needs_background": "light"
     },
     "output_type": "display_data"
    }
   ],
   "source": [
    "# K 변화에 따른 Accuracy 변화 시각화\n",
    "plt.plot(k_list, train_accuracy, label='Train Accuracy')\n",
    "plt.plot(k_list, test_accuracy, label='Test Accuracy')\n",
    "plt.xlabel('K')\n",
    "plt.ylabel('Regression Score')\n",
    "plt.grid()\n",
    "plt.legend()\n",
    "plt.show()"
   ]
  },
  {
   "cell_type": "markdown",
   "metadata": {},
   "source": [
    "* K가 커질수록 Train Accuracy는 떨어지고, Test Accuracy는 높아지는 경향이 있음."
   ]
  },
  {
   "cell_type": "markdown",
   "metadata": {},
   "source": [
    "* `train_accuracy`와 `test_accuracy`를 내림차순으로 정렬 후 상위 10개 값의 index와 교집합 원소를 추출함."
   ]
  },
  {
   "cell_type": "code",
   "execution_count": 27,
   "metadata": {},
   "outputs": [
    {
     "name": "stdout",
     "output_type": "stream",
     "text": [
      "Int64Index([0, 1, 2, 3, 4, 5, 6, 7, 8, 9], dtype='int64')\n",
      "************************************************************\n",
      "Int64Index([6, 8, 5, 7, 9, 11, 10, 12, 4, 13], dtype='int64')\n",
      "************************************************************\n",
      "Int64Index([4, 5, 6, 7, 8, 9], dtype='int64')\n"
     ]
    }
   ],
   "source": [
    "train_rank_10 = pd.Series(train_accuracy).sort_values(ascending=False).index[:10]\n",
    "test_rank_10 = pd.Series(test_accuracy).sort_values(ascending=False).index[:10]\n",
    "\n",
    "print(train_rank_10)\n",
    "print('*' * 60)\n",
    "print(test_rank_10)\n",
    "print('*' * 60)\n",
    "print(train_rank_10.intersection(test_rank_10))"
   ]
  },
  {
   "cell_type": "markdown",
   "metadata": {},
   "source": [
    "* `train_accuracy`와 `test_accuracy` 모두에서 상위 10개 안에 드는 K는 4,5,6,7,8,9임"
   ]
  },
  {
   "cell_type": "markdown",
   "metadata": {},
   "source": [
    "#### 교차 검증으로 정확도 비교하기"
   ]
  },
  {
   "cell_type": "code",
   "execution_count": 28,
   "metadata": {},
   "outputs": [
    {
     "data": {
      "application/vnd.jupyter.widget-view+json": {
       "model_id": "f680868d6b904f8f9dbb61f1c5be5892",
       "version_major": 2,
       "version_minor": 0
      },
      "text/plain": [
       "  0%|          | 0/50 [00:00<?, ?it/s]"
      ]
     },
     "metadata": {},
     "output_type": "display_data"
    }
   ],
   "source": [
    "k_list = [i for i in range(1,100) if i%2 != 0]\n",
    "cv_scores = []\n",
    "\n",
    "for k in tqdm_notebook(k_list):\n",
    "    cv_reg = KNeighborsRegressor(n_neighbors=k, p=2)\n",
    "    \n",
    "    # 10-cross validation으로 탐색\n",
    "    # scores: k값마다 10개의 값 누적\n",
    "    scores = cross_val_score(cv_reg, X_train, y_train, cv=10)\n",
    "    \n",
    "    # scores의 평균을 k값 마다의 성능 평가 결과로 사용\n",
    "    cv_scores.append(scores.mean())"
   ]
  },
  {
   "cell_type": "code",
   "execution_count": 29,
   "metadata": {},
   "outputs": [
    {
     "name": "stdout",
     "output_type": "stream",
     "text": [
      "Best k values :  [17]\n"
     ]
    }
   ],
   "source": [
    "# scoring이 accuracy이므로 값이 높을수록 좋음\n",
    "# cv_scores를 가장 높게 만든 k값을 best_k값으로 선정\n",
    "best_k = [k_list[i] for i in range(len(cv_scores)) if cv_scores[i] == np.max(cv_scores)]\n",
    "print('Best k values : ', best_k)"
   ]
  },
  {
   "cell_type": "code",
   "execution_count": 52,
   "metadata": {},
   "outputs": [
    {
     "data": {
      "image/png": "[encoded data removed]",
      "text/plain": [
       "<Figure size 1440x720 with 1 Axes>"
      ]
     },
     "metadata": {
      "needs_background": "light"
     },
     "output_type": "display_data"
    }
   ],
   "source": [
    "plt.figure(figsize=(20,10))\n",
    "plt.plot(k_list, cv_scores, marker='o', linestyle='dashed')\n",
    "plt.legend(['Cross validation scores'], fontsize=20)\n",
    "plt.xlabel('K', fontsize=20)\n",
    "plt.ylabel('r2', fontsize=20)\n",
    "plt.title('r2 Score', fontsize=25)\n",
    "plt.axvline(best_k[0], color='r', linestyle='--', linewidth=2)\n",
    "plt.show()"
   ]
  },
  {
   "cell_type": "markdown",
   "metadata": {},
   "source": [
    "* K가 17일 때 Accuracy가 가장 높음."
   ]
  },
  {
   "cell_type": "markdown",
   "metadata": {},
   "source": [
    "### 4.2 Distance type 결정"
   ]
  },
  {
   "cell_type": "markdown",
   "metadata": {},
   "source": [
    "### 4.2.1 Euclidean Distance"
   ]
  },
  {
   "cell_type": "markdown",
   "metadata": {},
   "source": [
    "* 가장 흔히 사용되는 거리측도\n",
    "* 대응되는 x, y 값 간 차이 제곱합의 제곱근으로써, 두 관측치 사이의 직선 거리를 의미함.\n",
    "\n",
    "$$ d_{(X,Y)}=\\sqrt{\\sum_{i=1}^n(x_i-y_i)^2}$$"
   ]
  },
  {
   "cell_type": "code",
   "execution_count": 45,
   "metadata": {},
   "outputs": [
    {
     "data": {
      "application/vnd.jupyter.widget-view+json": {
       "model_id": "a33ec6219ec742d893f7c819e8866c94",
       "version_major": 2,
       "version_minor": 0
      },
      "text/plain": [
       "  0%|          | 0/50 [00:00<?, ?it/s]"
      ]
     },
     "metadata": {},
     "output_type": "display_data"
    }
   ],
   "source": [
    "k_list = [i for i in range(1,100) if i%2 != 0]\n",
    "\n",
    "euc = []\n",
    "for k in tqdm_notebook(k_list):\n",
    "    cv_reg_euc = KNeighborsRegressor(n_neighbors=k, p=2)\n",
    "    scores = cross_val_score(cv_reg_euc, X_train, y_train, cv=10, scoring='r2')\n",
    "    euc.append(scores.mean())"
   ]
  },
  {
   "cell_type": "code",
   "execution_count": 46,
   "metadata": {},
   "outputs": [
    {
     "name": "stdout",
     "output_type": "stream",
     "text": [
      "Best k values :  [17]\n"
     ]
    }
   ],
   "source": [
    "best_k_euc = [k_list[i] for i in range(len(euc)) if euc[i] == np.max(euc)]\n",
    "print('Best k values : ', best_k_euc)"
   ]
  },
  {
   "cell_type": "code",
   "execution_count": 49,
   "metadata": {},
   "outputs": [
    {
     "data": {
      "image/png": "[encoded data removed]",
      "text/plain": [
       "<Figure size 1440x720 with 1 Axes>"
      ]
     },
     "metadata": {
      "needs_background": "light"
     },
     "output_type": "display_data"
    }
   ],
   "source": [
    "plt.figure(figsize=(20,10))\n",
    "plt.plot(k_list, euc, marker='o', linestyle='dashed')\n",
    "plt.legend(['Euclidean'], fontsize=20)\n",
    "plt.xlabel('K', fontsize=20)\n",
    "plt.ylabel('r2', fontsize=20)\n",
    "plt.title('r2 Score', fontsize=25)\n",
    "plt.axvline(best_k_euc[0], color='r', linestyle='--', linewidth=2)\n",
    "plt.show()"
   ]
  },
  {
   "cell_type": "markdown",
   "metadata": {},
   "source": [
    "### 4.2.2 Manhattan Distance"
   ]
  },
  {
   "cell_type": "markdown",
   "metadata": {},
   "source": [
    "* x에서 y로 이동 시 각 좌표축 방향으로만 이동할 경우에 계산되는 거리\n",
    "\n",
    "$$ d_{Manhattan(X,Y)}=\\sum_{i=1}^n|x_i-y_i|$$"
   ]
  },
  {
   "cell_type": "code",
   "execution_count": 48,
   "metadata": {},
   "outputs": [
    {
     "data": {
      "application/vnd.jupyter.widget-view+json": {
       "model_id": "c693d89ead054146a7c06cf8f3890dc1",
       "version_major": 2,
       "version_minor": 0
      },
      "text/plain": [
       "  0%|          | 0/50 [00:00<?, ?it/s]"
      ]
     },
     "metadata": {},
     "output_type": "display_data"
    }
   ],
   "source": [
    "k_list = [i for i in range(1,100) if i%2 != 0]\n",
    "\n",
    "man = []\n",
    "for k in tqdm_notebook(k_list):\n",
    "    cv_reg_man = KNeighborsRegressor(n_neighbors=k, p=1)\n",
    "    scores = cross_val_score(cv_reg_man, X_train, y_train, cv=10, scoring='r2')\n",
    "    man.append(scores.mean())"
   ]
  },
  {
   "cell_type": "code",
   "execution_count": 50,
   "metadata": {},
   "outputs": [
    {
     "name": "stdout",
     "output_type": "stream",
     "text": [
      "Best k values :  [17]\n"
     ]
    }
   ],
   "source": [
    "best_k_man = [k_list[i] for i in range(len(man)) if man[i] == np.max(man)]\n",
    "print('Best k values : ', best_k_man)"
   ]
  },
  {
   "cell_type": "code",
   "execution_count": 51,
   "metadata": {},
   "outputs": [
    {
     "data": {
      "image/png": "[encoded data removed]",
      "text/plain": [
       "<Figure size 1440x720 with 1 Axes>"
      ]
     },
     "metadata": {
      "needs_background": "light"
     },
     "output_type": "display_data"
    }
   ],
   "source": [
    "plt.figure(figsize=(20,10))\n",
    "plt.plot(k_list, man, marker='o', linestyle='dashed')\n",
    "plt.legend(['Manhattan'], fontsize=20)\n",
    "plt.xlabel('K', fontsize=20)\n",
    "plt.ylabel('r2', fontsize=20)\n",
    "plt.title('r2 Score', fontsize=25)\n",
    "plt.axvline(best_k_man[0], color='r', linestyle='--', linewidth=2)\n",
    "plt.show()"
   ]
  },
  {
   "cell_type": "markdown",
   "metadata": {},
   "source": [
    "### 4.2.3 Minkowski Distance"
   ]
  },
  {
   "cell_type": "markdown",
   "metadata": {},
   "source": [
    "$$d(x,y) = [\\sum_{i=1}^p|x_i-y_i|^m]^{1/m}$$"
   ]
  },
  {
   "cell_type": "code",
   "execution_count": 35,
   "metadata": {},
   "outputs": [
    {
     "data": {
      "application/vnd.jupyter.widget-view+json": {
       "model_id": "4aac13a2c5c04f3293f522051ce158e5",
       "version_major": 2,
       "version_minor": 0
      },
      "text/plain": [
       "  0%|          | 0/50 [00:00<?, ?it/s]"
      ]
     },
     "metadata": {},
     "output_type": "display_data"
    }
   ],
   "source": [
    "k_list = [i for i in range(1,100) if i%2 != 0]\n",
    "\n",
    "kow = []\n",
    "for k in tqdm_notebook(k_list):\n",
    "    cv_reg_kow = KNeighborsRegressor(n_neighbors=k, p=3, metric='minkowski')\n",
    "    scores = cross_val_score(cv_reg_kow, X_train, y_train, cv=10, scoring='r2')\n",
    "    kow.append(scores.mean())"
   ]
  },
  {
   "cell_type": "code",
   "execution_count": 42,
   "metadata": {},
   "outputs": [
    {
     "name": "stdout",
     "output_type": "stream",
     "text": [
      "Best k values :  [17]\n"
     ]
    }
   ],
   "source": [
    "best_k_kow = [k_list[i] for i in range(len(kow)) if kow[i] == np.max(kow)]\n",
    "print('Best k values : ', best_k_kow)"
   ]
  },
  {
   "cell_type": "code",
   "execution_count": 53,
   "metadata": {},
   "outputs": [
    {
     "data": {
      "image/png": "[encoded data removed]",
      "text/plain": [
       "<Figure size 1440x720 with 1 Axes>"
      ]
     },
     "metadata": {
      "needs_background": "light"
     },
     "output_type": "display_data"
    }
   ],
   "source": [
    "plt.figure(figsize=(20,10))\n",
    "plt.plot(k_list, man, marker='o', linestyle='dashed')\n",
    "plt.legend(['Minkowski'], fontsize=20)\n",
    "plt.xlabel('K', fontsize=20)\n",
    "plt.ylabel('r2', fontsize=20)\n",
    "plt.title('r2 Score', fontsize=25)\n",
    "plt.axvline(best_k_kow[0], color='r', linestyle='--', linewidth=2)\n",
    "plt.show()"
   ]
  },
  {
   "cell_type": "markdown",
   "metadata": {},
   "source": [
    "### 4.3 최종 모델 선정 및 성능 확인"
   ]
  },
  {
   "cell_type": "markdown",
   "metadata": {},
   "source": [
    "**최종모델:** 유클리디언 거리 & k=17"
   ]
  },
  {
   "cell_type": "code",
   "execution_count": 44,
   "metadata": {},
   "outputs": [
    {
     "name": "stdout",
     "output_type": "stream",
     "text": [
      "0.3837417505221826\n"
     ]
    }
   ],
   "source": [
    "reg = KNeighborsRegressor(n_neighbors=17, p=2)\n",
    "reg.fit(X_train, y_train)\n",
    "y_pred = reg.predict(X_test)\n",
    "\n",
    "print(reg.score(X_test, y_test))"
   ]
  }
 ],
 "metadata": {
  "colab": {
   "collapsed_sections": [],
   "name": "KNN 과제.ipynb",
   "provenance": []
  },
  "kernelspec": {
   "display_name": "Python 3 (ipykernel)",
   "language": "python",
   "name": "python3"
  },
  "language_info": {
   "codemirror_mode": {
    "name": "ipython",
    "version": 3
   },
   "file_extension": ".py",
   "mimetype": "text/x-python",
   "name": "python",
   "nbconvert_exporter": "python",
   "pygments_lexer": "ipython3",
   "version": "3.9.7"
  }
 },
 "nbformat": 4,
 "nbformat_minor": 1
}
