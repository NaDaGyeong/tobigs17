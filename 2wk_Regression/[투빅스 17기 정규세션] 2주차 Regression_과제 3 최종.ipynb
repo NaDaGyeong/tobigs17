{
 "cells": [
  {
   "cell_type": "markdown",
   "metadata": {
    "id": "fu39oBW0RVn5"
   },
   "source": [
    "# [과제 3] 로지스틱 회귀분석\n",
    "### - sklearn 패키지를 사용해 로지스틱 회귀분석을 진행해주세요.\n",
    "### - 성능지표를 계산하고 이에 대해 해석해주세요.\n",
    "### - 성능 개선을 시도해주세요. (어떠한 성능지표를 기준으로 개선을 시도했는지, 그 이유도 함께 적어주세요.)\n",
    "### - 주석으로 설명 및 근거 자세하게 달아주시면 감사하겠습니다. :)"
   ]
  },
  {
   "cell_type": "markdown",
   "metadata": {
    "id": "8rN2SWezRVn_"
   },
   "source": [
    "## Data "
   ]
  },
  {
   "cell_type": "markdown",
   "metadata": {
    "id": "Y7SYKNvQRVn_"
   },
   "source": [
    "출처 : https://www.kaggle.com/mlg-ulb/creditcardfraud\n",
    "\n",
    "\n",
    "* V1 ~ V28 : 비식별화 된 개인정보 \n",
    "* **Class** : Target 변수  \n",
    "  - 1 : fraudulent transactions (사기)\n",
    "  - 0 : otherwise "
   ]
  },
  {
   "cell_type": "code",
   "execution_count": 36,
   "metadata": {
    "id": "Uvjw2fTCRVoA"
   },
   "outputs": [],
   "source": [
    "import pandas as pd\n",
    "import numpy as np\n",
    "import seaborn as sns\n",
    "import matplotlib.pyplot as plt\n",
    "import warnings\n",
    "warnings.filterwarnings(action='ignore')"
   ]
  },
  {
   "cell_type": "code",
   "execution_count": 37,
   "metadata": {
    "id": "znQit70ZRVoA"
   },
   "outputs": [],
   "source": [
    "data = pd.read_csv(\"assignment3_creditcard.csv\")"
   ]
  },
  {
   "cell_type": "code",
   "execution_count": 38,
   "metadata": {
    "colab": {
     "base_uri": "https://localhost:8080/",
     "height": 220
    },
    "id": "v98OeXW5RVoB",
    "outputId": "42afeddc-07e6-4224-95ee-08b455f72475"
   },
   "outputs": [
    {
     "data": {
      "text/html": [
       "<div>\n",
       "<style scoped>\n",
       "    .dataframe tbody tr th:only-of-type {\n",
       "        vertical-align: middle;\n",
       "    }\n",
       "\n",
       "    .dataframe tbody tr th {\n",
       "        vertical-align: top;\n",
       "    }\n",
       "\n",
       "    .dataframe thead th {\n",
       "        text-align: right;\n",
       "    }\n",
       "</style>\n",
       "<table border=\"1\" class=\"dataframe\">\n",
       "  <thead>\n",
       "    <tr style=\"text-align: right;\">\n",
       "      <th></th>\n",
       "      <th>V1</th>\n",
       "      <th>V2</th>\n",
       "      <th>V3</th>\n",
       "      <th>V4</th>\n",
       "      <th>V5</th>\n",
       "      <th>V6</th>\n",
       "      <th>V7</th>\n",
       "      <th>V8</th>\n",
       "      <th>V9</th>\n",
       "      <th>V10</th>\n",
       "      <th>...</th>\n",
       "      <th>V20</th>\n",
       "      <th>V21</th>\n",
       "      <th>V22</th>\n",
       "      <th>V23</th>\n",
       "      <th>V24</th>\n",
       "      <th>V25</th>\n",
       "      <th>V26</th>\n",
       "      <th>V27</th>\n",
       "      <th>V28</th>\n",
       "      <th>Class</th>\n",
       "    </tr>\n",
       "  </thead>\n",
       "  <tbody>\n",
       "    <tr>\n",
       "      <th>0</th>\n",
       "      <td>-1.848212</td>\n",
       "      <td>2.384900</td>\n",
       "      <td>0.379573</td>\n",
       "      <td>1.048381</td>\n",
       "      <td>-0.845070</td>\n",
       "      <td>2.537837</td>\n",
       "      <td>-4.542983</td>\n",
       "      <td>-10.201458</td>\n",
       "      <td>-1.504967</td>\n",
       "      <td>-2.234167</td>\n",
       "      <td>...</td>\n",
       "      <td>2.585817</td>\n",
       "      <td>-5.291690</td>\n",
       "      <td>0.859364</td>\n",
       "      <td>0.423231</td>\n",
       "      <td>-0.506985</td>\n",
       "      <td>1.020052</td>\n",
       "      <td>-0.627751</td>\n",
       "      <td>-0.017753</td>\n",
       "      <td>0.280982</td>\n",
       "      <td>0</td>\n",
       "    </tr>\n",
       "    <tr>\n",
       "      <th>1</th>\n",
       "      <td>2.071805</td>\n",
       "      <td>-0.477943</td>\n",
       "      <td>-1.444444</td>\n",
       "      <td>-0.548657</td>\n",
       "      <td>0.010036</td>\n",
       "      <td>-0.582242</td>\n",
       "      <td>-0.042878</td>\n",
       "      <td>-0.247160</td>\n",
       "      <td>1.171923</td>\n",
       "      <td>-0.342382</td>\n",
       "      <td>...</td>\n",
       "      <td>-0.077306</td>\n",
       "      <td>0.042858</td>\n",
       "      <td>0.390125</td>\n",
       "      <td>0.041569</td>\n",
       "      <td>0.598427</td>\n",
       "      <td>0.098803</td>\n",
       "      <td>0.979686</td>\n",
       "      <td>-0.093244</td>\n",
       "      <td>-0.065615</td>\n",
       "      <td>0</td>\n",
       "    </tr>\n",
       "    <tr>\n",
       "      <th>2</th>\n",
       "      <td>-2.985294</td>\n",
       "      <td>-2.747472</td>\n",
       "      <td>1.194068</td>\n",
       "      <td>-0.003036</td>\n",
       "      <td>-1.151041</td>\n",
       "      <td>-0.263559</td>\n",
       "      <td>0.553500</td>\n",
       "      <td>0.635600</td>\n",
       "      <td>0.438545</td>\n",
       "      <td>-1.806488</td>\n",
       "      <td>...</td>\n",
       "      <td>1.345776</td>\n",
       "      <td>0.373760</td>\n",
       "      <td>-0.385777</td>\n",
       "      <td>1.197596</td>\n",
       "      <td>0.407229</td>\n",
       "      <td>0.008013</td>\n",
       "      <td>0.762362</td>\n",
       "      <td>-0.299024</td>\n",
       "      <td>-0.303929</td>\n",
       "      <td>0</td>\n",
       "    </tr>\n",
       "    <tr>\n",
       "      <th>3</th>\n",
       "      <td>-1.479452</td>\n",
       "      <td>1.542874</td>\n",
       "      <td>0.290895</td>\n",
       "      <td>0.838142</td>\n",
       "      <td>-0.529290</td>\n",
       "      <td>-0.717661</td>\n",
       "      <td>0.484516</td>\n",
       "      <td>0.545092</td>\n",
       "      <td>-0.780767</td>\n",
       "      <td>0.324804</td>\n",
       "      <td>...</td>\n",
       "      <td>0.038397</td>\n",
       "      <td>0.116771</td>\n",
       "      <td>0.405560</td>\n",
       "      <td>-0.116453</td>\n",
       "      <td>0.541275</td>\n",
       "      <td>-0.216665</td>\n",
       "      <td>-0.415578</td>\n",
       "      <td>0.027126</td>\n",
       "      <td>-0.150347</td>\n",
       "      <td>0</td>\n",
       "    </tr>\n",
       "    <tr>\n",
       "      <th>4</th>\n",
       "      <td>-0.281976</td>\n",
       "      <td>-0.309699</td>\n",
       "      <td>-2.162299</td>\n",
       "      <td>-0.851514</td>\n",
       "      <td>0.106167</td>\n",
       "      <td>-1.483888</td>\n",
       "      <td>1.930994</td>\n",
       "      <td>-0.843049</td>\n",
       "      <td>-1.249272</td>\n",
       "      <td>1.079608</td>\n",
       "      <td>...</td>\n",
       "      <td>-0.875516</td>\n",
       "      <td>-0.004199</td>\n",
       "      <td>1.015108</td>\n",
       "      <td>-0.026748</td>\n",
       "      <td>0.077115</td>\n",
       "      <td>-1.468822</td>\n",
       "      <td>0.751700</td>\n",
       "      <td>0.496732</td>\n",
       "      <td>0.331001</td>\n",
       "      <td>0</td>\n",
       "    </tr>\n",
       "  </tbody>\n",
       "</table>\n",
       "<p>5 rows × 29 columns</p>\n",
       "</div>"
      ],
      "text/plain": [
       "         V1        V2        V3        V4        V5        V6        V7  \\\n",
       "0 -1.848212  2.384900  0.379573  1.048381 -0.845070  2.537837 -4.542983   \n",
       "1  2.071805 -0.477943 -1.444444 -0.548657  0.010036 -0.582242 -0.042878   \n",
       "2 -2.985294 -2.747472  1.194068 -0.003036 -1.151041 -0.263559  0.553500   \n",
       "3 -1.479452  1.542874  0.290895  0.838142 -0.529290 -0.717661  0.484516   \n",
       "4 -0.281976 -0.309699 -2.162299 -0.851514  0.106167 -1.483888  1.930994   \n",
       "\n",
       "          V8        V9       V10  ...       V20       V21       V22       V23  \\\n",
       "0 -10.201458 -1.504967 -2.234167  ...  2.585817 -5.291690  0.859364  0.423231   \n",
       "1  -0.247160  1.171923 -0.342382  ... -0.077306  0.042858  0.390125  0.041569   \n",
       "2   0.635600  0.438545 -1.806488  ...  1.345776  0.373760 -0.385777  1.197596   \n",
       "3   0.545092 -0.780767  0.324804  ...  0.038397  0.116771  0.405560 -0.116453   \n",
       "4  -0.843049 -1.249272  1.079608  ... -0.875516 -0.004199  1.015108 -0.026748   \n",
       "\n",
       "        V24       V25       V26       V27       V28  Class  \n",
       "0 -0.506985  1.020052 -0.627751 -0.017753  0.280982      0  \n",
       "1  0.598427  0.098803  0.979686 -0.093244 -0.065615      0  \n",
       "2  0.407229  0.008013  0.762362 -0.299024 -0.303929      0  \n",
       "3  0.541275 -0.216665 -0.415578  0.027126 -0.150347      0  \n",
       "4  0.077115 -1.468822  0.751700  0.496732  0.331001      0  \n",
       "\n",
       "[5 rows x 29 columns]"
      ]
     },
     "execution_count": 38,
     "metadata": {},
     "output_type": "execute_result"
    }
   ],
   "source": [
    "data.head()"
   ]
  },
  {
   "cell_type": "markdown",
   "metadata": {},
   "source": [
    "## EDA"
   ]
  },
  {
   "cell_type": "code",
   "execution_count": 39,
   "metadata": {},
   "outputs": [
    {
     "data": {
      "text/plain": [
       "V1       0\n",
       "V2       0\n",
       "V3       0\n",
       "V4       0\n",
       "V5       0\n",
       "V6       0\n",
       "V7       0\n",
       "V8       0\n",
       "V9       0\n",
       "V10      0\n",
       "V11      0\n",
       "V12      0\n",
       "V13      0\n",
       "V14      0\n",
       "V15      0\n",
       "V16      0\n",
       "V17      0\n",
       "V18      0\n",
       "V19      0\n",
       "V20      0\n",
       "V21      0\n",
       "V22      0\n",
       "V23      0\n",
       "V24      0\n",
       "V25      0\n",
       "V26      0\n",
       "V27      0\n",
       "V28      0\n",
       "Class    0\n",
       "dtype: int64"
      ]
     },
     "execution_count": 39,
     "metadata": {},
     "output_type": "execute_result"
    }
   ],
   "source": [
    "data.isnull().sum()"
   ]
  },
  {
   "cell_type": "markdown",
   "metadata": {},
   "source": [
    "결측치는 없음."
   ]
  },
  {
   "cell_type": "code",
   "execution_count": 40,
   "metadata": {},
   "outputs": [
    {
     "data": {
      "text/plain": [
       "(28678, 29)"
      ]
     },
     "execution_count": 40,
     "metadata": {},
     "output_type": "execute_result"
    }
   ],
   "source": [
    "data.shape"
   ]
  },
  {
   "cell_type": "code",
   "execution_count": 41,
   "metadata": {},
   "outputs": [
    {
     "data": {
      "text/html": [
       "<div>\n",
       "<style scoped>\n",
       "    .dataframe tbody tr th:only-of-type {\n",
       "        vertical-align: middle;\n",
       "    }\n",
       "\n",
       "    .dataframe tbody tr th {\n",
       "        vertical-align: top;\n",
       "    }\n",
       "\n",
       "    .dataframe thead th {\n",
       "        text-align: right;\n",
       "    }\n",
       "</style>\n",
       "<table border=\"1\" class=\"dataframe\">\n",
       "  <thead>\n",
       "    <tr style=\"text-align: right;\">\n",
       "      <th></th>\n",
       "      <th>Target</th>\n",
       "      <th>Count</th>\n",
       "      <th>Percent(%)</th>\n",
       "    </tr>\n",
       "  </thead>\n",
       "  <tbody>\n",
       "    <tr>\n",
       "      <th>0</th>\n",
       "      <td>0</td>\n",
       "      <td>28432</td>\n",
       "      <td>99.14</td>\n",
       "    </tr>\n",
       "    <tr>\n",
       "      <th>1</th>\n",
       "      <td>1</td>\n",
       "      <td>246</td>\n",
       "      <td>0.86</td>\n",
       "    </tr>\n",
       "  </tbody>\n",
       "</table>\n",
       "</div>"
      ],
      "text/plain": [
       "   Target  Count  Percent(%)\n",
       "0       0  28432       99.14\n",
       "1       1    246        0.86"
      ]
     },
     "execution_count": 41,
     "metadata": {},
     "output_type": "execute_result"
    }
   ],
   "source": [
    "tmp = data['Class'].value_counts().to_frame().reset_index()\n",
    "tmp['Percent(%)'] = tmp[\"Class\"].apply(lambda x : round(100*float(x) / len(data), 2))\n",
    "tmp = tmp.rename(columns = {\"index\" : \"Target\", \"Class\" : \"Count\"})\n",
    "\n",
    "tmp"
   ]
  },
  {
   "cell_type": "markdown",
   "metadata": {},
   "source": [
    "총 28,678 건의 데이터 중 246건만이 사기 거래 데이터임을 알 수 있음. \n",
    "\n",
    "이는 사기 거래가 정상 거래에 비해 매우 적은 **'Highly unbalanced'**한 특징을 가진 데이터셋임.\n",
    "\n",
    "이 데이터를 예측 모델 및 분석의 기반으로 사용하면 오류가 많이 발생할 수 있으며 대부분의 트랜잭션이 부정 행위가 아니라고 '가정'하기 때문에 알고리즘이 지나치게 적합할 수 있음.\n",
    "\n",
    "따라서, 정확도를 기준으로 모델 평기지표를 사용하기보다는 `정밀도`, `재현율` 등의 지표를 개선하고자 함."
   ]
  },
  {
   "cell_type": "markdown",
   "metadata": {},
   "source": [
    "## Data Engneering"
   ]
  },
  {
   "cell_type": "code",
   "execution_count": 42,
   "metadata": {},
   "outputs": [
    {
     "data": {
      "text/html": [
       "<div>\n",
       "<style scoped>\n",
       "    .dataframe tbody tr th:only-of-type {\n",
       "        vertical-align: middle;\n",
       "    }\n",
       "\n",
       "    .dataframe tbody tr th {\n",
       "        vertical-align: top;\n",
       "    }\n",
       "\n",
       "    .dataframe thead th {\n",
       "        text-align: right;\n",
       "    }\n",
       "</style>\n",
       "<table border=\"1\" class=\"dataframe\">\n",
       "  <thead>\n",
       "    <tr style=\"text-align: right;\">\n",
       "      <th></th>\n",
       "      <th>V1</th>\n",
       "      <th>V2</th>\n",
       "      <th>V3</th>\n",
       "      <th>V4</th>\n",
       "      <th>V5</th>\n",
       "      <th>V6</th>\n",
       "      <th>V7</th>\n",
       "      <th>V8</th>\n",
       "      <th>V9</th>\n",
       "      <th>V10</th>\n",
       "      <th>...</th>\n",
       "      <th>V20</th>\n",
       "      <th>V21</th>\n",
       "      <th>V22</th>\n",
       "      <th>V23</th>\n",
       "      <th>V24</th>\n",
       "      <th>V25</th>\n",
       "      <th>V26</th>\n",
       "      <th>V27</th>\n",
       "      <th>V28</th>\n",
       "      <th>Class</th>\n",
       "    </tr>\n",
       "  </thead>\n",
       "  <tbody>\n",
       "    <tr>\n",
       "      <th>count</th>\n",
       "      <td>28678.000000</td>\n",
       "      <td>28678.000000</td>\n",
       "      <td>28678.000000</td>\n",
       "      <td>28678.000000</td>\n",
       "      <td>28678.000000</td>\n",
       "      <td>28678.000000</td>\n",
       "      <td>28678.000000</td>\n",
       "      <td>28678.000000</td>\n",
       "      <td>28678.000000</td>\n",
       "      <td>28678.000000</td>\n",
       "      <td>...</td>\n",
       "      <td>28678.000000</td>\n",
       "      <td>28678.000000</td>\n",
       "      <td>28678.000000</td>\n",
       "      <td>28678.000000</td>\n",
       "      <td>28678.000000</td>\n",
       "      <td>28678.000000</td>\n",
       "      <td>28678.000000</td>\n",
       "      <td>28678.000000</td>\n",
       "      <td>28678.000000</td>\n",
       "      <td>28678.000000</td>\n",
       "    </tr>\n",
       "    <tr>\n",
       "      <th>mean</th>\n",
       "      <td>-0.015438</td>\n",
       "      <td>0.053653</td>\n",
       "      <td>-0.046031</td>\n",
       "      <td>0.037348</td>\n",
       "      <td>-0.033724</td>\n",
       "      <td>-0.003299</td>\n",
       "      <td>-0.051054</td>\n",
       "      <td>0.006064</td>\n",
       "      <td>-0.018530</td>\n",
       "      <td>-0.041149</td>\n",
       "      <td>...</td>\n",
       "      <td>0.002633</td>\n",
       "      <td>0.010289</td>\n",
       "      <td>-0.000656</td>\n",
       "      <td>-0.004800</td>\n",
       "      <td>-0.000897</td>\n",
       "      <td>-0.001989</td>\n",
       "      <td>-0.000765</td>\n",
       "      <td>0.000948</td>\n",
       "      <td>0.001535</td>\n",
       "      <td>0.008578</td>\n",
       "    </tr>\n",
       "    <tr>\n",
       "      <th>std</th>\n",
       "      <td>2.031529</td>\n",
       "      <td>1.616186</td>\n",
       "      <td>1.758169</td>\n",
       "      <td>1.482109</td>\n",
       "      <td>1.486998</td>\n",
       "      <td>1.339259</td>\n",
       "      <td>1.454827</td>\n",
       "      <td>1.364342</td>\n",
       "      <td>1.134065</td>\n",
       "      <td>1.252593</td>\n",
       "      <td>...</td>\n",
       "      <td>0.720307</td>\n",
       "      <td>0.847152</td>\n",
       "      <td>0.739469</td>\n",
       "      <td>0.593663</td>\n",
       "      <td>0.603349</td>\n",
       "      <td>0.517968</td>\n",
       "      <td>0.483852</td>\n",
       "      <td>0.397075</td>\n",
       "      <td>0.296736</td>\n",
       "      <td>0.092221</td>\n",
       "    </tr>\n",
       "    <tr>\n",
       "      <th>min</th>\n",
       "      <td>-30.552380</td>\n",
       "      <td>-42.172688</td>\n",
       "      <td>-31.103685</td>\n",
       "      <td>-5.560118</td>\n",
       "      <td>-42.147898</td>\n",
       "      <td>-21.929312</td>\n",
       "      <td>-41.506796</td>\n",
       "      <td>-39.267378</td>\n",
       "      <td>-13.434066</td>\n",
       "      <td>-24.403185</td>\n",
       "      <td>...</td>\n",
       "      <td>-21.387122</td>\n",
       "      <td>-21.453736</td>\n",
       "      <td>-8.887017</td>\n",
       "      <td>-36.666000</td>\n",
       "      <td>-2.718024</td>\n",
       "      <td>-6.712624</td>\n",
       "      <td>-2.241620</td>\n",
       "      <td>-7.418878</td>\n",
       "      <td>-9.617915</td>\n",
       "      <td>0.000000</td>\n",
       "    </tr>\n",
       "    <tr>\n",
       "      <th>25%</th>\n",
       "      <td>-0.916927</td>\n",
       "      <td>-0.575381</td>\n",
       "      <td>-0.899872</td>\n",
       "      <td>-0.843321</td>\n",
       "      <td>-0.714901</td>\n",
       "      <td>-0.763757</td>\n",
       "      <td>-0.568146</td>\n",
       "      <td>-0.206103</td>\n",
       "      <td>-0.661909</td>\n",
       "      <td>-0.543450</td>\n",
       "      <td>...</td>\n",
       "      <td>-0.209678</td>\n",
       "      <td>-0.225520</td>\n",
       "      <td>-0.539244</td>\n",
       "      <td>-0.160583</td>\n",
       "      <td>-0.356047</td>\n",
       "      <td>-0.318619</td>\n",
       "      <td>-0.327343</td>\n",
       "      <td>-0.070558</td>\n",
       "      <td>-0.052189</td>\n",
       "      <td>0.000000</td>\n",
       "    </tr>\n",
       "    <tr>\n",
       "      <th>50%</th>\n",
       "      <td>0.020050</td>\n",
       "      <td>0.075358</td>\n",
       "      <td>0.180610</td>\n",
       "      <td>-0.008844</td>\n",
       "      <td>-0.060040</td>\n",
       "      <td>-0.271363</td>\n",
       "      <td>0.036107</td>\n",
       "      <td>0.022463</td>\n",
       "      <td>-0.055095</td>\n",
       "      <td>-0.097390</td>\n",
       "      <td>...</td>\n",
       "      <td>-0.062792</td>\n",
       "      <td>-0.028778</td>\n",
       "      <td>0.007302</td>\n",
       "      <td>-0.011199</td>\n",
       "      <td>0.040006</td>\n",
       "      <td>0.019770</td>\n",
       "      <td>-0.056260</td>\n",
       "      <td>0.002049</td>\n",
       "      <td>0.011075</td>\n",
       "      <td>0.000000</td>\n",
       "    </tr>\n",
       "    <tr>\n",
       "      <th>75%</th>\n",
       "      <td>1.317461</td>\n",
       "      <td>0.806957</td>\n",
       "      <td>1.029928</td>\n",
       "      <td>0.771958</td>\n",
       "      <td>0.613328</td>\n",
       "      <td>0.397269</td>\n",
       "      <td>0.559409</td>\n",
       "      <td>0.329606</td>\n",
       "      <td>0.605704</td>\n",
       "      <td>0.460681</td>\n",
       "      <td>...</td>\n",
       "      <td>0.131199</td>\n",
       "      <td>0.184312</td>\n",
       "      <td>0.526358</td>\n",
       "      <td>0.146835</td>\n",
       "      <td>0.437146</td>\n",
       "      <td>0.352717</td>\n",
       "      <td>0.240713</td>\n",
       "      <td>0.091637</td>\n",
       "      <td>0.078911</td>\n",
       "      <td>0.000000</td>\n",
       "    </tr>\n",
       "    <tr>\n",
       "      <th>max</th>\n",
       "      <td>2.399484</td>\n",
       "      <td>21.467203</td>\n",
       "      <td>4.069865</td>\n",
       "      <td>11.927512</td>\n",
       "      <td>32.911462</td>\n",
       "      <td>22.529298</td>\n",
       "      <td>36.677268</td>\n",
       "      <td>20.007208</td>\n",
       "      <td>8.113152</td>\n",
       "      <td>15.236028</td>\n",
       "      <td>...</td>\n",
       "      <td>26.237391</td>\n",
       "      <td>27.202839</td>\n",
       "      <td>8.361985</td>\n",
       "      <td>9.637187</td>\n",
       "      <td>3.948061</td>\n",
       "      <td>2.510401</td>\n",
       "      <td>3.122747</td>\n",
       "      <td>11.135740</td>\n",
       "      <td>14.929133</td>\n",
       "      <td>1.000000</td>\n",
       "    </tr>\n",
       "  </tbody>\n",
       "</table>\n",
       "<p>8 rows × 29 columns</p>\n",
       "</div>"
      ],
      "text/plain": [
       "                 V1            V2            V3            V4            V5  \\\n",
       "count  28678.000000  28678.000000  28678.000000  28678.000000  28678.000000   \n",
       "mean      -0.015438      0.053653     -0.046031      0.037348     -0.033724   \n",
       "std        2.031529      1.616186      1.758169      1.482109      1.486998   \n",
       "min      -30.552380    -42.172688    -31.103685     -5.560118    -42.147898   \n",
       "25%       -0.916927     -0.575381     -0.899872     -0.843321     -0.714901   \n",
       "50%        0.020050      0.075358      0.180610     -0.008844     -0.060040   \n",
       "75%        1.317461      0.806957      1.029928      0.771958      0.613328   \n",
       "max        2.399484     21.467203      4.069865     11.927512     32.911462   \n",
       "\n",
       "                 V6            V7            V8            V9           V10  \\\n",
       "count  28678.000000  28678.000000  28678.000000  28678.000000  28678.000000   \n",
       "mean      -0.003299     -0.051054      0.006064     -0.018530     -0.041149   \n",
       "std        1.339259      1.454827      1.364342      1.134065      1.252593   \n",
       "min      -21.929312    -41.506796    -39.267378    -13.434066    -24.403185   \n",
       "25%       -0.763757     -0.568146     -0.206103     -0.661909     -0.543450   \n",
       "50%       -0.271363      0.036107      0.022463     -0.055095     -0.097390   \n",
       "75%        0.397269      0.559409      0.329606      0.605704      0.460681   \n",
       "max       22.529298     36.677268     20.007208      8.113152     15.236028   \n",
       "\n",
       "       ...           V20           V21           V22           V23  \\\n",
       "count  ...  28678.000000  28678.000000  28678.000000  28678.000000   \n",
       "mean   ...      0.002633      0.010289     -0.000656     -0.004800   \n",
       "std    ...      0.720307      0.847152      0.739469      0.593663   \n",
       "min    ...    -21.387122    -21.453736     -8.887017    -36.666000   \n",
       "25%    ...     -0.209678     -0.225520     -0.539244     -0.160583   \n",
       "50%    ...     -0.062792     -0.028778      0.007302     -0.011199   \n",
       "75%    ...      0.131199      0.184312      0.526358      0.146835   \n",
       "max    ...     26.237391     27.202839      8.361985      9.637187   \n",
       "\n",
       "                V24           V25           V26           V27           V28  \\\n",
       "count  28678.000000  28678.000000  28678.000000  28678.000000  28678.000000   \n",
       "mean      -0.000897     -0.001989     -0.000765      0.000948      0.001535   \n",
       "std        0.603349      0.517968      0.483852      0.397075      0.296736   \n",
       "min       -2.718024     -6.712624     -2.241620     -7.418878     -9.617915   \n",
       "25%       -0.356047     -0.318619     -0.327343     -0.070558     -0.052189   \n",
       "50%        0.040006      0.019770     -0.056260      0.002049      0.011075   \n",
       "75%        0.437146      0.352717      0.240713      0.091637      0.078911   \n",
       "max        3.948061      2.510401      3.122747     11.135740     14.929133   \n",
       "\n",
       "              Class  \n",
       "count  28678.000000  \n",
       "mean       0.008578  \n",
       "std        0.092221  \n",
       "min        0.000000  \n",
       "25%        0.000000  \n",
       "50%        0.000000  \n",
       "75%        0.000000  \n",
       "max        1.000000  \n",
       "\n",
       "[8 rows x 29 columns]"
      ]
     },
     "execution_count": 42,
     "metadata": {},
     "output_type": "execute_result"
    }
   ],
   "source": [
    "data.describe()"
   ]
  },
  {
   "cell_type": "markdown",
   "metadata": {},
   "source": [
    "비식별화 된 개인정보들의 분포가 일정하지 않음. \n",
    "\n",
    "따라서 scaling이 필요하며 Minmax Scaler를 이용함."
   ]
  },
  {
   "cell_type": "code",
   "execution_count": 43,
   "metadata": {},
   "outputs": [],
   "source": [
    "features = data.iloc[:, :-1]\n",
    "target = data.iloc[:, -1]"
   ]
  },
  {
   "cell_type": "code",
   "execution_count": 44,
   "metadata": {},
   "outputs": [],
   "source": [
    "from sklearn.preprocessing import MinMaxScaler\n",
    "\n",
    "scaler = MinMaxScaler()\n",
    "\n",
    "s_features = pd.DataFrame(scaler.fit_transform(features), columns = features.columns)"
   ]
  },
  {
   "cell_type": "code",
   "execution_count": 45,
   "metadata": {},
   "outputs": [
    {
     "data": {
      "text/html": [
       "<div>\n",
       "<style scoped>\n",
       "    .dataframe tbody tr th:only-of-type {\n",
       "        vertical-align: middle;\n",
       "    }\n",
       "\n",
       "    .dataframe tbody tr th {\n",
       "        vertical-align: top;\n",
       "    }\n",
       "\n",
       "    .dataframe thead th {\n",
       "        text-align: right;\n",
       "    }\n",
       "</style>\n",
       "<table border=\"1\" class=\"dataframe\">\n",
       "  <thead>\n",
       "    <tr style=\"text-align: right;\">\n",
       "      <th></th>\n",
       "      <th>V1</th>\n",
       "      <th>V2</th>\n",
       "      <th>V3</th>\n",
       "      <th>V4</th>\n",
       "      <th>V5</th>\n",
       "      <th>V6</th>\n",
       "      <th>V7</th>\n",
       "      <th>V8</th>\n",
       "      <th>V9</th>\n",
       "      <th>V10</th>\n",
       "      <th>...</th>\n",
       "      <th>V19</th>\n",
       "      <th>V20</th>\n",
       "      <th>V21</th>\n",
       "      <th>V22</th>\n",
       "      <th>V23</th>\n",
       "      <th>V24</th>\n",
       "      <th>V25</th>\n",
       "      <th>V26</th>\n",
       "      <th>V27</th>\n",
       "      <th>V28</th>\n",
       "    </tr>\n",
       "  </thead>\n",
       "  <tbody>\n",
       "    <tr>\n",
       "      <th>count</th>\n",
       "      <td>28678.000000</td>\n",
       "      <td>28678.000000</td>\n",
       "      <td>28678.000000</td>\n",
       "      <td>28678.000000</td>\n",
       "      <td>28678.000000</td>\n",
       "      <td>28678.000000</td>\n",
       "      <td>28678.000000</td>\n",
       "      <td>28678.000000</td>\n",
       "      <td>28678.000000</td>\n",
       "      <td>28678.000000</td>\n",
       "      <td>...</td>\n",
       "      <td>28678.000000</td>\n",
       "      <td>28678.000000</td>\n",
       "      <td>28678.000000</td>\n",
       "      <td>28678.000000</td>\n",
       "      <td>28678.000000</td>\n",
       "      <td>28678.000000</td>\n",
       "      <td>28678.000000</td>\n",
       "      <td>28678.000000</td>\n",
       "      <td>28678.000000</td>\n",
       "      <td>28678.000000</td>\n",
       "    </tr>\n",
       "    <tr>\n",
       "      <th>mean</th>\n",
       "      <td>0.926714</td>\n",
       "      <td>0.663520</td>\n",
       "      <td>0.882983</td>\n",
       "      <td>0.320081</td>\n",
       "      <td>0.561078</td>\n",
       "      <td>0.493178</td>\n",
       "      <td>0.530233</td>\n",
       "      <td>0.662568</td>\n",
       "      <td>0.622611</td>\n",
       "      <td>0.614594</td>\n",
       "      <td>...</td>\n",
       "      <td>0.469792</td>\n",
       "      <td>0.449133</td>\n",
       "      <td>0.441133</td>\n",
       "      <td>0.515181</td>\n",
       "      <td>0.791764</td>\n",
       "      <td>0.407605</td>\n",
       "      <td>0.727596</td>\n",
       "      <td>0.417730</td>\n",
       "      <td>0.399891</td>\n",
       "      <td>0.391878</td>\n",
       "    </tr>\n",
       "    <tr>\n",
       "      <th>std</th>\n",
       "      <td>0.061651</td>\n",
       "      <td>0.025396</td>\n",
       "      <td>0.049986</td>\n",
       "      <td>0.084752</td>\n",
       "      <td>0.019811</td>\n",
       "      <td>0.030124</td>\n",
       "      <td>0.018608</td>\n",
       "      <td>0.023017</td>\n",
       "      <td>0.052632</td>\n",
       "      <td>0.031600</td>\n",
       "      <td>...</td>\n",
       "      <td>0.084024</td>\n",
       "      <td>0.015125</td>\n",
       "      <td>0.017411</td>\n",
       "      <td>0.042870</td>\n",
       "      <td>0.012821</td>\n",
       "      <td>0.090510</td>\n",
       "      <td>0.056160</td>\n",
       "      <td>0.090197</td>\n",
       "      <td>0.021400</td>\n",
       "      <td>0.012088</td>\n",
       "    </tr>\n",
       "    <tr>\n",
       "      <th>min</th>\n",
       "      <td>0.000000</td>\n",
       "      <td>0.000000</td>\n",
       "      <td>0.000000</td>\n",
       "      <td>0.000000</td>\n",
       "      <td>0.000000</td>\n",
       "      <td>0.000000</td>\n",
       "      <td>0.000000</td>\n",
       "      <td>0.000000</td>\n",
       "      <td>0.000000</td>\n",
       "      <td>0.000000</td>\n",
       "      <td>...</td>\n",
       "      <td>0.000000</td>\n",
       "      <td>0.000000</td>\n",
       "      <td>0.000000</td>\n",
       "      <td>0.000000</td>\n",
       "      <td>0.000000</td>\n",
       "      <td>0.000000</td>\n",
       "      <td>0.000000</td>\n",
       "      <td>0.000000</td>\n",
       "      <td>0.000000</td>\n",
       "      <td>0.000000</td>\n",
       "    </tr>\n",
       "    <tr>\n",
       "      <th>25%</th>\n",
       "      <td>0.899356</td>\n",
       "      <td>0.653636</td>\n",
       "      <td>0.858708</td>\n",
       "      <td>0.269722</td>\n",
       "      <td>0.552003</td>\n",
       "      <td>0.476073</td>\n",
       "      <td>0.523619</td>\n",
       "      <td>0.658989</td>\n",
       "      <td>0.592752</td>\n",
       "      <td>0.601923</td>\n",
       "      <td>...</td>\n",
       "      <td>0.422444</td>\n",
       "      <td>0.444675</td>\n",
       "      <td>0.436287</td>\n",
       "      <td>0.483957</td>\n",
       "      <td>0.788400</td>\n",
       "      <td>0.354327</td>\n",
       "      <td>0.693265</td>\n",
       "      <td>0.356851</td>\n",
       "      <td>0.396037</td>\n",
       "      <td>0.389689</td>\n",
       "    </tr>\n",
       "    <tr>\n",
       "      <th>50%</th>\n",
       "      <td>0.927791</td>\n",
       "      <td>0.663861</td>\n",
       "      <td>0.889427</td>\n",
       "      <td>0.317440</td>\n",
       "      <td>0.560728</td>\n",
       "      <td>0.487149</td>\n",
       "      <td>0.531347</td>\n",
       "      <td>0.662845</td>\n",
       "      <td>0.620914</td>\n",
       "      <td>0.613176</td>\n",
       "      <td>...</td>\n",
       "      <td>0.469277</td>\n",
       "      <td>0.447760</td>\n",
       "      <td>0.440330</td>\n",
       "      <td>0.515643</td>\n",
       "      <td>0.791626</td>\n",
       "      <td>0.413741</td>\n",
       "      <td>0.729955</td>\n",
       "      <td>0.407385</td>\n",
       "      <td>0.399950</td>\n",
       "      <td>0.392267</td>\n",
       "    </tr>\n",
       "    <tr>\n",
       "      <th>75%</th>\n",
       "      <td>0.967164</td>\n",
       "      <td>0.675357</td>\n",
       "      <td>0.913573</td>\n",
       "      <td>0.362089</td>\n",
       "      <td>0.569699</td>\n",
       "      <td>0.502188</td>\n",
       "      <td>0.538041</td>\n",
       "      <td>0.668026</td>\n",
       "      <td>0.651582</td>\n",
       "      <td>0.627254</td>\n",
       "      <td>...</td>\n",
       "      <td>0.516566</td>\n",
       "      <td>0.451833</td>\n",
       "      <td>0.444710</td>\n",
       "      <td>0.545734</td>\n",
       "      <td>0.795039</td>\n",
       "      <td>0.473317</td>\n",
       "      <td>0.766055</td>\n",
       "      <td>0.462745</td>\n",
       "      <td>0.404779</td>\n",
       "      <td>0.395030</td>\n",
       "    </tr>\n",
       "    <tr>\n",
       "      <th>max</th>\n",
       "      <td>1.000000</td>\n",
       "      <td>1.000000</td>\n",
       "      <td>1.000000</td>\n",
       "      <td>1.000000</td>\n",
       "      <td>1.000000</td>\n",
       "      <td>1.000000</td>\n",
       "      <td>1.000000</td>\n",
       "      <td>1.000000</td>\n",
       "      <td>1.000000</td>\n",
       "      <td>1.000000</td>\n",
       "      <td>...</td>\n",
       "      <td>1.000000</td>\n",
       "      <td>1.000000</td>\n",
       "      <td>1.000000</td>\n",
       "      <td>1.000000</td>\n",
       "      <td>1.000000</td>\n",
       "      <td>1.000000</td>\n",
       "      <td>1.000000</td>\n",
       "      <td>1.000000</td>\n",
       "      <td>1.000000</td>\n",
       "      <td>1.000000</td>\n",
       "    </tr>\n",
       "  </tbody>\n",
       "</table>\n",
       "<p>8 rows × 28 columns</p>\n",
       "</div>"
      ],
      "text/plain": [
       "                 V1            V2            V3            V4            V5  \\\n",
       "count  28678.000000  28678.000000  28678.000000  28678.000000  28678.000000   \n",
       "mean       0.926714      0.663520      0.882983      0.320081      0.561078   \n",
       "std        0.061651      0.025396      0.049986      0.084752      0.019811   \n",
       "min        0.000000      0.000000      0.000000      0.000000      0.000000   \n",
       "25%        0.899356      0.653636      0.858708      0.269722      0.552003   \n",
       "50%        0.927791      0.663861      0.889427      0.317440      0.560728   \n",
       "75%        0.967164      0.675357      0.913573      0.362089      0.569699   \n",
       "max        1.000000      1.000000      1.000000      1.000000      1.000000   \n",
       "\n",
       "                 V6            V7            V8            V9           V10  \\\n",
       "count  28678.000000  28678.000000  28678.000000  28678.000000  28678.000000   \n",
       "mean       0.493178      0.530233      0.662568      0.622611      0.614594   \n",
       "std        0.030124      0.018608      0.023017      0.052632      0.031600   \n",
       "min        0.000000      0.000000      0.000000      0.000000      0.000000   \n",
       "25%        0.476073      0.523619      0.658989      0.592752      0.601923   \n",
       "50%        0.487149      0.531347      0.662845      0.620914      0.613176   \n",
       "75%        0.502188      0.538041      0.668026      0.651582      0.627254   \n",
       "max        1.000000      1.000000      1.000000      1.000000      1.000000   \n",
       "\n",
       "       ...           V19           V20           V21           V22  \\\n",
       "count  ...  28678.000000  28678.000000  28678.000000  28678.000000   \n",
       "mean   ...      0.469792      0.449133      0.441133      0.515181   \n",
       "std    ...      0.084024      0.015125      0.017411      0.042870   \n",
       "min    ...      0.000000      0.000000      0.000000      0.000000   \n",
       "25%    ...      0.422444      0.444675      0.436287      0.483957   \n",
       "50%    ...      0.469277      0.447760      0.440330      0.515643   \n",
       "75%    ...      0.516566      0.451833      0.444710      0.545734   \n",
       "max    ...      1.000000      1.000000      1.000000      1.000000   \n",
       "\n",
       "                V23           V24           V25           V26           V27  \\\n",
       "count  28678.000000  28678.000000  28678.000000  28678.000000  28678.000000   \n",
       "mean       0.791764      0.407605      0.727596      0.417730      0.399891   \n",
       "std        0.012821      0.090510      0.056160      0.090197      0.021400   \n",
       "min        0.000000      0.000000      0.000000      0.000000      0.000000   \n",
       "25%        0.788400      0.354327      0.693265      0.356851      0.396037   \n",
       "50%        0.791626      0.413741      0.729955      0.407385      0.399950   \n",
       "75%        0.795039      0.473317      0.766055      0.462745      0.404779   \n",
       "max        1.000000      1.000000      1.000000      1.000000      1.000000   \n",
       "\n",
       "                V28  \n",
       "count  28678.000000  \n",
       "mean       0.391878  \n",
       "std        0.012088  \n",
       "min        0.000000  \n",
       "25%        0.389689  \n",
       "50%        0.392267  \n",
       "75%        0.395030  \n",
       "max        1.000000  \n",
       "\n",
       "[8 rows x 28 columns]"
      ]
     },
     "execution_count": 45,
     "metadata": {},
     "output_type": "execute_result"
    }
   ],
   "source": [
    "s_features.describe()"
   ]
  },
  {
   "cell_type": "code",
   "execution_count": 46,
   "metadata": {},
   "outputs": [],
   "source": [
    "from sklearn.linear_model import LogisticRegression\n",
    "from sklearn.model_selection import train_test_split\n",
    "from sklearn.metrics import *"
   ]
  },
  {
   "cell_type": "code",
   "execution_count": 47,
   "metadata": {},
   "outputs": [
    {
     "name": "stdout",
     "output_type": "stream",
     "text": [
      "(22942, 28) (5736, 28) (22942,) (5736,)\n"
     ]
    }
   ],
   "source": [
    "X_train, X_test, y_train, y_test = train_test_split(s_features, target, test_size=0.2, random_state=10, stratify=target)\n",
    "\n",
    "print(X_train.shape, X_test.shape, y_train.shape, y_test.shape)"
   ]
  },
  {
   "cell_type": "code",
   "execution_count": 48,
   "metadata": {},
   "outputs": [
    {
     "data": {
      "text/html": [
       "<div>\n",
       "<style scoped>\n",
       "    .dataframe tbody tr th:only-of-type {\n",
       "        vertical-align: middle;\n",
       "    }\n",
       "\n",
       "    .dataframe tbody tr th {\n",
       "        vertical-align: top;\n",
       "    }\n",
       "\n",
       "    .dataframe thead th {\n",
       "        text-align: right;\n",
       "    }\n",
       "</style>\n",
       "<table border=\"1\" class=\"dataframe\">\n",
       "  <thead>\n",
       "    <tr style=\"text-align: right;\">\n",
       "      <th></th>\n",
       "      <th>train</th>\n",
       "      <th>test</th>\n",
       "    </tr>\n",
       "  </thead>\n",
       "  <tbody>\n",
       "    <tr>\n",
       "      <th>0 (non-fraud)</th>\n",
       "      <td>22745</td>\n",
       "      <td>5687</td>\n",
       "    </tr>\n",
       "    <tr>\n",
       "      <th>1 (fraud)</th>\n",
       "      <td>197</td>\n",
       "      <td>49</td>\n",
       "    </tr>\n",
       "  </tbody>\n",
       "</table>\n",
       "</div>"
      ],
      "text/plain": [
       "               train  test\n",
       "0 (non-fraud)  22745  5687\n",
       "1 (fraud)        197    49"
      ]
     },
     "execution_count": 48,
     "metadata": {},
     "output_type": "execute_result"
    }
   ],
   "source": [
    "pd.DataFrame([[sum(y_train == 0), sum(y_test == 0)], [sum(y_train ==1), sum(y_test == 1)]],\n",
    "            columns=['train','test'], index=['0 (non-fraud)', '1 (fraud)'])"
   ]
  },
  {
   "cell_type": "markdown",
   "metadata": {},
   "source": [
    "## Modeling"
   ]
  },
  {
   "cell_type": "code",
   "execution_count": 49,
   "metadata": {},
   "outputs": [],
   "source": [
    "model = LogisticRegression()\n",
    "model.fit(X_train, y_train)\n",
    "lr_pred = model.predict(X_test)\n",
    "lr_pred_proba = model.predict_proba(X_test)[:, -1].reshape(-1,1)"
   ]
  },
  {
   "cell_type": "markdown",
   "metadata": {},
   "source": [
    "## 성능지표"
   ]
  },
  {
   "cell_type": "code",
   "execution_count": 50,
   "metadata": {},
   "outputs": [],
   "source": [
    "# 오차행렬, 정확도, 정밀도, 재현율을 한 번에 출력하는 함수\n",
    "def get_clf_eval(y_test, pred=None, pred_proba=None):\n",
    "    confusion = confusion_matrix(y_test, pred)\n",
    "    accuracy = accuracy_score(y_test, pred)\n",
    "    precision = precision_score(y_test, pred)\n",
    "    recall = recall_score(y_test, pred)\n",
    "    f1 = f1_score(y_test, pred)\n",
    "    roc_auc = roc_auc_score(y_test, pred_proba)\n",
    "    print('Confusion Matrix')\n",
    "    print(confusion)\n",
    "    print('accuracy: {0:.4f}, precision: {1:.4f}, recall: {2:.4f}, f1: {3:.4f}, roc_auc: {4:.4f}'.format( accuracy, precision, recall, f1, roc_auc))"
   ]
  },
  {
   "cell_type": "code",
   "execution_count": 51,
   "metadata": {},
   "outputs": [
    {
     "name": "stdout",
     "output_type": "stream",
     "text": [
      "Confusion Matrix\n",
      "[[5686    1]\n",
      " [  17   32]]\n",
      "accuracy: 0.9969, precision: 0.9697, recall: 0.6531, f1: 0.7805, roc_auc: 0.9619\n"
     ]
    }
   ],
   "source": [
    "get_clf_eval(y_test, lr_pred, lr_pred_proba)"
   ]
  },
  {
   "cell_type": "markdown",
   "metadata": {},
   "source": [
    "정확도와 정밀도는 높으나 재현율이 낮은 양상을 보임."
   ]
  },
  {
   "cell_type": "code",
   "execution_count": 52,
   "metadata": {},
   "outputs": [],
   "source": [
    "tn, fp, fn, tp = confusion_matrix(y_test, lr_pred).ravel()\n",
    "\n",
    "p = fn + tp\n",
    "n = tn + fp"
   ]
  },
  {
   "cell_type": "code",
   "execution_count": 53,
   "metadata": {},
   "outputs": [],
   "source": [
    "accuracy = (tp + tn) / (p + n)\n",
    "errorRate = (fn + fp) / (p+n)\n",
    "recall = (tp) / p\n",
    "precision = tp/ (tp + fp)\n",
    "specificity =  tn / (tn + fp)\n",
    "fpr = fp / n\n",
    "f1 = f1_score(lr_pred, y_test)"
   ]
  },
  {
   "cell_type": "markdown",
   "metadata": {},
   "source": [
    "* **Accuracy(정확도)** : 전체 데이터 중에서 맞게 분류된 데이터의 비율\n",
    "* **Precision(정밀도)** : Positive로 예측한 데이터 중에 실제 positive인 비율\n",
    "* **Recall(재현율)** : 원래 positive 데이터에서 positive로 분류된 수\n",
    "* **f1_score** : Recall과 Precision의 조화평균\n",
    "* **roc_auc** :  AUC는 ROC 곡선 아래의 너비로 1에 가까울수록 좋은 모델임\n",
    "* **roc_curve** : 모델의 임계값을 조정"
   ]
  },
  {
   "cell_type": "code",
   "execution_count": 54,
   "metadata": {},
   "outputs": [
    {
     "data": {
      "image/png": "[encoded data removed]",
      "text/plain": [
       "<Figure size 432x288 with 1 Axes>"
      ]
     },
     "metadata": {
      "needs_background": "light"
     },
     "output_type": "display_data"
    }
   ],
   "source": [
    "fpr, tpr, thresholds = roc_curve(y_test, model.decision_function(X_test))\n",
    "\n",
    "plt.plot(fpr, tpr, 'o-', label=\"Logistic Regression\") \n",
    "plt.plot([0, 1], [0, 1], 'k--')\n",
    "plt.plot([1-specificity], [recall], 'ro', ms=10) # 현재 cutoff value 값 \n",
    "plt.xlabel('1-specificity')\n",
    "plt.ylabel('Sensitivity')\n",
    "plt.show()"
   ]
  },
  {
   "cell_type": "markdown",
   "metadata": {},
   "source": [
    "현재의 cut-off value값은 최적점이 아님.\n",
    "\n",
    "`cut-off`는 판단의 가준이 되는 경계임. 이 데이터는 심한 불균형 data set이기에 암으로 예측되는 경우보다는 아닌 경우로 예측할 가능성이 훨씬 큼.\n",
    "\n",
    "그렇기에 logistic 함수로 구한 성공확률은 기존에 설정한 cut-off값보다 낮을 가능성이 큼. 때문에 우리는 cut-off 값을 낮추어 새로운 값으로 모델을 예측해야 함."
   ]
  },
  {
   "cell_type": "markdown",
   "metadata": {},
   "source": [
    "## 성능개선"
   ]
  },
  {
   "cell_type": "markdown",
   "metadata": {},
   "source": [
    "### cut-off"
   ]
  },
  {
   "cell_type": "markdown",
   "metadata": {},
   "source": [
    "최적의 cut-off 값은 $(sensitivity) - (1 - specificity) = k$ 일때, 가장 큰 $k$로 정함."
   ]
  },
  {
   "cell_type": "code",
   "execution_count": 55,
   "metadata": {},
   "outputs": [],
   "source": [
    "optimal_idx = np.argmax(tpr - fpr)\n",
    "optimal_threshold = thresholds[optimal_idx]\n",
    "\n",
    "optimal_pred = model.decision_function(X_test) > optimal_threshold"
   ]
  },
  {
   "cell_type": "markdown",
   "metadata": {},
   "source": [
    "**Confusion Matrix**"
   ]
  },
  {
   "cell_type": "code",
   "execution_count": 56,
   "metadata": {},
   "outputs": [],
   "source": [
    "tn, fp, fn, tp = confusion_matrix(y_test, optimal_pred).ravel()\n",
    "\n",
    "p = fn + tp\n",
    "n = tn + fp"
   ]
  },
  {
   "cell_type": "markdown",
   "metadata": {},
   "source": [
    "**Accuracy**"
   ]
  },
  {
   "cell_type": "code",
   "execution_count": 57,
   "metadata": {},
   "outputs": [
    {
     "name": "stdout",
     "output_type": "stream",
     "text": [
      "Accuracy :  0.9335774058577406\n"
     ]
    }
   ],
   "source": [
    "accuracy = (tp + tn) / (p + n)\n",
    "print(\"Accuracy : \", accuracy) "
   ]
  },
  {
   "cell_type": "markdown",
   "metadata": {},
   "source": [
    "**Precision**"
   ]
  },
  {
   "cell_type": "code",
   "execution_count": 58,
   "metadata": {},
   "outputs": [
    {
     "name": "stdout",
     "output_type": "stream",
     "text": [
      "precision :  0.10287081339712918\n"
     ]
    }
   ],
   "source": [
    "precision = tp / (tp + fp)\n",
    "print(\"precision : \", precision)"
   ]
  },
  {
   "cell_type": "markdown",
   "metadata": {},
   "source": [
    "cut off 조정 후 낮아진 것을 알 수 있음."
   ]
  },
  {
   "cell_type": "markdown",
   "metadata": {},
   "source": [
    "**recall**"
   ]
  },
  {
   "cell_type": "code",
   "execution_count": 59,
   "metadata": {},
   "outputs": [
    {
     "name": "stdout",
     "output_type": "stream",
     "text": [
      "Recall :  0.8775510204081632\n"
     ]
    }
   ],
   "source": [
    "recall = (tp) / p\n",
    "print('Recall : ', recall)"
   ]
  },
  {
   "cell_type": "markdown",
   "metadata": {},
   "source": [
    "cut off 조정 후 높아진 것을 알 수 있음."
   ]
  },
  {
   "cell_type": "markdown",
   "metadata": {},
   "source": [
    "**Specificity**"
   ]
  },
  {
   "cell_type": "code",
   "execution_count": 60,
   "metadata": {},
   "outputs": [
    {
     "name": "stdout",
     "output_type": "stream",
     "text": [
      "specificity :  0.9340601371549148\n"
     ]
    }
   ],
   "source": [
    "specificity =  tn / (tn + fp)\n",
    "print(\"specificity : \", specificity)"
   ]
  },
  {
   "cell_type": "code",
   "execution_count": 61,
   "metadata": {},
   "outputs": [
    {
     "data": {
      "image/png": "[encoded data removed]",
      "text/plain": [
       "<Figure size 432x288 with 1 Axes>"
      ]
     },
     "metadata": {
      "needs_background": "light"
     },
     "output_type": "display_data"
    }
   ],
   "source": [
    "from sklearn.metrics import roc_curve\n",
    "fpr, tpr, thresholds = roc_curve(y_test, model.decision_function(X_test))\n",
    "\n",
    "import matplotlib.pyplot as plt\n",
    "\n",
    "plt.plot(fpr, tpr, 'o-', label=\"Logistic Regression\") \n",
    "plt.plot([0, 1], [0, 1], 'k--')\n",
    "plt.plot([1-specificity], [recall], 'ro', ms=10) # 현재 cutoff value 값 \n",
    "plt.xlabel('1-Specificity')\n",
    "plt.ylabel('Sensitivity')\n",
    "plt.show()"
   ]
  },
  {
   "cell_type": "markdown",
   "metadata": {},
   "source": [
    "* 개선 전 cut-off는 최적점이 아니었으나, 개선 후에는 최적점에 가깝게 위치가 바뀜\n",
    "* 재현율이 크게 향상했으나 정밀도가 크게 하락했기에 재현율과 정밀도 사이에는 trade-off관계에 있음을 알 수 있음. FP값이 커졌기에 재현율이 향상되고, FN값이 작아져 정밀도가 하락함.\n",
    "* 카드 사기 데이터셋은 심장병 예측 데이터 셋과 마찬가지로 재현율이 정밀도보다 중요한 지표임. 정상 거래(질병x)를 사기 거래(질병 O)라고 예측하면 다시 검토(검사)를 통해 해당 예측을 철회할 수 있으나 실제로 사기 거래(질병O)를 정상 거래(질병 x)로 판단하면 큰 손실을 입히기 때문임.\n",
    "* 따라서 cut-off 조정은 재현율이 크게 개선되었기 때문에 더 나은 방향으로 바뀌었다고 할 수 있음."
   ]
  },
  {
   "cell_type": "markdown",
   "metadata": {},
   "source": [
    "### SMOTE 오버 샘플링"
   ]
  },
  {
   "cell_type": "code",
   "execution_count": 62,
   "metadata": {},
   "outputs": [
    {
     "name": "stdout",
     "output_type": "stream",
     "text": [
      "SMOTE 적용 전 학습용 피처/레이블 데이터 세트:  (22942, 28) (22942,)\n",
      "SMOTE 적용 후 학습용 피처/레이블 데이터 세트:  (45490, 28) (45490,)\n",
      "SMOTE 적용 후 레이블 값 분포: \n",
      " 0    22745\n",
      "1    22745\n",
      "Name: Class, dtype: int64\n"
     ]
    }
   ],
   "source": [
    "from imblearn.over_sampling import SMOTE\n",
    "\n",
    "smote = SMOTE(random_state=0)\n",
    "\n",
    "X_train_over, y_train_over = smote.fit_resample(X_train, y_train)\n",
    "print('SMOTE 적용 전 학습용 피처/레이블 데이터 세트: ', X_train.shape, y_train.shape)\n",
    "print('SMOTE 적용 후 학습용 피처/레이블 데이터 세트: ', X_train_over.shape, y_train_over.shape)\n",
    "print('SMOTE 적용 후 레이블 값 분포: \\n', pd.Series(y_train_over).value_counts())"
   ]
  },
  {
   "cell_type": "code",
   "execution_count": 63,
   "metadata": {},
   "outputs": [
    {
     "data": {
      "text/plain": [
       "0    22745\n",
       "1      197\n",
       "Name: Class, dtype: int64"
      ]
     },
     "execution_count": 63,
     "metadata": {},
     "output_type": "execute_result"
    }
   ],
   "source": [
    "# SMOTE 적용 전 레이블 값 분포\n",
    "y_train.value_counts()"
   ]
  },
  {
   "cell_type": "code",
   "execution_count": 64,
   "metadata": {},
   "outputs": [],
   "source": [
    "model = LogisticRegression()\n",
    "model.fit(X_train_over, y_train_over)\n",
    "lr_pred_over = model.predict(X_test)\n",
    "lr_pred_proba_over = model.predict_proba(X_test)[:, -1].reshape(-1,1)"
   ]
  },
  {
   "cell_type": "code",
   "execution_count": 65,
   "metadata": {},
   "outputs": [
    {
     "name": "stdout",
     "output_type": "stream",
     "text": [
      "Confusion Matrix\n",
      "[[5613   74]\n",
      " [   7   42]]\n",
      "accuracy: 0.9859, precision: 0.3621, recall: 0.8571, f1: 0.5091, roc_auc: 0.9696\n"
     ]
    }
   ],
   "source": [
    "get_clf_eval(y_test, lr_pred_over, lr_pred_proba_over)"
   ]
  },
  {
   "cell_type": "markdown",
   "metadata": {},
   "source": [
    "SMOTE로 오버 샘플링된 데이터로 로지스틱 회귀를 사용해 학습할 경우 재현율이 0.8571로 증가하지만 정밀도가 0.362로 크게 감소함.\n",
    "\n",
    "이는 로지스틱 회귀 모델이 오버 샘플링으로 인해 실제 원본 데이터의 유형보다 너무 많은 class=1 데이터를 학습하면서 실제 테스트 데이터 세트에서 예측을 지나치게 class=1로 적용해 정밀도가 급격히 떨어짐."
   ]
  }
 ],
 "metadata": {
  "colab": {
   "collapsed_sections": [],
   "name": "Regression_과제3",
   "provenance": []
  },
  "kernelspec": {
   "display_name": "Python 3",
   "language": "python",
   "name": "python3"
  },
  "language_info": {
   "codemirror_mode": {
    "name": "ipython",
    "version": 3
   },
   "file_extension": ".py",
   "mimetype": "text/x-python",
   "name": "python",
   "nbconvert_exporter": "python",
   "pygments_lexer": "ipython3",
   "version": "3.8.8"
  }
 },
 "nbformat": 4,
 "nbformat_minor": 1
}
