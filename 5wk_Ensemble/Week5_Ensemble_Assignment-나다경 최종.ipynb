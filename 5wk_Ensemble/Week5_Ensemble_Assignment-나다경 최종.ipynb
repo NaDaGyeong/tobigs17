{
 "cells": [
  {
   "cell_type": "markdown",
   "metadata": {
    "id": "KQkFvVLsiCyN"
   },
   "source": [
    "# 패키지 불러오기"
   ]
  },
  {
   "cell_type": "code",
   "execution_count": 1,
   "metadata": {
    "id": "RFiBEQnAOFnZ"
   },
   "outputs": [],
   "source": [
    "import pandas as pd\n",
    "import numpy as np\n",
    "import matplotlib.pyplot as plt\n",
    "import matplotlib as mpl\n",
    "import seaborn as sns\n",
    "import warnings\n",
    "\n",
    "from tqdm import tqdm_notebook\n",
    "\n",
    "warnings.filterwarnings(action='ignore')\n",
    "%matplotlib inline"
   ]
  },
  {
   "cell_type": "markdown",
   "metadata": {
    "id": "aKcaeyUMUQp1"
   },
   "source": [
    "# 데이터 이해하기\n",
    "\n",
    "### 목표 : 은행 신용 카드 서비스 이탈 고객 예측 모델 만들기!\n",
    "\n",
    "## 칼럼 설명\n",
    "\n",
    "- feature\n",
    " - Customer_Age : 고객의 나이\n",
    " - Gender : 성별 (M=Male, F=Female)\n",
    " - Dependent_count : 부양하는 가족의 수\n",
    " - Education_Level : 고객의 최종 학력 (example: high school, college graduate, etc.)\n",
    " - Marital_Status : 결혼 상태 (Married, Single, Divorced, Unknown)\n",
    " - Income_Category : 소득 범주 (< $40K, $40K - 60K, $60K - $80K, $80K-$120K, etc.)\n",
    " - Card_Category : Product Variable - Type of Card (Blue, Silver, Gold, Platinum)\n",
    " - Months_on_book : Period of relationship with bank\n",
    " - Total_Relationship_Count : Total no. of products held by the customer\n",
    " - Months_Inactive_12_mon : No. of months inactive in the last 12 months\n",
    " - Contacts_Count_12_mon : No. of Contacts in the last 12 months\n",
    " - Credit_Limit : Credit Limit on the Credit Card\n",
    " - Total_Revolving_Bal : Total Revolving Balance on the Credit Card\n",
    " - Avg_Open_To_Buy : Open to Buy Credit Line (Average of last 12 months)\n",
    " - Total_Amt_Chng_Q4_Q1 : Change in Transaction Amount (Q4 over Q1)\n",
    " - Total_Trans_Amt : Total Transaction Amount (Last 12 months)\n",
    " - Total_Trans_Ct : Total Transaction Count (Last 12 months)\n",
    " - Total_Ct_Chng_Q4_Q1 : Change in Transaction Count (Q4 over Q1)\n",
    " - Avg_Utilization_Ratio : Average Card Utilization Ratio\n",
    "\n",
    "- target\n",
    " - Attrition_Flag : 고객 활동 변수 / Existing Customer - 0, Attrited Customer - 1\n",
    "1. 은행 카드 서비스 담당자의 입장\n",
    "\n",
    "2. 카드 서비스를 이용하는 고객의 입장\n",
    "\n",
    "위 두 가지를 생각하면서 데이터를 분석하는 것은 어떨까요??\n",
    "\n",
    "데이터 출처: https://www.kaggle.com/sakshigoyal7/credit-card-customers\n",
    "\n",
    "## 평가방식\n",
    "\n",
    "평가방식은 Logloss이기 때문에 predict_proba을 통해서 각 클래스의 예측 확률을 구하는 방식으로 에측을 해야합니다!\n",
    "\n",
    "## 대회 주소\n",
    "https://www.kaggle.com/t/cd058141be084c4f81c9df010c587ae4"
   ]
  },
  {
   "cell_type": "code",
   "execution_count": 2,
   "metadata": {
    "id": "K55yRX4ORrD6"
   },
   "outputs": [],
   "source": [
    "# 데이터의 경로 각자에 맞추어서 변경해주세요\n",
    "data_dir = 'C:/Users/user/Tobigs/Assignment/5주차/Ensemble/'\n",
    "\n",
    "train = pd.read_csv(data_dir + 'train.csv')\n",
    "test = pd.read_csv(data_dir + 'test.csv')\n",
    "submission = pd.read_csv(data_dir + 'sample_submission.csv')"
   ]
  },
  {
   "cell_type": "code",
   "execution_count": 3,
   "metadata": {
    "colab": {
     "base_uri": "https://localhost:8080/",
     "height": 224
    },
    "executionInfo": {
     "elapsed": 28,
     "status": "ok",
     "timestamp": 1626605402458,
     "user": {
      "displayName": "이성범",
      "photoUrl": "",
      "userId": "11166281350151773159"
     },
     "user_tz": -540
    },
    "id": "oBsMz3WyR2gS",
    "outputId": "dd0766e2-4a29-4f60-d668-1dc6e694d87e"
   },
   "outputs": [
    {
     "data": {
      "text/html": [
       "<div>\n",
       "<style scoped>\n",
       "    .dataframe tbody tr th:only-of-type {\n",
       "        vertical-align: middle;\n",
       "    }\n",
       "\n",
       "    .dataframe tbody tr th {\n",
       "        vertical-align: top;\n",
       "    }\n",
       "\n",
       "    .dataframe thead th {\n",
       "        text-align: right;\n",
       "    }\n",
       "</style>\n",
       "<table border=\"1\" class=\"dataframe\">\n",
       "  <thead>\n",
       "    <tr style=\"text-align: right;\">\n",
       "      <th></th>\n",
       "      <th>Customer_Age</th>\n",
       "      <th>Gender</th>\n",
       "      <th>Dependent_count</th>\n",
       "      <th>Education_Level</th>\n",
       "      <th>Marital_Status</th>\n",
       "      <th>Income_Category</th>\n",
       "      <th>Card_Category</th>\n",
       "      <th>Months_on_book</th>\n",
       "      <th>Total_Relationship_Count</th>\n",
       "      <th>Months_Inactive_12_mon</th>\n",
       "      <th>Contacts_Count_12_mon</th>\n",
       "      <th>Credit_Limit</th>\n",
       "      <th>Total_Revolving_Bal</th>\n",
       "      <th>Avg_Open_To_Buy</th>\n",
       "      <th>Total_Amt_Chng_Q4_Q1</th>\n",
       "      <th>Total_Trans_Amt</th>\n",
       "      <th>Total_Trans_Ct</th>\n",
       "      <th>Total_Ct_Chng_Q4_Q1</th>\n",
       "      <th>Avg_Utilization_Ratio</th>\n",
       "      <th>Attrition_Flag</th>\n",
       "    </tr>\n",
       "  </thead>\n",
       "  <tbody>\n",
       "    <tr>\n",
       "      <th>0</th>\n",
       "      <td>44</td>\n",
       "      <td>F</td>\n",
       "      <td>1</td>\n",
       "      <td>Unknown</td>\n",
       "      <td>Divorced</td>\n",
       "      <td>Unknown</td>\n",
       "      <td>Blue</td>\n",
       "      <td>36</td>\n",
       "      <td>3</td>\n",
       "      <td>2</td>\n",
       "      <td>1</td>\n",
       "      <td>17116.0</td>\n",
       "      <td>1289</td>\n",
       "      <td>15827.0</td>\n",
       "      <td>0.559</td>\n",
       "      <td>3632</td>\n",
       "      <td>50</td>\n",
       "      <td>0.923</td>\n",
       "      <td>0.075</td>\n",
       "      <td>0</td>\n",
       "    </tr>\n",
       "    <tr>\n",
       "      <th>1</th>\n",
       "      <td>42</td>\n",
       "      <td>M</td>\n",
       "      <td>3</td>\n",
       "      <td>Uneducated</td>\n",
       "      <td>Single</td>\n",
       "      <td>$60K - $80K</td>\n",
       "      <td>Blue</td>\n",
       "      <td>30</td>\n",
       "      <td>4</td>\n",
       "      <td>2</td>\n",
       "      <td>3</td>\n",
       "      <td>8302.0</td>\n",
       "      <td>1294</td>\n",
       "      <td>7008.0</td>\n",
       "      <td>0.558</td>\n",
       "      <td>3221</td>\n",
       "      <td>66</td>\n",
       "      <td>0.610</td>\n",
       "      <td>0.156</td>\n",
       "      <td>0</td>\n",
       "    </tr>\n",
       "    <tr>\n",
       "      <th>2</th>\n",
       "      <td>57</td>\n",
       "      <td>M</td>\n",
       "      <td>0</td>\n",
       "      <td>Uneducated</td>\n",
       "      <td>Divorced</td>\n",
       "      <td>$80K - $120K</td>\n",
       "      <td>Blue</td>\n",
       "      <td>39</td>\n",
       "      <td>4</td>\n",
       "      <td>4</td>\n",
       "      <td>3</td>\n",
       "      <td>2795.0</td>\n",
       "      <td>1832</td>\n",
       "      <td>963.0</td>\n",
       "      <td>0.839</td>\n",
       "      <td>4679</td>\n",
       "      <td>67</td>\n",
       "      <td>0.861</td>\n",
       "      <td>0.655</td>\n",
       "      <td>0</td>\n",
       "    </tr>\n",
       "    <tr>\n",
       "      <th>3</th>\n",
       "      <td>26</td>\n",
       "      <td>F</td>\n",
       "      <td>1</td>\n",
       "      <td>Graduate</td>\n",
       "      <td>Single</td>\n",
       "      <td>$40K - $60K</td>\n",
       "      <td>Blue</td>\n",
       "      <td>20</td>\n",
       "      <td>6</td>\n",
       "      <td>3</td>\n",
       "      <td>3</td>\n",
       "      <td>1438.3</td>\n",
       "      <td>673</td>\n",
       "      <td>765.3</td>\n",
       "      <td>0.595</td>\n",
       "      <td>2167</td>\n",
       "      <td>48</td>\n",
       "      <td>0.412</td>\n",
       "      <td>0.468</td>\n",
       "      <td>0</td>\n",
       "    </tr>\n",
       "    <tr>\n",
       "      <th>4</th>\n",
       "      <td>38</td>\n",
       "      <td>F</td>\n",
       "      <td>0</td>\n",
       "      <td>Uneducated</td>\n",
       "      <td>Married</td>\n",
       "      <td>Less than $40K</td>\n",
       "      <td>Blue</td>\n",
       "      <td>26</td>\n",
       "      <td>5</td>\n",
       "      <td>1</td>\n",
       "      <td>4</td>\n",
       "      <td>2230.0</td>\n",
       "      <td>0</td>\n",
       "      <td>2230.0</td>\n",
       "      <td>0.896</td>\n",
       "      <td>3766</td>\n",
       "      <td>63</td>\n",
       "      <td>0.909</td>\n",
       "      <td>0.000</td>\n",
       "      <td>0</td>\n",
       "    </tr>\n",
       "  </tbody>\n",
       "</table>\n",
       "</div>"
      ],
      "text/plain": [
       "   Customer_Age Gender  Dependent_count Education_Level Marital_Status  \\\n",
       "0            44      F                1         Unknown       Divorced   \n",
       "1            42      M                3      Uneducated         Single   \n",
       "2            57      M                0      Uneducated       Divorced   \n",
       "3            26      F                1        Graduate         Single   \n",
       "4            38      F                0      Uneducated        Married   \n",
       "\n",
       "  Income_Category Card_Category  Months_on_book  Total_Relationship_Count  \\\n",
       "0         Unknown          Blue              36                         3   \n",
       "1     $60K - $80K          Blue              30                         4   \n",
       "2    $80K - $120K          Blue              39                         4   \n",
       "3     $40K - $60K          Blue              20                         6   \n",
       "4  Less than $40K          Blue              26                         5   \n",
       "\n",
       "   Months_Inactive_12_mon  Contacts_Count_12_mon  Credit_Limit  \\\n",
       "0                       2                      1       17116.0   \n",
       "1                       2                      3        8302.0   \n",
       "2                       4                      3        2795.0   \n",
       "3                       3                      3        1438.3   \n",
       "4                       1                      4        2230.0   \n",
       "\n",
       "   Total_Revolving_Bal  Avg_Open_To_Buy  Total_Amt_Chng_Q4_Q1  \\\n",
       "0                 1289          15827.0                 0.559   \n",
       "1                 1294           7008.0                 0.558   \n",
       "2                 1832            963.0                 0.839   \n",
       "3                  673            765.3                 0.595   \n",
       "4                    0           2230.0                 0.896   \n",
       "\n",
       "   Total_Trans_Amt  Total_Trans_Ct  Total_Ct_Chng_Q4_Q1  \\\n",
       "0             3632              50                0.923   \n",
       "1             3221              66                0.610   \n",
       "2             4679              67                0.861   \n",
       "3             2167              48                0.412   \n",
       "4             3766              63                0.909   \n",
       "\n",
       "   Avg_Utilization_Ratio  Attrition_Flag  \n",
       "0                  0.075               0  \n",
       "1                  0.156               0  \n",
       "2                  0.655               0  \n",
       "3                  0.468               0  \n",
       "4                  0.000               0  "
      ]
     },
     "execution_count": 3,
     "metadata": {},
     "output_type": "execute_result"
    }
   ],
   "source": [
    "train.head()"
   ]
  },
  {
   "cell_type": "code",
   "execution_count": 4,
   "metadata": {
    "colab": {
     "base_uri": "https://localhost:8080/",
     "height": 224
    },
    "executionInfo": {
     "elapsed": 26,
     "status": "ok",
     "timestamp": 1626605402459,
     "user": {
      "displayName": "이성범",
      "photoUrl": "",
      "userId": "11166281350151773159"
     },
     "user_tz": -540
    },
    "id": "WvuI5K-dSnwT",
    "outputId": "e3064372-31dc-4676-bc93-c2276567a797"
   },
   "outputs": [
    {
     "data": {
      "text/html": [
       "<div>\n",
       "<style scoped>\n",
       "    .dataframe tbody tr th:only-of-type {\n",
       "        vertical-align: middle;\n",
       "    }\n",
       "\n",
       "    .dataframe tbody tr th {\n",
       "        vertical-align: top;\n",
       "    }\n",
       "\n",
       "    .dataframe thead th {\n",
       "        text-align: right;\n",
       "    }\n",
       "</style>\n",
       "<table border=\"1\" class=\"dataframe\">\n",
       "  <thead>\n",
       "    <tr style=\"text-align: right;\">\n",
       "      <th></th>\n",
       "      <th>Customer_Age</th>\n",
       "      <th>Gender</th>\n",
       "      <th>Dependent_count</th>\n",
       "      <th>Education_Level</th>\n",
       "      <th>Marital_Status</th>\n",
       "      <th>Income_Category</th>\n",
       "      <th>Card_Category</th>\n",
       "      <th>Months_on_book</th>\n",
       "      <th>Total_Relationship_Count</th>\n",
       "      <th>Months_Inactive_12_mon</th>\n",
       "      <th>Contacts_Count_12_mon</th>\n",
       "      <th>Credit_Limit</th>\n",
       "      <th>Total_Revolving_Bal</th>\n",
       "      <th>Avg_Open_To_Buy</th>\n",
       "      <th>Total_Amt_Chng_Q4_Q1</th>\n",
       "      <th>Total_Trans_Amt</th>\n",
       "      <th>Total_Trans_Ct</th>\n",
       "      <th>Total_Ct_Chng_Q4_Q1</th>\n",
       "      <th>Avg_Utilization_Ratio</th>\n",
       "    </tr>\n",
       "  </thead>\n",
       "  <tbody>\n",
       "    <tr>\n",
       "      <th>0</th>\n",
       "      <td>53</td>\n",
       "      <td>F</td>\n",
       "      <td>2</td>\n",
       "      <td>College</td>\n",
       "      <td>Single</td>\n",
       "      <td>Less than $40K</td>\n",
       "      <td>Blue</td>\n",
       "      <td>45</td>\n",
       "      <td>6</td>\n",
       "      <td>3</td>\n",
       "      <td>3</td>\n",
       "      <td>6210.0</td>\n",
       "      <td>1083</td>\n",
       "      <td>5127.0</td>\n",
       "      <td>0.621</td>\n",
       "      <td>3095</td>\n",
       "      <td>62</td>\n",
       "      <td>0.590</td>\n",
       "      <td>0.174</td>\n",
       "    </tr>\n",
       "    <tr>\n",
       "      <th>1</th>\n",
       "      <td>52</td>\n",
       "      <td>M</td>\n",
       "      <td>1</td>\n",
       "      <td>College</td>\n",
       "      <td>Married</td>\n",
       "      <td>$80K - $120K</td>\n",
       "      <td>Blue</td>\n",
       "      <td>48</td>\n",
       "      <td>4</td>\n",
       "      <td>3</td>\n",
       "      <td>3</td>\n",
       "      <td>2066.0</td>\n",
       "      <td>1601</td>\n",
       "      <td>465.0</td>\n",
       "      <td>0.742</td>\n",
       "      <td>1578</td>\n",
       "      <td>41</td>\n",
       "      <td>0.414</td>\n",
       "      <td>0.775</td>\n",
       "    </tr>\n",
       "    <tr>\n",
       "      <th>2</th>\n",
       "      <td>27</td>\n",
       "      <td>M</td>\n",
       "      <td>0</td>\n",
       "      <td>Unknown</td>\n",
       "      <td>Married</td>\n",
       "      <td>$40K - $60K</td>\n",
       "      <td>Blue</td>\n",
       "      <td>14</td>\n",
       "      <td>4</td>\n",
       "      <td>1</td>\n",
       "      <td>4</td>\n",
       "      <td>3823.0</td>\n",
       "      <td>2130</td>\n",
       "      <td>1693.0</td>\n",
       "      <td>0.371</td>\n",
       "      <td>2026</td>\n",
       "      <td>49</td>\n",
       "      <td>0.441</td>\n",
       "      <td>0.557</td>\n",
       "    </tr>\n",
       "    <tr>\n",
       "      <th>3</th>\n",
       "      <td>43</td>\n",
       "      <td>M</td>\n",
       "      <td>3</td>\n",
       "      <td>Unknown</td>\n",
       "      <td>Single</td>\n",
       "      <td>$60K - $80K</td>\n",
       "      <td>Blue</td>\n",
       "      <td>34</td>\n",
       "      <td>6</td>\n",
       "      <td>2</td>\n",
       "      <td>0</td>\n",
       "      <td>13771.0</td>\n",
       "      <td>2517</td>\n",
       "      <td>11254.0</td>\n",
       "      <td>0.501</td>\n",
       "      <td>1510</td>\n",
       "      <td>42</td>\n",
       "      <td>0.750</td>\n",
       "      <td>0.183</td>\n",
       "    </tr>\n",
       "    <tr>\n",
       "      <th>4</th>\n",
       "      <td>55</td>\n",
       "      <td>F</td>\n",
       "      <td>2</td>\n",
       "      <td>High School</td>\n",
       "      <td>Married</td>\n",
       "      <td>$40K - $60K</td>\n",
       "      <td>Blue</td>\n",
       "      <td>42</td>\n",
       "      <td>2</td>\n",
       "      <td>2</td>\n",
       "      <td>3</td>\n",
       "      <td>5431.0</td>\n",
       "      <td>2007</td>\n",
       "      <td>3424.0</td>\n",
       "      <td>0.661</td>\n",
       "      <td>4569</td>\n",
       "      <td>82</td>\n",
       "      <td>0.608</td>\n",
       "      <td>0.370</td>\n",
       "    </tr>\n",
       "  </tbody>\n",
       "</table>\n",
       "</div>"
      ],
      "text/plain": [
       "   Customer_Age Gender  Dependent_count Education_Level Marital_Status  \\\n",
       "0            53      F                2         College         Single   \n",
       "1            52      M                1         College        Married   \n",
       "2            27      M                0         Unknown        Married   \n",
       "3            43      M                3         Unknown         Single   \n",
       "4            55      F                2     High School        Married   \n",
       "\n",
       "  Income_Category Card_Category  Months_on_book  Total_Relationship_Count  \\\n",
       "0  Less than $40K          Blue              45                         6   \n",
       "1    $80K - $120K          Blue              48                         4   \n",
       "2     $40K - $60K          Blue              14                         4   \n",
       "3     $60K - $80K          Blue              34                         6   \n",
       "4     $40K - $60K          Blue              42                         2   \n",
       "\n",
       "   Months_Inactive_12_mon  Contacts_Count_12_mon  Credit_Limit  \\\n",
       "0                       3                      3        6210.0   \n",
       "1                       3                      3        2066.0   \n",
       "2                       1                      4        3823.0   \n",
       "3                       2                      0       13771.0   \n",
       "4                       2                      3        5431.0   \n",
       "\n",
       "   Total_Revolving_Bal  Avg_Open_To_Buy  Total_Amt_Chng_Q4_Q1  \\\n",
       "0                 1083           5127.0                 0.621   \n",
       "1                 1601            465.0                 0.742   \n",
       "2                 2130           1693.0                 0.371   \n",
       "3                 2517          11254.0                 0.501   \n",
       "4                 2007           3424.0                 0.661   \n",
       "\n",
       "   Total_Trans_Amt  Total_Trans_Ct  Total_Ct_Chng_Q4_Q1  Avg_Utilization_Ratio  \n",
       "0             3095              62                0.590                  0.174  \n",
       "1             1578              41                0.414                  0.775  \n",
       "2             2026              49                0.441                  0.557  \n",
       "3             1510              42                0.750                  0.183  \n",
       "4             4569              82                0.608                  0.370  "
      ]
     },
     "execution_count": 4,
     "metadata": {},
     "output_type": "execute_result"
    }
   ],
   "source": [
    "test.head()"
   ]
  },
  {
   "cell_type": "code",
   "execution_count": 5,
   "metadata": {
    "colab": {
     "base_uri": "https://localhost:8080/",
     "height": 204
    },
    "executionInfo": {
     "elapsed": 24,
     "status": "ok",
     "timestamp": 1626605402459,
     "user": {
      "displayName": "이성범",
      "photoUrl": "",
      "userId": "11166281350151773159"
     },
     "user_tz": -540
    },
    "id": "ZeQd1naapivW",
    "outputId": "98547987-bdf1-413c-c972-e10dbfc61780"
   },
   "outputs": [
    {
     "data": {
      "text/html": [
       "<div>\n",
       "<style scoped>\n",
       "    .dataframe tbody tr th:only-of-type {\n",
       "        vertical-align: middle;\n",
       "    }\n",
       "\n",
       "    .dataframe tbody tr th {\n",
       "        vertical-align: top;\n",
       "    }\n",
       "\n",
       "    .dataframe thead th {\n",
       "        text-align: right;\n",
       "    }\n",
       "</style>\n",
       "<table border=\"1\" class=\"dataframe\">\n",
       "  <thead>\n",
       "    <tr style=\"text-align: right;\">\n",
       "      <th></th>\n",
       "      <th>id</th>\n",
       "      <th>Existing Customer</th>\n",
       "      <th>Attrited Customer</th>\n",
       "    </tr>\n",
       "  </thead>\n",
       "  <tbody>\n",
       "    <tr>\n",
       "      <th>0</th>\n",
       "      <td>0</td>\n",
       "      <td>0</td>\n",
       "      <td>1</td>\n",
       "    </tr>\n",
       "    <tr>\n",
       "      <th>1</th>\n",
       "      <td>1</td>\n",
       "      <td>0</td>\n",
       "      <td>1</td>\n",
       "    </tr>\n",
       "    <tr>\n",
       "      <th>2</th>\n",
       "      <td>2</td>\n",
       "      <td>0</td>\n",
       "      <td>1</td>\n",
       "    </tr>\n",
       "    <tr>\n",
       "      <th>3</th>\n",
       "      <td>3</td>\n",
       "      <td>0</td>\n",
       "      <td>1</td>\n",
       "    </tr>\n",
       "    <tr>\n",
       "      <th>4</th>\n",
       "      <td>4</td>\n",
       "      <td>0</td>\n",
       "      <td>1</td>\n",
       "    </tr>\n",
       "  </tbody>\n",
       "</table>\n",
       "</div>"
      ],
      "text/plain": [
       "   id  Existing Customer  Attrited Customer\n",
       "0   0                  0                  1\n",
       "1   1                  0                  1\n",
       "2   2                  0                  1\n",
       "3   3                  0                  1\n",
       "4   4                  0                  1"
      ]
     },
     "execution_count": 5,
     "metadata": {},
     "output_type": "execute_result"
    }
   ],
   "source": [
    "submission.head()"
   ]
  },
  {
   "cell_type": "markdown",
   "metadata": {
    "id": "CyVU0cD7ZU_V"
   },
   "source": [
    "# 데이터 전처리\n"
   ]
  },
  {
   "cell_type": "code",
   "execution_count": 6,
   "metadata": {
    "colab": {
     "base_uri": "https://localhost:8080/"
    },
    "executionInfo": {
     "elapsed": 23,
     "status": "ok",
     "timestamp": 1626605402459,
     "user": {
      "displayName": "이성범",
      "photoUrl": "",
      "userId": "11166281350151773159"
     },
     "user_tz": -540
    },
    "id": "YnPpu6AqZZZa",
    "outputId": "c6b8a40a-3bf1-4380-bd06-f4e7639a3b51"
   },
   "outputs": [
    {
     "data": {
      "text/plain": [
       "(8101, 20)"
      ]
     },
     "execution_count": 6,
     "metadata": {},
     "output_type": "execute_result"
    }
   ],
   "source": [
    "train.shape"
   ]
  },
  {
   "cell_type": "code",
   "execution_count": 7,
   "metadata": {
    "colab": {
     "base_uri": "https://localhost:8080/"
    },
    "executionInfo": {
     "elapsed": 21,
     "status": "ok",
     "timestamp": 1626605402460,
     "user": {
      "displayName": "이성범",
      "photoUrl": "",
      "userId": "11166281350151773159"
     },
     "user_tz": -540
    },
    "id": "fuc-6D7ZcigN",
    "outputId": "fc8ab7ce-c204-4116-c1ae-2aa7d66efa7e"
   },
   "outputs": [
    {
     "data": {
      "text/plain": [
       "(2026, 19)"
      ]
     },
     "execution_count": 7,
     "metadata": {},
     "output_type": "execute_result"
    }
   ],
   "source": [
    "test.shape"
   ]
  },
  {
   "cell_type": "code",
   "execution_count": 8,
   "metadata": {
    "colab": {
     "base_uri": "https://localhost:8080/"
    },
    "executionInfo": {
     "elapsed": 18,
     "status": "ok",
     "timestamp": 1626605402460,
     "user": {
      "displayName": "이성범",
      "photoUrl": "",
      "userId": "11166281350151773159"
     },
     "user_tz": -540
    },
    "id": "ZJEVr9-gclgE",
    "outputId": "c5bf0d62-dd76-4d6c-9c77-fbdf847241bb"
   },
   "outputs": [
    {
     "data": {
      "text/plain": [
       "Customer_Age                0\n",
       "Gender                      0\n",
       "Dependent_count             0\n",
       "Education_Level             0\n",
       "Marital_Status              0\n",
       "Income_Category             0\n",
       "Card_Category               0\n",
       "Months_on_book              0\n",
       "Total_Relationship_Count    0\n",
       "Months_Inactive_12_mon      0\n",
       "Contacts_Count_12_mon       0\n",
       "Credit_Limit                0\n",
       "Total_Revolving_Bal         0\n",
       "Avg_Open_To_Buy             0\n",
       "Total_Amt_Chng_Q4_Q1        0\n",
       "Total_Trans_Amt             0\n",
       "Total_Trans_Ct              0\n",
       "Total_Ct_Chng_Q4_Q1         0\n",
       "Avg_Utilization_Ratio       0\n",
       "Attrition_Flag              0\n",
       "dtype: int64"
      ]
     },
     "execution_count": 8,
     "metadata": {},
     "output_type": "execute_result"
    }
   ],
   "source": [
    "train.isna().sum()"
   ]
  },
  {
   "cell_type": "code",
   "execution_count": 9,
   "metadata": {
    "colab": {
     "base_uri": "https://localhost:8080/"
    },
    "executionInfo": {
     "elapsed": 17,
     "status": "ok",
     "timestamp": 1626605402461,
     "user": {
      "displayName": "이성범",
      "photoUrl": "",
      "userId": "11166281350151773159"
     },
     "user_tz": -540
    },
    "id": "9AVHMJLHcn79",
    "outputId": "d9e4e914-e529-447d-eec2-d89b63c5df48"
   },
   "outputs": [
    {
     "data": {
      "text/plain": [
       "Customer_Age                0\n",
       "Gender                      0\n",
       "Dependent_count             0\n",
       "Education_Level             0\n",
       "Marital_Status              0\n",
       "Income_Category             0\n",
       "Card_Category               0\n",
       "Months_on_book              0\n",
       "Total_Relationship_Count    0\n",
       "Months_Inactive_12_mon      0\n",
       "Contacts_Count_12_mon       0\n",
       "Credit_Limit                0\n",
       "Total_Revolving_Bal         0\n",
       "Avg_Open_To_Buy             0\n",
       "Total_Amt_Chng_Q4_Q1        0\n",
       "Total_Trans_Amt             0\n",
       "Total_Trans_Ct              0\n",
       "Total_Ct_Chng_Q4_Q1         0\n",
       "Avg_Utilization_Ratio       0\n",
       "dtype: int64"
      ]
     },
     "execution_count": 9,
     "metadata": {},
     "output_type": "execute_result"
    }
   ],
   "source": [
    "test.isna().sum()"
   ]
  },
  {
   "cell_type": "markdown",
   "metadata": {
    "id": "Sr1XJSvOcppl"
   },
   "source": [
    "데이터에 결측치는 존재하지 않는 것으로 보입니다.\n",
    "\n",
    "하지만 진짜 결측치가 존재하지 않을까요?\n",
    "\n",
    "결측치가 다른 이름으로 기록되어 있을 수도 있고 0으로 기록되어 있을 수도 있습니다.\n",
    "\n",
    "이 부분은 한번 EDA를 통해서 확인해보세요!"
   ]
  },
  {
   "cell_type": "markdown",
   "metadata": {
    "id": "eh4iyF5WZewN"
   },
   "source": [
    "# EDA\n",
    "\n",
    "정형데이터의 경우 feature engineering 이 모델의 성능에 정말 큰 영향을 주기 때문에 EDA를 통해서 얻은 인사이트를 바탕으로 최고의 feature를 만들어보세요! "
   ]
  },
  {
   "cell_type": "code",
   "execution_count": 10,
   "metadata": {},
   "outputs": [
    {
     "data": {
      "text/html": [
       "<div>\n",
       "<style scoped>\n",
       "    .dataframe tbody tr th:only-of-type {\n",
       "        vertical-align: middle;\n",
       "    }\n",
       "\n",
       "    .dataframe tbody tr th {\n",
       "        vertical-align: top;\n",
       "    }\n",
       "\n",
       "    .dataframe thead th {\n",
       "        text-align: right;\n",
       "    }\n",
       "</style>\n",
       "<table border=\"1\" class=\"dataframe\">\n",
       "  <thead>\n",
       "    <tr style=\"text-align: right;\">\n",
       "      <th></th>\n",
       "      <th>Customer_Age</th>\n",
       "      <th>Dependent_count</th>\n",
       "      <th>Months_on_book</th>\n",
       "      <th>Total_Relationship_Count</th>\n",
       "      <th>Months_Inactive_12_mon</th>\n",
       "      <th>Contacts_Count_12_mon</th>\n",
       "      <th>Credit_Limit</th>\n",
       "      <th>Total_Revolving_Bal</th>\n",
       "      <th>Avg_Open_To_Buy</th>\n",
       "      <th>Total_Amt_Chng_Q4_Q1</th>\n",
       "      <th>Total_Trans_Amt</th>\n",
       "      <th>Total_Trans_Ct</th>\n",
       "      <th>Total_Ct_Chng_Q4_Q1</th>\n",
       "      <th>Avg_Utilization_Ratio</th>\n",
       "      <th>Attrition_Flag</th>\n",
       "    </tr>\n",
       "  </thead>\n",
       "  <tbody>\n",
       "    <tr>\n",
       "      <th>count</th>\n",
       "      <td>8101.000000</td>\n",
       "      <td>8101.000000</td>\n",
       "      <td>8101.000000</td>\n",
       "      <td>8101.000000</td>\n",
       "      <td>8101.000000</td>\n",
       "      <td>8101.000000</td>\n",
       "      <td>8101.000000</td>\n",
       "      <td>8101.000000</td>\n",
       "      <td>8101.000000</td>\n",
       "      <td>8101.000000</td>\n",
       "      <td>8101.000000</td>\n",
       "      <td>8101.000000</td>\n",
       "      <td>8101.000000</td>\n",
       "      <td>8101.000000</td>\n",
       "      <td>8101.000000</td>\n",
       "    </tr>\n",
       "    <tr>\n",
       "      <th>mean</th>\n",
       "      <td>46.291199</td>\n",
       "      <td>2.339958</td>\n",
       "      <td>35.905938</td>\n",
       "      <td>3.808172</td>\n",
       "      <td>2.347241</td>\n",
       "      <td>2.460931</td>\n",
       "      <td>8667.346587</td>\n",
       "      <td>1157.653746</td>\n",
       "      <td>7509.692840</td>\n",
       "      <td>0.760068</td>\n",
       "      <td>4444.729663</td>\n",
       "      <td>64.984199</td>\n",
       "      <td>0.711699</td>\n",
       "      <td>0.274665</td>\n",
       "      <td>0.160721</td>\n",
       "    </tr>\n",
       "    <tr>\n",
       "      <th>std</th>\n",
       "      <td>8.040300</td>\n",
       "      <td>1.300795</td>\n",
       "      <td>8.011260</td>\n",
       "      <td>1.553566</td>\n",
       "      <td>1.013624</td>\n",
       "      <td>1.098309</td>\n",
       "      <td>9127.897938</td>\n",
       "      <td>815.062550</td>\n",
       "      <td>9129.855775</td>\n",
       "      <td>0.218224</td>\n",
       "      <td>3448.702344</td>\n",
       "      <td>23.608677</td>\n",
       "      <td>0.235800</td>\n",
       "      <td>0.277166</td>\n",
       "      <td>0.367296</td>\n",
       "    </tr>\n",
       "    <tr>\n",
       "      <th>min</th>\n",
       "      <td>26.000000</td>\n",
       "      <td>0.000000</td>\n",
       "      <td>13.000000</td>\n",
       "      <td>1.000000</td>\n",
       "      <td>0.000000</td>\n",
       "      <td>0.000000</td>\n",
       "      <td>1438.300000</td>\n",
       "      <td>0.000000</td>\n",
       "      <td>3.000000</td>\n",
       "      <td>0.000000</td>\n",
       "      <td>563.000000</td>\n",
       "      <td>10.000000</td>\n",
       "      <td>0.000000</td>\n",
       "      <td>0.000000</td>\n",
       "      <td>0.000000</td>\n",
       "    </tr>\n",
       "    <tr>\n",
       "      <th>25%</th>\n",
       "      <td>41.000000</td>\n",
       "      <td>1.000000</td>\n",
       "      <td>31.000000</td>\n",
       "      <td>3.000000</td>\n",
       "      <td>2.000000</td>\n",
       "      <td>2.000000</td>\n",
       "      <td>2557.000000</td>\n",
       "      <td>289.000000</td>\n",
       "      <td>1316.000000</td>\n",
       "      <td>0.631000</td>\n",
       "      <td>2169.000000</td>\n",
       "      <td>45.000000</td>\n",
       "      <td>0.583000</td>\n",
       "      <td>0.020000</td>\n",
       "      <td>0.000000</td>\n",
       "    </tr>\n",
       "    <tr>\n",
       "      <th>50%</th>\n",
       "      <td>46.000000</td>\n",
       "      <td>2.000000</td>\n",
       "      <td>36.000000</td>\n",
       "      <td>4.000000</td>\n",
       "      <td>2.000000</td>\n",
       "      <td>2.000000</td>\n",
       "      <td>4549.000000</td>\n",
       "      <td>1273.000000</td>\n",
       "      <td>3508.000000</td>\n",
       "      <td>0.737000</td>\n",
       "      <td>3904.000000</td>\n",
       "      <td>67.000000</td>\n",
       "      <td>0.700000</td>\n",
       "      <td>0.173000</td>\n",
       "      <td>0.000000</td>\n",
       "    </tr>\n",
       "    <tr>\n",
       "      <th>75%</th>\n",
       "      <td>52.000000</td>\n",
       "      <td>3.000000</td>\n",
       "      <td>40.000000</td>\n",
       "      <td>5.000000</td>\n",
       "      <td>3.000000</td>\n",
       "      <td>3.000000</td>\n",
       "      <td>11135.000000</td>\n",
       "      <td>1781.000000</td>\n",
       "      <td>9930.000000</td>\n",
       "      <td>0.859000</td>\n",
       "      <td>4754.000000</td>\n",
       "      <td>81.000000</td>\n",
       "      <td>0.818000</td>\n",
       "      <td>0.504000</td>\n",
       "      <td>0.000000</td>\n",
       "    </tr>\n",
       "    <tr>\n",
       "      <th>max</th>\n",
       "      <td>73.000000</td>\n",
       "      <td>5.000000</td>\n",
       "      <td>56.000000</td>\n",
       "      <td>6.000000</td>\n",
       "      <td>6.000000</td>\n",
       "      <td>6.000000</td>\n",
       "      <td>34516.000000</td>\n",
       "      <td>2517.000000</td>\n",
       "      <td>34516.000000</td>\n",
       "      <td>3.397000</td>\n",
       "      <td>18484.000000</td>\n",
       "      <td>138.000000</td>\n",
       "      <td>3.714000</td>\n",
       "      <td>0.999000</td>\n",
       "      <td>1.000000</td>\n",
       "    </tr>\n",
       "  </tbody>\n",
       "</table>\n",
       "</div>"
      ],
      "text/plain": [
       "       Customer_Age  Dependent_count  Months_on_book  \\\n",
       "count   8101.000000      8101.000000     8101.000000   \n",
       "mean      46.291199         2.339958       35.905938   \n",
       "std        8.040300         1.300795        8.011260   \n",
       "min       26.000000         0.000000       13.000000   \n",
       "25%       41.000000         1.000000       31.000000   \n",
       "50%       46.000000         2.000000       36.000000   \n",
       "75%       52.000000         3.000000       40.000000   \n",
       "max       73.000000         5.000000       56.000000   \n",
       "\n",
       "       Total_Relationship_Count  Months_Inactive_12_mon  \\\n",
       "count               8101.000000             8101.000000   \n",
       "mean                   3.808172                2.347241   \n",
       "std                    1.553566                1.013624   \n",
       "min                    1.000000                0.000000   \n",
       "25%                    3.000000                2.000000   \n",
       "50%                    4.000000                2.000000   \n",
       "75%                    5.000000                3.000000   \n",
       "max                    6.000000                6.000000   \n",
       "\n",
       "       Contacts_Count_12_mon  Credit_Limit  Total_Revolving_Bal  \\\n",
       "count            8101.000000   8101.000000          8101.000000   \n",
       "mean                2.460931   8667.346587          1157.653746   \n",
       "std                 1.098309   9127.897938           815.062550   \n",
       "min                 0.000000   1438.300000             0.000000   \n",
       "25%                 2.000000   2557.000000           289.000000   \n",
       "50%                 2.000000   4549.000000          1273.000000   \n",
       "75%                 3.000000  11135.000000          1781.000000   \n",
       "max                 6.000000  34516.000000          2517.000000   \n",
       "\n",
       "       Avg_Open_To_Buy  Total_Amt_Chng_Q4_Q1  Total_Trans_Amt  Total_Trans_Ct  \\\n",
       "count      8101.000000           8101.000000      8101.000000     8101.000000   \n",
       "mean       7509.692840              0.760068      4444.729663       64.984199   \n",
       "std        9129.855775              0.218224      3448.702344       23.608677   \n",
       "min           3.000000              0.000000       563.000000       10.000000   \n",
       "25%        1316.000000              0.631000      2169.000000       45.000000   \n",
       "50%        3508.000000              0.737000      3904.000000       67.000000   \n",
       "75%        9930.000000              0.859000      4754.000000       81.000000   \n",
       "max       34516.000000              3.397000     18484.000000      138.000000   \n",
       "\n",
       "       Total_Ct_Chng_Q4_Q1  Avg_Utilization_Ratio  Attrition_Flag  \n",
       "count          8101.000000            8101.000000     8101.000000  \n",
       "mean              0.711699               0.274665        0.160721  \n",
       "std               0.235800               0.277166        0.367296  \n",
       "min               0.000000               0.000000        0.000000  \n",
       "25%               0.583000               0.020000        0.000000  \n",
       "50%               0.700000               0.173000        0.000000  \n",
       "75%               0.818000               0.504000        0.000000  \n",
       "max               3.714000               0.999000        1.000000  "
      ]
     },
     "execution_count": 10,
     "metadata": {},
     "output_type": "execute_result"
    }
   ],
   "source": [
    "train.describe()"
   ]
  },
  {
   "cell_type": "code",
   "execution_count": 11,
   "metadata": {},
   "outputs": [
    {
     "data": {
      "text/html": [
       "<div>\n",
       "<style scoped>\n",
       "    .dataframe tbody tr th:only-of-type {\n",
       "        vertical-align: middle;\n",
       "    }\n",
       "\n",
       "    .dataframe tbody tr th {\n",
       "        vertical-align: top;\n",
       "    }\n",
       "\n",
       "    .dataframe thead th {\n",
       "        text-align: right;\n",
       "    }\n",
       "</style>\n",
       "<table border=\"1\" class=\"dataframe\">\n",
       "  <thead>\n",
       "    <tr style=\"text-align: right;\">\n",
       "      <th></th>\n",
       "      <th>Gender</th>\n",
       "      <th>Education_Level</th>\n",
       "      <th>Marital_Status</th>\n",
       "      <th>Income_Category</th>\n",
       "      <th>Card_Category</th>\n",
       "    </tr>\n",
       "  </thead>\n",
       "  <tbody>\n",
       "    <tr>\n",
       "      <th>count</th>\n",
       "      <td>8101</td>\n",
       "      <td>8101</td>\n",
       "      <td>8101</td>\n",
       "      <td>8101</td>\n",
       "      <td>8101</td>\n",
       "    </tr>\n",
       "    <tr>\n",
       "      <th>unique</th>\n",
       "      <td>2</td>\n",
       "      <td>7</td>\n",
       "      <td>4</td>\n",
       "      <td>6</td>\n",
       "      <td>4</td>\n",
       "    </tr>\n",
       "    <tr>\n",
       "      <th>top</th>\n",
       "      <td>F</td>\n",
       "      <td>Graduate</td>\n",
       "      <td>Married</td>\n",
       "      <td>Less than $40K</td>\n",
       "      <td>Blue</td>\n",
       "    </tr>\n",
       "    <tr>\n",
       "      <th>freq</th>\n",
       "      <td>4286</td>\n",
       "      <td>2535</td>\n",
       "      <td>3749</td>\n",
       "      <td>2848</td>\n",
       "      <td>7546</td>\n",
       "    </tr>\n",
       "  </tbody>\n",
       "</table>\n",
       "</div>"
      ],
      "text/plain": [
       "       Gender Education_Level Marital_Status Income_Category Card_Category\n",
       "count    8101            8101           8101            8101          8101\n",
       "unique      2               7              4               6             4\n",
       "top         F        Graduate        Married  Less than $40K          Blue\n",
       "freq     4286            2535           3749            2848          7546"
      ]
     },
     "execution_count": 11,
     "metadata": {},
     "output_type": "execute_result"
    }
   ],
   "source": [
    "train.describe(include='object')"
   ]
  },
  {
   "cell_type": "code",
   "execution_count": 12,
   "metadata": {
    "id": "aHprhcx2Z4Qc"
   },
   "outputs": [],
   "source": [
    "# numerical 변수와 categorical 변수 나눠주기\n",
    "numerical = train[['Customer_Age','Dependent_count','Months_on_book','Total_Relationship_Count','Months_Inactive_12_mon','Contacts_Count_12_mon','Credit_Limit','Total_Revolving_Bal','Avg_Open_To_Buy','Total_Amt_Chng_Q4_Q1','Total_Trans_Amt','Total_Trans_Ct','Total_Ct_Chng_Q4_Q1','Avg_Utilization_Ratio']]\n",
    "categorical = train[['Gender','Education_Level','Marital_Status','Income_Category','Card_Category']]"
   ]
  },
  {
   "cell_type": "code",
   "execution_count": 13,
   "metadata": {},
   "outputs": [
    {
     "data": {
      "text/plain": [
       "<AxesSubplot:xlabel='Attrition_Flag', ylabel='count'>"
      ]
     },
     "execution_count": 13,
     "metadata": {},
     "output_type": "execute_result"
    },
    {
     "data": {
      "image/png": "[encoded data removed]",
      "text/plain": [
       "<Figure size 432x288 with 1 Axes>"
      ]
     },
     "metadata": {
      "needs_background": "light"
     },
     "output_type": "display_data"
    }
   ],
   "source": [
    "# target\n",
    "sns.countplot(train['Attrition_Flag'])"
   ]
  },
  {
   "cell_type": "markdown",
   "metadata": {},
   "source": [
    "시각화 결과 target 값은 불균형한 상태이기에 모델이 다수의 클래스로 편향될 수도 있음. SMOTE 방법론을 이용해 두 클래스 간의 차이를 줄일 예정임."
   ]
  },
  {
   "cell_type": "code",
   "execution_count": 14,
   "metadata": {},
   "outputs": [
    {
     "data": {
      "image/png": "[encoded data removed]",
      "text/plain": [
       "<Figure size 864x720 with 1 Axes>"
      ]
     },
     "metadata": {
      "needs_background": "light"
     },
     "output_type": "display_data"
    },
    {
     "data": {
      "image/png": "[encoded data removed]",
      "text/plain": [
       "<Figure size 864x720 with 1 Axes>"
      ]
     },
     "metadata": {
      "needs_background": "light"
     },
     "output_type": "display_data"
    },
    {
     "data": {
      "image/png": "[encoded data removed]",
      "text/plain": [
       "<Figure size 864x720 with 1 Axes>"
      ]
     },
     "metadata": {
      "needs_background": "light"
     },
     "output_type": "display_data"
    },
    {
     "data": {
      "image/png": "[encoded data removed]",
      "text/plain": [
       "<Figure size 864x720 with 1 Axes>"
      ]
     },
     "metadata": {
      "needs_background": "light"
     },
     "output_type": "display_data"
    },
    {
     "data": {
      "image/png": "[encoded data removed]",
      "text/plain": [
       "<Figure size 864x720 with 1 Axes>"
      ]
     },
     "metadata": {
      "needs_background": "light"
     },
     "output_type": "display_data"
    },
    {
     "data": {
      "image/png": "[encoded data removed]",
      "text/plain": [
       "<Figure size 864x720 with 1 Axes>"
      ]
     },
     "metadata": {
      "needs_background": "light"
     },
     "output_type": "display_data"
    },
    {
     "data": {
      "image/png": "[encoded data removed]",
      "text/plain": [
       "<Figure size 864x720 with 1 Axes>"
      ]
     },
     "metadata": {
      "needs_background": "light"
     },
     "output_type": "display_data"
    },
    {
     "data": {
      "image/png": "[encoded data removed]",
      "text/plain": [
       "<Figure size 864x720 with 1 Axes>"
      ]
     },
     "metadata": {
      "needs_background": "light"
     },
     "output_type": "display_data"
    },
    {
     "data": {
      "image/png": "[encoded data removed]",
      "text/plain": [
       "<Figure size 864x720 with 1 Axes>"
      ]
     },
     "metadata": {
      "needs_background": "light"
     },
     "output_type": "display_data"
    },
    {
     "data": {
      "image/png": "[encoded data removed]",
      "text/plain": [
       "<Figure size 864x720 with 1 Axes>"
      ]
     },
     "metadata": {
      "needs_background": "light"
     },
     "output_type": "display_data"
    },
    {
     "data": {
      "image/png": "[encoded data removed]",
      "text/plain": [
       "<Figure size 864x720 with 1 Axes>"
      ]
     },
     "metadata": {
      "needs_background": "light"
     },
     "output_type": "display_data"
    },
    {
     "data": {
      "image/png": "[encoded data removed]",
      "text/plain": [
       "<Figure size 864x720 with 1 Axes>"
      ]
     },
     "metadata": {
      "needs_background": "light"
     },
     "output_type": "display_data"
    },
    {
     "data": {
      "image/png": "[encoded data removed]",
      "text/plain": [
       "<Figure size 864x720 with 1 Axes>"
      ]
     },
     "metadata": {
      "needs_background": "light"
     },
     "output_type": "display_data"
    },
    {
     "data": {
      "image/png": "[encoded data removed]",
      "text/plain": [
       "<Figure size 864x720 with 1 Axes>"
      ]
     },
     "metadata": {
      "needs_background": "light"
     },
     "output_type": "display_data"
    }
   ],
   "source": [
    "# numerical\n",
    "for col in numerical:\n",
    "    fig, ax = plt.subplots(figsize=(12,10))\n",
    "    plt.title(col)\n",
    "    sns.distplot(train[col], ax=ax)"
   ]
  },
  {
   "cell_type": "code",
   "execution_count": 15,
   "metadata": {},
   "outputs": [
    {
     "data": {
      "image/png": "[encoded data removed]",
      "text/plain": [
       "<Figure size 864x720 with 1 Axes>"
      ]
     },
     "metadata": {
      "needs_background": "light"
     },
     "output_type": "display_data"
    },
    {
     "data": {
      "image/png": "[encoded data removed]",
      "text/plain": [
       "<Figure size 864x720 with 1 Axes>"
      ]
     },
     "metadata": {
      "needs_background": "light"
     },
     "output_type": "display_data"
    },
    {
     "data": {
      "image/png": "[encoded data removed]",
      "text/plain": [
       "<Figure size 864x720 with 1 Axes>"
      ]
     },
     "metadata": {
      "needs_background": "light"
     },
     "output_type": "display_data"
    },
    {
     "data": {
      "image/png": "[encoded data removed]",
      "text/plain": [
       "<Figure size 864x720 with 1 Axes>"
      ]
     },
     "metadata": {
      "needs_background": "light"
     },
     "output_type": "display_data"
    },
    {
     "data": {
      "image/png": "[encoded data removed]",
      "text/plain": [
       "<Figure size 864x720 with 1 Axes>"
      ]
     },
     "metadata": {
      "needs_background": "light"
     },
     "output_type": "display_data"
    }
   ],
   "source": [
    "# categorical\n",
    "for col in categorical:\n",
    "    fig, ax = plt.subplots(figsize=(12,10))\n",
    "    plt.title(col)\n",
    "    sns.countplot(train[col], ax=ax, hue=train['Attrition_Flag'])"
   ]
  },
  {
   "cell_type": "markdown",
   "metadata": {},
   "source": [
    "결측치는 없지만 `Unkown` 값이 있기에 제거해줌."
   ]
  },
  {
   "cell_type": "code",
   "execution_count": 16,
   "metadata": {},
   "outputs": [
    {
     "data": {
      "text/plain": [
       "8101"
      ]
     },
     "execution_count": 16,
     "metadata": {},
     "output_type": "execute_result"
    }
   ],
   "source": [
    "train.shape[0]"
   ]
  },
  {
   "cell_type": "code",
   "execution_count": 17,
   "metadata": {},
   "outputs": [
    {
     "data": {
      "text/plain": [
       "5673"
      ]
     },
     "execution_count": 17,
     "metadata": {},
     "output_type": "execute_result"
    }
   ],
   "source": [
    "# 결측치 처리\n",
    "train_drop_na = train.mask(train.eq('Unknown')).dropna()\n",
    "train_drop_na.shape[0]"
   ]
  },
  {
   "cell_type": "code",
   "execution_count": 18,
   "metadata": {},
   "outputs": [
    {
     "data": {
      "text/plain": [
       "2026"
      ]
     },
     "execution_count": 18,
     "metadata": {},
     "output_type": "execute_result"
    }
   ],
   "source": [
    "test.shape[0]"
   ]
  },
  {
   "cell_type": "code",
   "execution_count": 19,
   "metadata": {},
   "outputs": [
    {
     "data": {
      "text/plain": [
       "1408"
      ]
     },
     "execution_count": 19,
     "metadata": {},
     "output_type": "execute_result"
    }
   ],
   "source": [
    "test_drop_na = test.mask(test.eq('Unknown')).dropna()\n",
    "test_drop_na.shape[0]"
   ]
  },
  {
   "cell_type": "code",
   "execution_count": 20,
   "metadata": {},
   "outputs": [
    {
     "data": {
      "text/html": [
       "<div>\n",
       "<style scoped>\n",
       "    .dataframe tbody tr th:only-of-type {\n",
       "        vertical-align: middle;\n",
       "    }\n",
       "\n",
       "    .dataframe tbody tr th {\n",
       "        vertical-align: top;\n",
       "    }\n",
       "\n",
       "    .dataframe thead th {\n",
       "        text-align: right;\n",
       "    }\n",
       "</style>\n",
       "<table border=\"1\" class=\"dataframe\">\n",
       "  <thead>\n",
       "    <tr style=\"text-align: right;\">\n",
       "      <th></th>\n",
       "      <th>Customer_Age</th>\n",
       "      <th>Gender</th>\n",
       "      <th>Dependent_count</th>\n",
       "      <th>Education_Level</th>\n",
       "      <th>Marital_Status</th>\n",
       "      <th>Income_Category</th>\n",
       "      <th>Card_Category</th>\n",
       "      <th>Months_on_book</th>\n",
       "      <th>Total_Relationship_Count</th>\n",
       "      <th>Months_Inactive_12_mon</th>\n",
       "      <th>Contacts_Count_12_mon</th>\n",
       "      <th>Credit_Limit</th>\n",
       "      <th>Total_Revolving_Bal</th>\n",
       "      <th>Avg_Open_To_Buy</th>\n",
       "      <th>Total_Amt_Chng_Q4_Q1</th>\n",
       "      <th>Total_Trans_Amt</th>\n",
       "      <th>Total_Trans_Ct</th>\n",
       "      <th>Total_Ct_Chng_Q4_Q1</th>\n",
       "      <th>Avg_Utilization_Ratio</th>\n",
       "      <th>Attrition_Flag</th>\n",
       "    </tr>\n",
       "  </thead>\n",
       "  <tbody>\n",
       "    <tr>\n",
       "      <th>0</th>\n",
       "      <td>44</td>\n",
       "      <td>F</td>\n",
       "      <td>1</td>\n",
       "      <td>Unknown</td>\n",
       "      <td>Divorced</td>\n",
       "      <td>Unknown</td>\n",
       "      <td>Blue</td>\n",
       "      <td>36</td>\n",
       "      <td>3</td>\n",
       "      <td>2</td>\n",
       "      <td>1</td>\n",
       "      <td>17116.0</td>\n",
       "      <td>1289</td>\n",
       "      <td>15827.0</td>\n",
       "      <td>0.559</td>\n",
       "      <td>3632</td>\n",
       "      <td>50</td>\n",
       "      <td>0.923</td>\n",
       "      <td>0.075</td>\n",
       "      <td>0</td>\n",
       "    </tr>\n",
       "    <tr>\n",
       "      <th>1</th>\n",
       "      <td>42</td>\n",
       "      <td>M</td>\n",
       "      <td>3</td>\n",
       "      <td>Uneducated</td>\n",
       "      <td>Single</td>\n",
       "      <td>$60K - $80K</td>\n",
       "      <td>Blue</td>\n",
       "      <td>30</td>\n",
       "      <td>4</td>\n",
       "      <td>2</td>\n",
       "      <td>3</td>\n",
       "      <td>8302.0</td>\n",
       "      <td>1294</td>\n",
       "      <td>7008.0</td>\n",
       "      <td>0.558</td>\n",
       "      <td>3221</td>\n",
       "      <td>66</td>\n",
       "      <td>0.610</td>\n",
       "      <td>0.156</td>\n",
       "      <td>0</td>\n",
       "    </tr>\n",
       "    <tr>\n",
       "      <th>2</th>\n",
       "      <td>57</td>\n",
       "      <td>M</td>\n",
       "      <td>0</td>\n",
       "      <td>Uneducated</td>\n",
       "      <td>Divorced</td>\n",
       "      <td>$80K - $120K</td>\n",
       "      <td>Blue</td>\n",
       "      <td>39</td>\n",
       "      <td>4</td>\n",
       "      <td>4</td>\n",
       "      <td>3</td>\n",
       "      <td>2795.0</td>\n",
       "      <td>1832</td>\n",
       "      <td>963.0</td>\n",
       "      <td>0.839</td>\n",
       "      <td>4679</td>\n",
       "      <td>67</td>\n",
       "      <td>0.861</td>\n",
       "      <td>0.655</td>\n",
       "      <td>0</td>\n",
       "    </tr>\n",
       "    <tr>\n",
       "      <th>3</th>\n",
       "      <td>26</td>\n",
       "      <td>F</td>\n",
       "      <td>1</td>\n",
       "      <td>Graduate</td>\n",
       "      <td>Single</td>\n",
       "      <td>$40K - $60K</td>\n",
       "      <td>Blue</td>\n",
       "      <td>20</td>\n",
       "      <td>6</td>\n",
       "      <td>3</td>\n",
       "      <td>3</td>\n",
       "      <td>1438.3</td>\n",
       "      <td>673</td>\n",
       "      <td>765.3</td>\n",
       "      <td>0.595</td>\n",
       "      <td>2167</td>\n",
       "      <td>48</td>\n",
       "      <td>0.412</td>\n",
       "      <td>0.468</td>\n",
       "      <td>0</td>\n",
       "    </tr>\n",
       "    <tr>\n",
       "      <th>4</th>\n",
       "      <td>38</td>\n",
       "      <td>F</td>\n",
       "      <td>0</td>\n",
       "      <td>Uneducated</td>\n",
       "      <td>Married</td>\n",
       "      <td>Less than $40K</td>\n",
       "      <td>Blue</td>\n",
       "      <td>26</td>\n",
       "      <td>5</td>\n",
       "      <td>1</td>\n",
       "      <td>4</td>\n",
       "      <td>2230.0</td>\n",
       "      <td>0</td>\n",
       "      <td>2230.0</td>\n",
       "      <td>0.896</td>\n",
       "      <td>3766</td>\n",
       "      <td>63</td>\n",
       "      <td>0.909</td>\n",
       "      <td>0.000</td>\n",
       "      <td>0</td>\n",
       "    </tr>\n",
       "  </tbody>\n",
       "</table>\n",
       "</div>"
      ],
      "text/plain": [
       "   Customer_Age Gender  Dependent_count Education_Level Marital_Status  \\\n",
       "0            44      F                1         Unknown       Divorced   \n",
       "1            42      M                3      Uneducated         Single   \n",
       "2            57      M                0      Uneducated       Divorced   \n",
       "3            26      F                1        Graduate         Single   \n",
       "4            38      F                0      Uneducated        Married   \n",
       "\n",
       "  Income_Category Card_Category  Months_on_book  Total_Relationship_Count  \\\n",
       "0         Unknown          Blue              36                         3   \n",
       "1     $60K - $80K          Blue              30                         4   \n",
       "2    $80K - $120K          Blue              39                         4   \n",
       "3     $40K - $60K          Blue              20                         6   \n",
       "4  Less than $40K          Blue              26                         5   \n",
       "\n",
       "   Months_Inactive_12_mon  Contacts_Count_12_mon  Credit_Limit  \\\n",
       "0                       2                      1       17116.0   \n",
       "1                       2                      3        8302.0   \n",
       "2                       4                      3        2795.0   \n",
       "3                       3                      3        1438.3   \n",
       "4                       1                      4        2230.0   \n",
       "\n",
       "   Total_Revolving_Bal  Avg_Open_To_Buy  Total_Amt_Chng_Q4_Q1  \\\n",
       "0                 1289          15827.0                 0.559   \n",
       "1                 1294           7008.0                 0.558   \n",
       "2                 1832            963.0                 0.839   \n",
       "3                  673            765.3                 0.595   \n",
       "4                    0           2230.0                 0.896   \n",
       "\n",
       "   Total_Trans_Amt  Total_Trans_Ct  Total_Ct_Chng_Q4_Q1  \\\n",
       "0             3632              50                0.923   \n",
       "1             3221              66                0.610   \n",
       "2             4679              67                0.861   \n",
       "3             2167              48                0.412   \n",
       "4             3766              63                0.909   \n",
       "\n",
       "   Avg_Utilization_Ratio  Attrition_Flag  \n",
       "0                  0.075               0  \n",
       "1                  0.156               0  \n",
       "2                  0.655               0  \n",
       "3                  0.468               0  \n",
       "4                  0.000               0  "
      ]
     },
     "execution_count": 20,
     "metadata": {},
     "output_type": "execute_result"
    }
   ],
   "source": [
    "# Label Encoder\n",
    "from sklearn.preprocessing import LabelEncoder\n",
    "\n",
    "encoder = LabelEncoder()\n",
    "\n",
    "train['Attrition_Flag'] = encoder.fit_transform(train['Attrition_Flag'])\n",
    "train.head()"
   ]
  },
  {
   "cell_type": "code",
   "execution_count": 21,
   "metadata": {},
   "outputs": [
    {
     "data": {
      "text/html": [
       "<div>\n",
       "<style scoped>\n",
       "    .dataframe tbody tr th:only-of-type {\n",
       "        vertical-align: middle;\n",
       "    }\n",
       "\n",
       "    .dataframe tbody tr th {\n",
       "        vertical-align: top;\n",
       "    }\n",
       "\n",
       "    .dataframe thead th {\n",
       "        text-align: right;\n",
       "    }\n",
       "</style>\n",
       "<table border=\"1\" class=\"dataframe\">\n",
       "  <thead>\n",
       "    <tr style=\"text-align: right;\">\n",
       "      <th></th>\n",
       "      <th>Customer_Age</th>\n",
       "      <th>Gender</th>\n",
       "      <th>Dependent_count</th>\n",
       "      <th>Education_Level</th>\n",
       "      <th>Marital_Status</th>\n",
       "      <th>Income_Category</th>\n",
       "      <th>Card_Category</th>\n",
       "      <th>Months_on_book</th>\n",
       "      <th>Total_Relationship_Count</th>\n",
       "      <th>Months_Inactive_12_mon</th>\n",
       "      <th>Contacts_Count_12_mon</th>\n",
       "      <th>Credit_Limit</th>\n",
       "      <th>Total_Revolving_Bal</th>\n",
       "      <th>Avg_Open_To_Buy</th>\n",
       "      <th>Total_Amt_Chng_Q4_Q1</th>\n",
       "      <th>Total_Trans_Amt</th>\n",
       "      <th>Total_Trans_Ct</th>\n",
       "      <th>Total_Ct_Chng_Q4_Q1</th>\n",
       "      <th>Avg_Utilization_Ratio</th>\n",
       "      <th>Attrition_Flag</th>\n",
       "    </tr>\n",
       "  </thead>\n",
       "  <tbody>\n",
       "    <tr>\n",
       "      <th>0</th>\n",
       "      <td>44</td>\n",
       "      <td>0</td>\n",
       "      <td>1</td>\n",
       "      <td>6</td>\n",
       "      <td>0</td>\n",
       "      <td>5</td>\n",
       "      <td>0</td>\n",
       "      <td>36</td>\n",
       "      <td>3</td>\n",
       "      <td>2</td>\n",
       "      <td>1</td>\n",
       "      <td>17116.0</td>\n",
       "      <td>1289</td>\n",
       "      <td>15827.0</td>\n",
       "      <td>0.559</td>\n",
       "      <td>3632</td>\n",
       "      <td>50</td>\n",
       "      <td>0.923</td>\n",
       "      <td>0.075</td>\n",
       "      <td>0</td>\n",
       "    </tr>\n",
       "    <tr>\n",
       "      <th>1</th>\n",
       "      <td>42</td>\n",
       "      <td>1</td>\n",
       "      <td>3</td>\n",
       "      <td>5</td>\n",
       "      <td>2</td>\n",
       "      <td>2</td>\n",
       "      <td>0</td>\n",
       "      <td>30</td>\n",
       "      <td>4</td>\n",
       "      <td>2</td>\n",
       "      <td>3</td>\n",
       "      <td>8302.0</td>\n",
       "      <td>1294</td>\n",
       "      <td>7008.0</td>\n",
       "      <td>0.558</td>\n",
       "      <td>3221</td>\n",
       "      <td>66</td>\n",
       "      <td>0.610</td>\n",
       "      <td>0.156</td>\n",
       "      <td>0</td>\n",
       "    </tr>\n",
       "    <tr>\n",
       "      <th>2</th>\n",
       "      <td>57</td>\n",
       "      <td>1</td>\n",
       "      <td>0</td>\n",
       "      <td>5</td>\n",
       "      <td>0</td>\n",
       "      <td>3</td>\n",
       "      <td>0</td>\n",
       "      <td>39</td>\n",
       "      <td>4</td>\n",
       "      <td>4</td>\n",
       "      <td>3</td>\n",
       "      <td>2795.0</td>\n",
       "      <td>1832</td>\n",
       "      <td>963.0</td>\n",
       "      <td>0.839</td>\n",
       "      <td>4679</td>\n",
       "      <td>67</td>\n",
       "      <td>0.861</td>\n",
       "      <td>0.655</td>\n",
       "      <td>0</td>\n",
       "    </tr>\n",
       "    <tr>\n",
       "      <th>3</th>\n",
       "      <td>26</td>\n",
       "      <td>0</td>\n",
       "      <td>1</td>\n",
       "      <td>2</td>\n",
       "      <td>2</td>\n",
       "      <td>1</td>\n",
       "      <td>0</td>\n",
       "      <td>20</td>\n",
       "      <td>6</td>\n",
       "      <td>3</td>\n",
       "      <td>3</td>\n",
       "      <td>1438.3</td>\n",
       "      <td>673</td>\n",
       "      <td>765.3</td>\n",
       "      <td>0.595</td>\n",
       "      <td>2167</td>\n",
       "      <td>48</td>\n",
       "      <td>0.412</td>\n",
       "      <td>0.468</td>\n",
       "      <td>0</td>\n",
       "    </tr>\n",
       "    <tr>\n",
       "      <th>4</th>\n",
       "      <td>38</td>\n",
       "      <td>0</td>\n",
       "      <td>0</td>\n",
       "      <td>5</td>\n",
       "      <td>1</td>\n",
       "      <td>4</td>\n",
       "      <td>0</td>\n",
       "      <td>26</td>\n",
       "      <td>5</td>\n",
       "      <td>1</td>\n",
       "      <td>4</td>\n",
       "      <td>2230.0</td>\n",
       "      <td>0</td>\n",
       "      <td>2230.0</td>\n",
       "      <td>0.896</td>\n",
       "      <td>3766</td>\n",
       "      <td>63</td>\n",
       "      <td>0.909</td>\n",
       "      <td>0.000</td>\n",
       "      <td>0</td>\n",
       "    </tr>\n",
       "  </tbody>\n",
       "</table>\n",
       "</div>"
      ],
      "text/plain": [
       "   Customer_Age  Gender  Dependent_count  Education_Level  Marital_Status  \\\n",
       "0            44       0                1                6               0   \n",
       "1            42       1                3                5               2   \n",
       "2            57       1                0                5               0   \n",
       "3            26       0                1                2               2   \n",
       "4            38       0                0                5               1   \n",
       "\n",
       "   Income_Category  Card_Category  Months_on_book  Total_Relationship_Count  \\\n",
       "0                5              0              36                         3   \n",
       "1                2              0              30                         4   \n",
       "2                3              0              39                         4   \n",
       "3                1              0              20                         6   \n",
       "4                4              0              26                         5   \n",
       "\n",
       "   Months_Inactive_12_mon  Contacts_Count_12_mon  Credit_Limit  \\\n",
       "0                       2                      1       17116.0   \n",
       "1                       2                      3        8302.0   \n",
       "2                       4                      3        2795.0   \n",
       "3                       3                      3        1438.3   \n",
       "4                       1                      4        2230.0   \n",
       "\n",
       "   Total_Revolving_Bal  Avg_Open_To_Buy  Total_Amt_Chng_Q4_Q1  \\\n",
       "0                 1289          15827.0                 0.559   \n",
       "1                 1294           7008.0                 0.558   \n",
       "2                 1832            963.0                 0.839   \n",
       "3                  673            765.3                 0.595   \n",
       "4                    0           2230.0                 0.896   \n",
       "\n",
       "   Total_Trans_Amt  Total_Trans_Ct  Total_Ct_Chng_Q4_Q1  \\\n",
       "0             3632              50                0.923   \n",
       "1             3221              66                0.610   \n",
       "2             4679              67                0.861   \n",
       "3             2167              48                0.412   \n",
       "4             3766              63                0.909   \n",
       "\n",
       "   Avg_Utilization_Ratio  Attrition_Flag  \n",
       "0                  0.075               0  \n",
       "1                  0.156               0  \n",
       "2                  0.655               0  \n",
       "3                  0.468               0  \n",
       "4                  0.000               0  "
      ]
     },
     "execution_count": 21,
     "metadata": {},
     "output_type": "execute_result"
    }
   ],
   "source": [
    "categorical_cols = categorical.columns.tolist()\n",
    "\n",
    "le = LabelEncoder()\n",
    "\n",
    "train[categorical_cols] = train[categorical_cols].apply(lambda col:le.fit_transform(col))\n",
    "\n",
    "train.head()"
   ]
  },
  {
   "cell_type": "code",
   "execution_count": 22,
   "metadata": {},
   "outputs": [
    {
     "data": {
      "text/html": [
       "<div>\n",
       "<style scoped>\n",
       "    .dataframe tbody tr th:only-of-type {\n",
       "        vertical-align: middle;\n",
       "    }\n",
       "\n",
       "    .dataframe tbody tr th {\n",
       "        vertical-align: top;\n",
       "    }\n",
       "\n",
       "    .dataframe thead th {\n",
       "        text-align: right;\n",
       "    }\n",
       "</style>\n",
       "<table border=\"1\" class=\"dataframe\">\n",
       "  <thead>\n",
       "    <tr style=\"text-align: right;\">\n",
       "      <th></th>\n",
       "      <th>Customer_Age</th>\n",
       "      <th>Gender</th>\n",
       "      <th>Dependent_count</th>\n",
       "      <th>Education_Level</th>\n",
       "      <th>Marital_Status</th>\n",
       "      <th>Income_Category</th>\n",
       "      <th>Card_Category</th>\n",
       "      <th>Months_on_book</th>\n",
       "      <th>Total_Relationship_Count</th>\n",
       "      <th>Months_Inactive_12_mon</th>\n",
       "      <th>Contacts_Count_12_mon</th>\n",
       "      <th>Credit_Limit</th>\n",
       "      <th>Total_Revolving_Bal</th>\n",
       "      <th>Avg_Open_To_Buy</th>\n",
       "      <th>Total_Amt_Chng_Q4_Q1</th>\n",
       "      <th>Total_Trans_Amt</th>\n",
       "      <th>Total_Trans_Ct</th>\n",
       "      <th>Total_Ct_Chng_Q4_Q1</th>\n",
       "      <th>Avg_Utilization_Ratio</th>\n",
       "    </tr>\n",
       "  </thead>\n",
       "  <tbody>\n",
       "    <tr>\n",
       "      <th>0</th>\n",
       "      <td>53</td>\n",
       "      <td>0</td>\n",
       "      <td>2</td>\n",
       "      <td>0</td>\n",
       "      <td>2</td>\n",
       "      <td>4</td>\n",
       "      <td>0</td>\n",
       "      <td>45</td>\n",
       "      <td>6</td>\n",
       "      <td>3</td>\n",
       "      <td>3</td>\n",
       "      <td>6210.0</td>\n",
       "      <td>1083</td>\n",
       "      <td>5127.0</td>\n",
       "      <td>0.621</td>\n",
       "      <td>3095</td>\n",
       "      <td>62</td>\n",
       "      <td>0.590</td>\n",
       "      <td>0.174</td>\n",
       "    </tr>\n",
       "    <tr>\n",
       "      <th>1</th>\n",
       "      <td>52</td>\n",
       "      <td>1</td>\n",
       "      <td>1</td>\n",
       "      <td>0</td>\n",
       "      <td>1</td>\n",
       "      <td>3</td>\n",
       "      <td>0</td>\n",
       "      <td>48</td>\n",
       "      <td>4</td>\n",
       "      <td>3</td>\n",
       "      <td>3</td>\n",
       "      <td>2066.0</td>\n",
       "      <td>1601</td>\n",
       "      <td>465.0</td>\n",
       "      <td>0.742</td>\n",
       "      <td>1578</td>\n",
       "      <td>41</td>\n",
       "      <td>0.414</td>\n",
       "      <td>0.775</td>\n",
       "    </tr>\n",
       "    <tr>\n",
       "      <th>2</th>\n",
       "      <td>27</td>\n",
       "      <td>1</td>\n",
       "      <td>0</td>\n",
       "      <td>6</td>\n",
       "      <td>1</td>\n",
       "      <td>1</td>\n",
       "      <td>0</td>\n",
       "      <td>14</td>\n",
       "      <td>4</td>\n",
       "      <td>1</td>\n",
       "      <td>4</td>\n",
       "      <td>3823.0</td>\n",
       "      <td>2130</td>\n",
       "      <td>1693.0</td>\n",
       "      <td>0.371</td>\n",
       "      <td>2026</td>\n",
       "      <td>49</td>\n",
       "      <td>0.441</td>\n",
       "      <td>0.557</td>\n",
       "    </tr>\n",
       "    <tr>\n",
       "      <th>3</th>\n",
       "      <td>43</td>\n",
       "      <td>1</td>\n",
       "      <td>3</td>\n",
       "      <td>6</td>\n",
       "      <td>2</td>\n",
       "      <td>2</td>\n",
       "      <td>0</td>\n",
       "      <td>34</td>\n",
       "      <td>6</td>\n",
       "      <td>2</td>\n",
       "      <td>0</td>\n",
       "      <td>13771.0</td>\n",
       "      <td>2517</td>\n",
       "      <td>11254.0</td>\n",
       "      <td>0.501</td>\n",
       "      <td>1510</td>\n",
       "      <td>42</td>\n",
       "      <td>0.750</td>\n",
       "      <td>0.183</td>\n",
       "    </tr>\n",
       "    <tr>\n",
       "      <th>4</th>\n",
       "      <td>55</td>\n",
       "      <td>0</td>\n",
       "      <td>2</td>\n",
       "      <td>3</td>\n",
       "      <td>1</td>\n",
       "      <td>1</td>\n",
       "      <td>0</td>\n",
       "      <td>42</td>\n",
       "      <td>2</td>\n",
       "      <td>2</td>\n",
       "      <td>3</td>\n",
       "      <td>5431.0</td>\n",
       "      <td>2007</td>\n",
       "      <td>3424.0</td>\n",
       "      <td>0.661</td>\n",
       "      <td>4569</td>\n",
       "      <td>82</td>\n",
       "      <td>0.608</td>\n",
       "      <td>0.370</td>\n",
       "    </tr>\n",
       "  </tbody>\n",
       "</table>\n",
       "</div>"
      ],
      "text/plain": [
       "   Customer_Age  Gender  Dependent_count  Education_Level  Marital_Status  \\\n",
       "0            53       0                2                0               2   \n",
       "1            52       1                1                0               1   \n",
       "2            27       1                0                6               1   \n",
       "3            43       1                3                6               2   \n",
       "4            55       0                2                3               1   \n",
       "\n",
       "   Income_Category  Card_Category  Months_on_book  Total_Relationship_Count  \\\n",
       "0                4              0              45                         6   \n",
       "1                3              0              48                         4   \n",
       "2                1              0              14                         4   \n",
       "3                2              0              34                         6   \n",
       "4                1              0              42                         2   \n",
       "\n",
       "   Months_Inactive_12_mon  Contacts_Count_12_mon  Credit_Limit  \\\n",
       "0                       3                      3        6210.0   \n",
       "1                       3                      3        2066.0   \n",
       "2                       1                      4        3823.0   \n",
       "3                       2                      0       13771.0   \n",
       "4                       2                      3        5431.0   \n",
       "\n",
       "   Total_Revolving_Bal  Avg_Open_To_Buy  Total_Amt_Chng_Q4_Q1  \\\n",
       "0                 1083           5127.0                 0.621   \n",
       "1                 1601            465.0                 0.742   \n",
       "2                 2130           1693.0                 0.371   \n",
       "3                 2517          11254.0                 0.501   \n",
       "4                 2007           3424.0                 0.661   \n",
       "\n",
       "   Total_Trans_Amt  Total_Trans_Ct  Total_Ct_Chng_Q4_Q1  Avg_Utilization_Ratio  \n",
       "0             3095              62                0.590                  0.174  \n",
       "1             1578              41                0.414                  0.775  \n",
       "2             2026              49                0.441                  0.557  \n",
       "3             1510              42                0.750                  0.183  \n",
       "4             4569              82                0.608                  0.370  "
      ]
     },
     "execution_count": 22,
     "metadata": {},
     "output_type": "execute_result"
    }
   ],
   "source": [
    "test[categorical_cols] = test[categorical_cols].apply(lambda col:le.fit_transform(col))\n",
    "test.head()"
   ]
  },
  {
   "cell_type": "code",
   "execution_count": 23,
   "metadata": {},
   "outputs": [],
   "source": [
    "features = test.columns.tolist()\n",
    "target = 'Attrition_Flag'\n",
    "\n",
    "X_train = train[features]\n",
    "y_train = train[target]\n",
    "\n",
    "X_test = test[features]"
   ]
  },
  {
   "cell_type": "code",
   "execution_count": 24,
   "metadata": {},
   "outputs": [
    {
     "name": "stdout",
     "output_type": "stream",
     "text": [
      "existing customers : 6799\n",
      "\n",
      "attrited customers : 1302\n",
      "\n"
     ]
    }
   ],
   "source": [
    "# SMOTE\n",
    "print('existing customers : {}\\n'.format(len(train[train['Attrition_Flag'] == 0])))\n",
    "print('attrited customers : {}\\n'.format(len(train[train['Attrition_Flag'] == 1])))"
   ]
  },
  {
   "cell_type": "code",
   "execution_count": 26,
   "metadata": {},
   "outputs": [],
   "source": [
    "from sklearn.model_selection import train_test_split\n",
    "\n",
    "train_X, val_X, train_y, val_y = train_test_split(X_train, y_train, test_size=0.2, random_state=0, stratify=y_train)"
   ]
  },
  {
   "cell_type": "code",
   "execution_count": 27,
   "metadata": {},
   "outputs": [],
   "source": [
    "from imblearn.over_sampling import SMOTE\n",
    "\n",
    "smote = SMOTE(random_state=0)\n",
    "\n",
    "X_train_over, y_train_over = smote.fit_resample(train_X, train_y)"
   ]
  },
  {
   "cell_type": "code",
   "execution_count": 28,
   "metadata": {},
   "outputs": [
    {
     "name": "stdout",
     "output_type": "stream",
     "text": [
      "SMOTE 적용 전 학습용 피처/레이블 데이터 세트 :  (6480, 19) (6480,)\n",
      "SMOTE 적용 후 학습용 피처/레이블 데이터 세트 :  (10878, 19) (10878,)\n",
      "SMOTE 적용 후 레이블 값 분포: \n",
      " 0    5439\n",
      "1    5439\n",
      "Name: Attrition_Flag, dtype: int64\n"
     ]
    }
   ],
   "source": [
    "print('SMOTE 적용 전 학습용 피처/레이블 데이터 세트 : ', train_X.shape, train_y.shape)\n",
    "print('SMOTE 적용 후 학습용 피처/레이블 데이터 세트 : ', X_train_over.shape, y_train_over.shape)\n",
    "print('SMOTE 적용 후 레이블 값 분포: \\n', pd.Series(y_train_over).value_counts())"
   ]
  },
  {
   "cell_type": "markdown",
   "metadata": {
    "id": "2RCJVcg-ac-P"
   },
   "source": [
    "# Model"
   ]
  },
  {
   "cell_type": "markdown",
   "metadata": {
    "id": "oxAYssGibTQ8"
   },
   "source": [
    "저는 라벨인코딩만을 이용한 간단한 베이스 라인 모델을 만들었습니다.\n",
    "\n",
    "16기 분들은 feature engineering, 하이퍼 파라미터 튜닝, 앙상블 등 다양한 방법으로 성능이 우수한 모델을 만들어보세요!"
   ]
  },
  {
   "cell_type": "markdown",
   "metadata": {
    "id": "SpTY_Cx9hAIM"
   },
   "source": [
    "### Logistic Regression"
   ]
  },
  {
   "cell_type": "code",
   "execution_count": 29,
   "metadata": {},
   "outputs": [],
   "source": [
    "from sklearn.linear_model import LogisticRegression\n",
    "from sklearn.metrics import log_loss\n",
    "from sklearn.metrics import accuracy_score"
   ]
  },
  {
   "cell_type": "code",
   "execution_count": 30,
   "metadata": {},
   "outputs": [
    {
     "name": "stdout",
     "output_type": "stream",
     "text": [
      "LogisticRegression Logloss Score :  0.2760802938368316\n",
      "LogisticRegression Accuracy Score :  0.8864898210980876\n"
     ]
    }
   ],
   "source": [
    "log_clf = LogisticRegression(random_state=0)\n",
    "log_clf.fit(train_X, train_y)\n",
    "y_pred = log_clf.predict_proba(val_X)\n",
    "print('LogisticRegression Logloss Score : ', log_loss(val_y, y_pred))\n",
    "print('LogisticRegression Accuracy Score : ', accuracy_score(val_y, np.argmax(y_pred, axis=1)))"
   ]
  },
  {
   "cell_type": "markdown",
   "metadata": {},
   "source": [
    "### SVC"
   ]
  },
  {
   "cell_type": "code",
   "execution_count": 31,
   "metadata": {},
   "outputs": [
    {
     "name": "stdout",
     "output_type": "stream",
     "text": [
      "SVC Logloss Score :  0.33335035252342626\n",
      "SVC Accuracy Score :  0.8710672424429364\n"
     ]
    }
   ],
   "source": [
    "from sklearn.svm import SVC\n",
    "\n",
    "svm_clf = SVC(probability=True, random_state=0)\n",
    "svm_clf.fit(train_X, train_y)\n",
    "y_pred = svm_clf.predict_proba(val_X)\n",
    "print('SVC Logloss Score : ', log_loss(val_y, y_pred))\n",
    "print('SVC Accuracy Score : ', accuracy_score(val_y, np.argmax(y_pred, axis=1)))"
   ]
  },
  {
   "cell_type": "markdown",
   "metadata": {},
   "source": [
    "### DecisionTreeClassifier"
   ]
  },
  {
   "cell_type": "code",
   "execution_count": 32,
   "metadata": {},
   "outputs": [
    {
     "name": "stdout",
     "output_type": "stream",
     "text": [
      "DecisionTreeClassifier Logloss Score :  2.2159363017092613\n",
      "DecisionTreeClassifier Accuracy Score:  0.9358420727945712\n"
     ]
    }
   ],
   "source": [
    "from sklearn.tree import DecisionTreeClassifier\n",
    "\n",
    "dt_clf = DecisionTreeClassifier(random_state=0, max_depth=None)\n",
    "dt_clf.fit(train_X, train_y)\n",
    "y_pred = dt_clf.predict_proba(val_X)\n",
    "print('DecisionTreeClassifier Logloss Score : ', log_loss(val_y, y_pred))\n",
    "print('DecisionTreeClassifier Accuracy Score: ', accuracy_score(val_y, np.argmax(y_pred, axis=1)))"
   ]
  },
  {
   "cell_type": "markdown",
   "metadata": {},
   "source": [
    "### Bagging"
   ]
  },
  {
   "cell_type": "code",
   "execution_count": 33,
   "metadata": {},
   "outputs": [
    {
     "name": "stdout",
     "output_type": "stream",
     "text": [
      "BaggingClassifier Logloss Score :  0.1070783526229743\n",
      "BaggingClassifier Accuracy Score:  0.958667489204195\n"
     ]
    }
   ],
   "source": [
    "from sklearn.ensemble import BaggingClassifier\n",
    "\n",
    "dt_clf2 = DecisionTreeClassifier(random_state=0, max_depth=None)\n",
    "bag_clf = BaggingClassifier(dt_clf2, n_estimators=500, bootstrap=True, n_jobs=-1)\n",
    "bag_clf.fit(train_X, train_y)\n",
    "y_pred = bag_clf.predict_proba(val_X)\n",
    "print('BaggingClassifier Logloss Score : ', log_loss(val_y, y_pred))\n",
    "print('BaggingClassifier Accuracy Score: ', accuracy_score(val_y, np.argmax(y_pred, axis=1)))"
   ]
  },
  {
   "cell_type": "markdown",
   "metadata": {},
   "source": [
    "### RandomForest"
   ]
  },
  {
   "cell_type": "code",
   "execution_count": 34,
   "metadata": {},
   "outputs": [
    {
     "name": "stdout",
     "output_type": "stream",
     "text": [
      "RandomForest Logloss Score :  0.12459294901146314\n",
      "RandomForest Accuracy Score:  0.9561998766193708\n"
     ]
    }
   ],
   "source": [
    "from sklearn.ensemble import RandomForestClassifier\n",
    "\n",
    "rf_clf = RandomForestClassifier(random_state=0, n_estimators = 500, n_jobs=-1)\n",
    "rf_clf.fit(train_X, train_y)\n",
    "y_pred = rf_clf.predict_proba(val_X)\n",
    "print('RandomForest Logloss Score : ', log_loss(val_y, y_pred))\n",
    "print('RandomForest Accuracy Score: ', accuracy_score(val_y, np.argmax(y_pred, axis=1)))      "
   ]
  },
  {
   "cell_type": "markdown",
   "metadata": {},
   "source": [
    "### Adaboost"
   ]
  },
  {
   "cell_type": "code",
   "execution_count": 35,
   "metadata": {},
   "outputs": [
    {
     "name": "stdout",
     "output_type": "stream",
     "text": [
      "AdaBoost Logloss Score :  2.1520150622368788\n",
      "AdaBoost Accuracy Score:  0.9376927822331894\n"
     ]
    }
   ],
   "source": [
    "from sklearn.ensemble import AdaBoostClassifier\n",
    "\n",
    "ada_clf = AdaBoostClassifier(base_estimator = dt_clf2, n_estimators=500, learning_rate=0.1, random_state=0)\n",
    "ada_clf.fit(train_X, train_y)\n",
    "y_pred = ada_clf.predict_proba(val_X)\n",
    "print('AdaBoost Logloss Score : ', log_loss(val_y, y_pred))\n",
    "print('AdaBoost Accuracy Score: ', accuracy_score(val_y, np.argmax(y_pred, axis=1)))  "
   ]
  },
  {
   "cell_type": "markdown",
   "metadata": {},
   "source": [
    "### Gradient Boosting"
   ]
  },
  {
   "cell_type": "code",
   "execution_count": 36,
   "metadata": {},
   "outputs": [
    {
     "name": "stdout",
     "output_type": "stream",
     "text": [
      "GradientBoosting Logloss Score :  0.07297967170448191\n",
      "GradientBoosting Accuracy Score:  0.972239358420728\n"
     ]
    }
   ],
   "source": [
    "from sklearn.ensemble import GradientBoostingClassifier\n",
    "gb_clf = GradientBoostingClassifier(n_estimators=500, learning_rate=0.1, random_state=0)\n",
    "gb_clf.fit(train_X, train_y)\n",
    "y_pred = gb_clf.predict_proba(val_X)\n",
    "print('GradientBoosting Logloss Score : ', log_loss(val_y, y_pred))\n",
    "print('GradientBoosting Accuracy Score: ', accuracy_score(val_y, np.argmax(y_pred, axis=1)))      "
   ]
  },
  {
   "cell_type": "markdown",
   "metadata": {},
   "source": [
    "### XGB"
   ]
  },
  {
   "cell_type": "code",
   "execution_count": 37,
   "metadata": {},
   "outputs": [
    {
     "name": "stdout",
     "output_type": "stream",
     "text": [
      "[13:47:04] WARNING: ..\\src\\learner.cc:1061: Starting in XGBoost 1.3.0, the default evaluation metric used with the objective 'binary:logistic' was changed from 'error' to 'logloss'. Explicitly set eval_metric if you'd like to restore the old behavior.\n",
      "XGB Logloss Score :  0.09394024879316255\n",
      "XGB Accuracy Score:  0.9697717458359038\n"
     ]
    }
   ],
   "source": [
    "from xgboost import XGBClassifier\n",
    "xgb_clf = XGBClassifier(random_state=0, n_estimators=500)\n",
    "xgb_clf.fit(train_X, train_y)\n",
    "y_pred = xgb_clf.predict_proba(val_X)\n",
    "print('XGB Logloss Score : ', log_loss(val_y, y_pred))\n",
    "print('XGB Accuracy Score: ', accuracy_score(val_y, np.argmax(y_pred, axis=1)))"
   ]
  },
  {
   "cell_type": "markdown",
   "metadata": {},
   "source": [
    "### LGBM"
   ]
  },
  {
   "cell_type": "code",
   "execution_count": 38,
   "metadata": {},
   "outputs": [
    {
     "name": "stdout",
     "output_type": "stream",
     "text": [
      "LGBM Logloss Score :  0.12179198130469687\n",
      "LGBM Accuracy Score:  0.9753238741517581\n"
     ]
    }
   ],
   "source": [
    "from lightgbm import LGBMClassifier\n",
    "lgbm_clf = LGBMClassifier(random_state=16, n_estimators=500)\n",
    "lgbm_clf.fit(train_X, train_y)\n",
    "y_pred = lgbm_clf.predict_proba(val_X)\n",
    "print('LGBM Logloss Score : ', log_loss(val_y, y_pred))\n",
    "print('LGBM Accuracy Score: ', accuracy_score(val_y, np.argmax(y_pred, axis=1)))"
   ]
  },
  {
   "cell_type": "markdown",
   "metadata": {},
   "source": [
    "### Stacking"
   ]
  },
  {
   "cell_type": "code",
   "execution_count": 39,
   "metadata": {},
   "outputs": [],
   "source": [
    "train_pred_li = []\n",
    "val_pred_li = []\n",
    "test_pred_li = []\n",
    "\n",
    "for clf in [bag_clf, rf_clf, gb_clf, lgbm_clf]:\n",
    "    clf.fit(train_X, train_y)\n",
    "    \n",
    "    y_train_pred = clf.predict_proba(train_X)\n",
    "    train_pred_li.append(y_train_pred)\n",
    "    \n",
    "    y_val_pred = clf.predict_proba(val_X)\n",
    "    val_pred_li.append(y_val_pred)\n",
    "    \n",
    "    y_test_pred = clf.predict_proba(X_test)\n",
    "    test_pred_li.append(y_test_pred)"
   ]
  },
  {
   "cell_type": "code",
   "execution_count": 40,
   "metadata": {},
   "outputs": [],
   "source": [
    "stacking_train = np.concatenate(train_pred_li, axis=1)\n",
    "stacking_val = np.concatenate(val_pred_li, axis=1)\n",
    "stacking_test = np.concatenate(test_pred_li, axis=1)"
   ]
  },
  {
   "cell_type": "code",
   "execution_count": 41,
   "metadata": {},
   "outputs": [
    {
     "name": "stdout",
     "output_type": "stream",
     "text": [
      "LogisticRegression Logloss Score :  0.10385031693064607\n",
      "LogisticRegression Accuracy Score :  0.9728562615669339\n"
     ]
    }
   ],
   "source": [
    "meta_model = LogisticRegression(random_state=0)\n",
    "\n",
    "meta_model.fit(stacking_train, train_y)\n",
    "y_pred = meta_model.predict_proba(stacking_val)\n",
    "print('LogisticRegression Logloss Score : ', log_loss(val_y, y_pred))\n",
    "print('LogisticRegression Accuracy Score : ', accuracy_score(val_y, np.argmax(y_pred, axis=1)))"
   ]
  },
  {
   "cell_type": "markdown",
   "metadata": {},
   "source": [
    "**후보 model**\n",
    "\n",
    "* BaggingClassifier\n",
    "* Gradient Boosting\n",
    "* XGB\n",
    "* LGBM"
   ]
  },
  {
   "cell_type": "markdown",
   "metadata": {},
   "source": [
    "### Tunning"
   ]
  },
  {
   "cell_type": "code",
   "execution_count": 51,
   "metadata": {},
   "outputs": [],
   "source": [
    "from sklearn.metrics import log_loss, make_scorer\n",
    "from sklearn.model_selection import GridSearchCV"
   ]
  },
  {
   "cell_type": "code",
   "execution_count": 54,
   "metadata": {},
   "outputs": [],
   "source": [
    "# Logloss를 줄이는 것이 목적이기 때문에 scoring을 logloss로 정의해줌\n",
    "LogLoss = make_scorer(log_loss, greater_is_better=False, needs_proba=True)"
   ]
  },
  {
   "cell_type": "markdown",
   "metadata": {},
   "source": [
    "**BaggingClassifier**"
   ]
  },
  {
   "cell_type": "code",
   "execution_count": 64,
   "metadata": {},
   "outputs": [
    {
     "name": "stdout",
     "output_type": "stream",
     "text": [
      "Fitting 5 folds for each of 8640 candidates, totalling 43200 fits\n"
     ]
    },
    {
     "data": {
      "text/plain": [
       "GridSearchCV(cv=5,\n",
       "             estimator=BaggingClassifier(base_estimator=DecisionTreeClassifier(random_state=0),\n",
       "                                         n_estimators=500, n_jobs=-1),\n",
       "             n_jobs=-1,\n",
       "             param_grid={'base_estimator__max_depth': [3, 5, 10, 20],\n",
       "                         'base_estimator__max_features': [None, 'auto'],\n",
       "                         'base_estimator__min_samples_leaf': [1, 3, 5, 7, 10],\n",
       "                         'base_estimator__min_samples_split': [2, 5, 7],\n",
       "                         'bootstrap_features': [False, True],\n",
       "                         'max_features': [0.5, 0.7, 1.0],\n",
       "                         'max_samples': [0.5, 0.7, 1.0],\n",
       "                         'n_estimators': [2, 5, 10, 20]},\n",
       "             return_train_score=True,\n",
       "             scoring=make_scorer(log_loss, greater_is_better=False, needs_proba=True),\n",
       "             verbose=3)"
      ]
     },
     "execution_count": 64,
     "metadata": {},
     "output_type": "execute_result"
    }
   ],
   "source": [
    "params = {\"base_estimator__max_depth\": [3,5,10,20],\n",
    "          \"base_estimator__max_features\": [None, \"auto\"],\n",
    "          \"base_estimator__min_samples_leaf\": [1, 3, 5, 7, 10],\n",
    "          \"base_estimator__min_samples_split\": [2, 5, 7],\n",
    "          'bootstrap_features': [False, True],\n",
    "          'max_features': [0.5, 0.7, 1.0],\n",
    "          'max_samples': [0.5, 0.7, 1.0],\n",
    "          'n_estimators': [2, 5, 10, 20],\n",
    "}\n",
    "\n",
    "grid_search = GridSearchCV(estimator=bag_clf, param_grid=params, cv=5,\n",
    "                          scoring=LogLoss,\n",
    "                          verbose=3,\n",
    "                          return_train_score=True,\n",
    "                          refit=True,\n",
    "                          n_jobs=-1)\n",
    "\n",
    "grid_search.fit(train_X, train_y)"
   ]
  },
  {
   "cell_type": "code",
   "execution_count": 65,
   "metadata": {},
   "outputs": [
    {
     "name": "stdout",
     "output_type": "stream",
     "text": [
      "GradientBoosting Logloss Score :  0.11569522336372991\n",
      "GradientBoosting Accuracy Score :  0.9561998766193708\n"
     ]
    }
   ],
   "source": [
    "tunned_bag = grid_search.best_estimator_\n",
    "tunned_bag_pred = tunned_bag.predict_proba(val_X)\n",
    "\n",
    "print('BaggingClassifier Logloss Score : ', log_loss(val_y, tunned_bag_pred))\n",
    "print('BaggingClassifier Accuracy Score : ', accuracy_score(val_y, np.argmax(tunned_bag_pred, axis=1)))"
   ]
  },
  {
   "cell_type": "markdown",
   "metadata": {},
   "source": [
    "before tunning\n",
    "* **BaggingClassifier Logloss Score :  0.1070783526229743**\n",
    "* BaggingClassifier Accuracy Score:  0.958667489204195\n",
    "\n",
    "after tunning\n",
    "* BaggingClassifier Logloss Score :  0.11569522336372991\n",
    "* BaggingClassifier Accuracy Score :  0.9561998766193708\n",
    "\n",
    "튜닝 결과 성능이 더 안좋아짐."
   ]
  },
  {
   "cell_type": "markdown",
   "metadata": {},
   "source": [
    "**Gradient Boosting**"
   ]
  },
  {
   "cell_type": "code",
   "execution_count": 66,
   "metadata": {},
   "outputs": [
    {
     "name": "stdout",
     "output_type": "stream",
     "text": [
      "Fitting 5 folds for each of 12 candidates, totalling 60 fits\n"
     ]
    },
    {
     "data": {
      "text/plain": [
       "GridSearchCV(cv=5,\n",
       "             estimator=GradientBoostingClassifier(n_estimators=500,\n",
       "                                                  random_state=0),\n",
       "             n_jobs=-1,\n",
       "             param_grid={'learning_rate': [0.05, 0.1], 'max_depth': [4, 6, 8],\n",
       "                         'n_estimators': [100, 500]},\n",
       "             return_train_score=True,\n",
       "             scoring=make_scorer(log_loss, greater_is_better=False, needs_proba=True),\n",
       "             verbose=3)"
      ]
     },
     "execution_count": 66,
     "metadata": {},
     "output_type": "execute_result"
    }
   ],
   "source": [
    "params = {\n",
    "    'max_depth':[4,6,8],\n",
    "    'n_estimators' : [100,500],\n",
    "    'learning_rate' : [0.05,0.1]\n",
    "}\n",
    "\n",
    "grid_search = GridSearchCV(estimator=gb_clf, param_grid=params, cv=5, \n",
    "                           scoring=LogLoss, \n",
    "                           verbose = 3, \n",
    "                           return_train_score=True, \n",
    "                           refit = True, \n",
    "                           n_jobs=-1)\n",
    "\n",
    "grid_search.fit(train_X, train_y)"
   ]
  },
  {
   "cell_type": "code",
   "execution_count": 67,
   "metadata": {},
   "outputs": [
    {
     "name": "stdout",
     "output_type": "stream",
     "text": [
      "GradientBoosting Logloss Score :  0.07429146838977384\n",
      "GradientBoosting Accuracy Score :  0.9716224552745218\n"
     ]
    }
   ],
   "source": [
    "tunned_gb = grid_search.best_estimator_\n",
    "tunned_gb_pred = tunned_gb.predict_proba(val_X)\n",
    "\n",
    "print('GradientBoosting Logloss Score : ', log_loss(val_y, tunned_gb_pred))\n",
    "print('GradientBoosting Accuracy Score : ', accuracy_score(val_y, np.argmax(tunned_gb_pred, axis=1)))"
   ]
  },
  {
   "cell_type": "markdown",
   "metadata": {},
   "source": [
    "before tunning\n",
    "* **GradientBoosting Logloss Score :  0.07297967170448191**\n",
    "* GradientBoosting Accuracy Score:  0.972239358420728\n",
    "\n",
    "after tunning\n",
    "* GradientBoosting Logloss Score :  0.07429146838977384\n",
    "* GradientBoosting Accuracy Score :  0.9716224552745218\n",
    "\n",
    "튜닝 결과 성능이 더 안좋아짐."
   ]
  },
  {
   "cell_type": "markdown",
   "metadata": {},
   "source": [
    "**XGB**"
   ]
  },
  {
   "cell_type": "code",
   "execution_count": 42,
   "metadata": {},
   "outputs": [
    {
     "name": "stdout",
     "output_type": "stream",
     "text": [
      "Fitting 5 folds for each of 81 candidates, totalling 405 fits\n",
      "[13:56:44] WARNING: ..\\src\\learner.cc:1061: Starting in XGBoost 1.3.0, the default evaluation metric used with the objective 'binary:logistic' was changed from 'error' to 'logloss'. Explicitly set eval_metric if you'd like to restore the old behavior.\n"
     ]
    },
    {
     "data": {
      "text/plain": [
       "GridSearchCV(cv=5,\n",
       "             estimator=XGBClassifier(base_score=0.5, booster='gbtree',\n",
       "                                     colsample_bylevel=1, colsample_bynode=1,\n",
       "                                     colsample_bytree=1, gamma=0, gpu_id=-1,\n",
       "                                     importance_type='gain',\n",
       "                                     interaction_constraints='',\n",
       "                                     learning_rate=0.300000012,\n",
       "                                     max_delta_step=0, max_depth=6,\n",
       "                                     min_child_weight=1, missing=nan,\n",
       "                                     monotone_constraints='()',\n",
       "                                     n_estimators=500, n_jobs=8,\n",
       "                                     num_parallel...\n",
       "                                     reg_alpha=0, reg_lambda=1,\n",
       "                                     scale_pos_weight=1, subsample=1,\n",
       "                                     tree_method='exact', validate_parameters=1,\n",
       "                                     verbosity=None),\n",
       "             n_jobs=-1,\n",
       "             param_grid={'colsample_bylevel': [0.5, 0.7, 1],\n",
       "                         'colsample_bytree': [0.5, 0.7, 1],\n",
       "                         'max_depth': [4, 6, 8],\n",
       "                         'n_estimators': range(500, 901, 200)},\n",
       "             return_train_score=True,\n",
       "             scoring=make_scorer(log_loss, greater_is_better=False, needs_proba=True),\n",
       "             verbose=3)"
      ]
     },
     "execution_count": 42,
     "metadata": {},
     "output_type": "execute_result"
    }
   ],
   "source": [
    "param = {\n",
    "    'max_depth':[4,6,8],\n",
    "    'n_estimators':range(500,901,200),\n",
    "    'colsample_bytree':[0.5,0.7,1],\n",
    "    'colsample_bylevel':[0.5,0.7,1],\n",
    "}\n",
    "\n",
    "grid_search = GridSearchCV(estimator=xgb_clf, param_grid=param, cv=5, \n",
    "                           scoring=LogLoss,\n",
    "                           verbose = 3,\n",
    "                           return_train_score = True,\n",
    "                           refit = True,\n",
    "                           n_jobs=-1)\n",
    "\n",
    "grid_search.fit(train_X, train_y)"
   ]
  },
  {
   "cell_type": "code",
   "execution_count": 48,
   "metadata": {},
   "outputs": [
    {
     "name": "stdout",
     "output_type": "stream",
     "text": [
      "XGB Logloss Score :  0.09099749927791217\n",
      "XGB Accuracy Score :  0.9710055521283159\n"
     ]
    }
   ],
   "source": [
    "tunned_xgb = grid_search.best_estimator_\n",
    "tunned_xgb_pred = tunned_xgb.predict_proba(val_X)\n",
    "\n",
    "print('XGB Logloss Score : ', log_loss(val_y, tunned_xgb_pred))\n",
    "print('XGB Accuracy Score : ', accuracy_score(val_y, np.argmax(tunned_xgb_pred, axis=1)))"
   ]
  },
  {
   "cell_type": "markdown",
   "metadata": {},
   "source": [
    "before tunning\n",
    "* XGB Logloss Score :  0.09394024879316255\n",
    "* XGB Accuracy Score:  0.9697717458359038\n",
    "\n",
    "after tunning\n",
    "* **XGB Logloss Score :  0.09099749927791217**\n",
    "* XGB Accuracy Score :  0.9710055521283159\n",
    "\n",
    "성능이 향상됨."
   ]
  },
  {
   "cell_type": "markdown",
   "metadata": {},
   "source": [
    "**LGBM**"
   ]
  },
  {
   "cell_type": "code",
   "execution_count": 49,
   "metadata": {},
   "outputs": [
    {
     "name": "stdout",
     "output_type": "stream",
     "text": [
      "Fitting 5 folds for each of 36 candidates, totalling 180 fits\n",
      "[LightGBM] [Warning] boosting is set=dart, boosting_type=gbdt will be ignored. Current value: boosting=dart\n"
     ]
    },
    {
     "data": {
      "text/plain": [
       "GridSearchCV(cv=5, estimator=LGBMClassifier(n_estimators=500, random_state=16),\n",
       "             n_jobs=-1,\n",
       "             param_grid={'application': ['regression', 'binary'],\n",
       "                         'boosting': ['gbdt', 'dart'], 'max_depth': [4, 6, 8],\n",
       "                         'n_estimators': range(100, 701, 300)},\n",
       "             return_train_score=True,\n",
       "             scoring=make_scorer(log_loss, greater_is_better=False, needs_proba=True),\n",
       "             verbose=3)"
      ]
     },
     "execution_count": 49,
     "metadata": {},
     "output_type": "execute_result"
    }
   ],
   "source": [
    "param = {\n",
    "    'application': ['regression','binary'],\n",
    "    'max_depth':[4,6,8],\n",
    "    'n_estimators':range(100,701,300),\n",
    "    'boosting' : ['gbdt','dart']\n",
    "}\n",
    "\n",
    "lgbm_grid_search = GridSearchCV(estimator=lgbm_clf, param_grid=param, cv=5, \n",
    "                           scoring=LogLoss,\n",
    "                           verbose = 3,\n",
    "                           return_train_score = True,\n",
    "                           refit = True,\n",
    "                           n_jobs=-1)\n",
    "\n",
    "lgbm_grid_search.fit(train_X, train_y)"
   ]
  },
  {
   "cell_type": "code",
   "execution_count": 50,
   "metadata": {},
   "outputs": [
    {
     "name": "stdout",
     "output_type": "stream",
     "text": [
      "LGBM Logloss Score :  0.06845631803975931\n",
      "LGBM Accuracy Score :  0.9747069710055521\n"
     ]
    }
   ],
   "source": [
    "tunned_lgbm = lgbm_grid_search.best_estimator_\n",
    "tunned_lgbm_pred = tunned_lgbm.predict_proba(val_X)\n",
    "\n",
    "print('LGBM Logloss Score : ', log_loss(val_y, tunned_lgbm_pred))\n",
    "print('LGBM Accuracy Score : ', accuracy_score(val_y, np.argmax(tunned_lgbm_pred, axis=1)))"
   ]
  },
  {
   "cell_type": "markdown",
   "metadata": {},
   "source": [
    "before tunning\n",
    "* LGBM Logloss Score :  0.12179198130469687\n",
    "* LGBM Accuracy Score:  0.9753238741517581\n",
    "\n",
    "after tunning\n",
    "* **LGBM Logloss Score :  0.06845631803975931**\n",
    "* LGBM Accuracy Score :  0.9747069710055521\n",
    "\n",
    "성능이 많이 향상됨."
   ]
  },
  {
   "cell_type": "markdown",
   "metadata": {},
   "source": [
    "logloss값이 가장 낮은 tunned_LGBM을 최종 모델로 선정함."
   ]
  },
  {
   "cell_type": "markdown",
   "metadata": {
    "id": "UmPqzs9P3wHG"
   },
   "source": [
    "# 예측\n",
    "\n",
    "저는 Stacking 사용했지만 16기 분들은 다양한 방식을 활용해서 모델의 성능을 높여주세요!"
   ]
  },
  {
   "cell_type": "code",
   "execution_count": 70,
   "metadata": {},
   "outputs": [],
   "source": [
    "lgbm_pred = tunned_lgbm.predict_proba(test)"
   ]
  },
  {
   "cell_type": "code",
   "execution_count": 72,
   "metadata": {},
   "outputs": [
    {
     "data": {
      "text/html": [
       "<div>\n",
       "<style scoped>\n",
       "    .dataframe tbody tr th:only-of-type {\n",
       "        vertical-align: middle;\n",
       "    }\n",
       "\n",
       "    .dataframe tbody tr th {\n",
       "        vertical-align: top;\n",
       "    }\n",
       "\n",
       "    .dataframe thead th {\n",
       "        text-align: right;\n",
       "    }\n",
       "</style>\n",
       "<table border=\"1\" class=\"dataframe\">\n",
       "  <thead>\n",
       "    <tr style=\"text-align: right;\">\n",
       "      <th></th>\n",
       "      <th>id</th>\n",
       "      <th>Existing Customer</th>\n",
       "      <th>Attrited Customer</th>\n",
       "    </tr>\n",
       "  </thead>\n",
       "  <tbody>\n",
       "    <tr>\n",
       "      <th>0</th>\n",
       "      <td>0</td>\n",
       "      <td>0.998394</td>\n",
       "      <td>0.001606</td>\n",
       "    </tr>\n",
       "    <tr>\n",
       "      <th>1</th>\n",
       "      <td>1</td>\n",
       "      <td>0.995334</td>\n",
       "      <td>0.004666</td>\n",
       "    </tr>\n",
       "    <tr>\n",
       "      <th>2</th>\n",
       "      <td>2</td>\n",
       "      <td>0.893396</td>\n",
       "      <td>0.106604</td>\n",
       "    </tr>\n",
       "    <tr>\n",
       "      <th>3</th>\n",
       "      <td>3</td>\n",
       "      <td>0.998036</td>\n",
       "      <td>0.001964</td>\n",
       "    </tr>\n",
       "    <tr>\n",
       "      <th>4</th>\n",
       "      <td>4</td>\n",
       "      <td>0.999825</td>\n",
       "      <td>0.000175</td>\n",
       "    </tr>\n",
       "  </tbody>\n",
       "</table>\n",
       "</div>"
      ],
      "text/plain": [
       "   id  Existing Customer  Attrited Customer\n",
       "0   0           0.998394           0.001606\n",
       "1   1           0.995334           0.004666\n",
       "2   2           0.893396           0.106604\n",
       "3   3           0.998036           0.001964\n",
       "4   4           0.999825           0.000175"
      ]
     },
     "execution_count": 72,
     "metadata": {},
     "output_type": "execute_result"
    }
   ],
   "source": [
    "submission.iloc[:,1:] = lgbm_pred\n",
    "submission.to_csv(data_dir + 'tunned_lgbm.csv', index=False)\n",
    "submission.head()"
   ]
  },
  {
   "cell_type": "code",
   "execution_count": null,
   "metadata": {
    "id": "pn-Ctg1PKDcg"
   },
   "outputs": [],
   "source": []
  }
 ],
 "metadata": {
  "colab": {
   "authorship_tag": "ABX9TyNMdl/swhUKVRoJv83mfyxT",
   "collapsed_sections": [],
   "name": "Week4_Ensemble_Assignment.ipynb",
   "provenance": []
  },
  "kernelspec": {
   "display_name": "Python 3",
   "language": "python",
   "name": "python3"
  },
  "language_info": {
   "codemirror_mode": {
    "name": "ipython",
    "version": 3
   },
   "file_extension": ".py",
   "mimetype": "text/x-python",
   "name": "python",
   "nbconvert_exporter": "python",
   "pygments_lexer": "ipython3",
   "version": "3.8.8"
  }
 },
 "nbformat": 4,
 "nbformat_minor": 1
}
